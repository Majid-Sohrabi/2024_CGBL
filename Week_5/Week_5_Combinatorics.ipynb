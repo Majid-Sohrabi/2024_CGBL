{
 "cells": [
  {
   "cell_type": "markdown",
   "id": "66755134",
   "metadata": {},
   "source": [
    "# Semianr 5 - Combinatoris, Graph, Boolean Logic"
   ]
  },
  {
   "cell_type": "markdown",
   "id": "1209d8ca",
   "metadata": {},
   "source": [
    "## Problem 1: Total Number of possible Binary Search Trees and Binary Trees with n keys\n",
    "\n",
    "Total number of possible Binary Search Trees with n different keys:\n",
    "\n",
    "$$\n",
    "countBST(n) = CatalanNumber Cn = (2*n)! / ((n+1)! * n!)\n",
    "$$\n",
    "\n",
    "For n = 0, 1, 2, 3, … values of Catalan numbers are 1, 1, 2, 5, 14, 42, 132, 429, 1430, 4862, …. So are numbers of Binary Search Trees.\n",
    "\n",
    "Total number of possible Binary Trees with n different keys:\n",
    "\n",
    "$$\n",
    "countBT(n) = countBST(n) * n!\n",
    "$$"
   ]
  },
  {
   "cell_type": "code",
   "execution_count": null,
   "id": "54a79a69",
   "metadata": {},
   "outputs": [],
   "source": [
    "def factorial(n):\n",
    "    temp = 1\n",
    "    for i in range(1, n+1):\n",
    "        temp *= i\n",
    "    return temp\n",
    "\n",
    "def binomialCoeef(n, k):\n",
    "    temp = 1\n",
    "    \n",
    "    for i in range(k):\n",
    "        temp *= (n-i)\n",
    "        temp //= (i+1)\n",
    "    return temp\n",
    "\n",
    "def catalan(n):\n",
    "    c = binomialCoeef(2*n, n)\n",
    "    return c // (n+1)\n",
    "\n",
    "def countBST(n):\n",
    "    count = catalan(n)\n",
    "    return count\n",
    "\n",
    "def countBT(n):\n",
    "    count = catalan(n)\n",
    "    return count * factorial(n)\n",
    "\n",
    "n = 5\n",
    "\n",
    "count_BST = countBST(n)\n",
    "count_BT = countBT(n)\n",
    "\n",
    "print(f'Number of Binary Search Trees by {n} is {count_BST}')\n",
    "print(f'Number of Binary Trees by {n} is {count_BT}')"
   ]
  },
  {
   "cell_type": "code",
   "execution_count": null,
   "id": "459b385c",
   "metadata": {},
   "outputs": [],
   "source": []
  },
  {
   "cell_type": "code",
   "execution_count": null,
   "id": "e9ed95b7",
   "metadata": {},
   "outputs": [],
   "source": []
  },
  {
   "cell_type": "code",
   "execution_count": null,
   "id": "a06bd919",
   "metadata": {},
   "outputs": [],
   "source": []
  },
  {
   "cell_type": "markdown",
   "id": "a0dfca28",
   "metadata": {},
   "source": [
    "## Problem 2:\n",
    "\n",
    "Let's consider we have some coins in our list and we have an amount of change we need to make.\n",
    "\n",
    "Do it in as few pieces as you can.\n",
    "\n",
    "### Greedy Algorithm"
   ]
  },
  {
   "cell_type": "code",
   "execution_count": null,
   "id": "60cdd59a",
   "metadata": {},
   "outputs": [],
   "source": [
    "# coins = [penny, nickle, dime, quarter, dollar]\n",
    "\n",
    "coins = [0.01, 0.05, 0.1, 0.25, 1.0, 5.0]\n",
    "\n",
    "# 4.33\n",
    "\n",
    "def to_return(to_change, coins):\n",
    "    \n",
    "    coins.sort()\n",
    "    \n",
    "    temp = None\n",
    "    \n",
    "    for c in coins:\n",
    "        if c == to_change:\n",
    "            return [c]\n",
    "        \n",
    "        if c < to_change:\n",
    "            temp = c\n",
    "            \n",
    "        current_balance = round((to_change - temp), 2)\n",
    "        \n",
    "    return [temp] + to_return(current_balance, coins)"
   ]
  },
  {
   "cell_type": "code",
   "execution_count": null,
   "id": "a6b550ff",
   "metadata": {},
   "outputs": [],
   "source": [
    "result = to_return(4.33, coins)\n",
    "result"
   ]
  },
  {
   "cell_type": "code",
   "execution_count": null,
   "id": "aa8e94e4",
   "metadata": {},
   "outputs": [],
   "source": [
    "# Flattening the nested list\n",
    "result = [1.0, [1.0, [1.0, [1.0, [0.25, [0.05, [0.01, [0.01, 0.01]]]]]]]]\n",
    "\n",
    "def flatten(my_list):\n",
    "    for item in my_list:\n",
    "        try:\n",
    "            yield from flatten(item)\n",
    "        except TypeError:\n",
    "            yield item\n",
    "            \n",
    "assert round(sum(list(flatten(result))), 2) == 4.33"
   ]
  },
  {
   "cell_type": "code",
   "execution_count": null,
   "id": "0526860d",
   "metadata": {},
   "outputs": [],
   "source": [
    "list(flatten(result))"
   ]
  },
  {
   "cell_type": "code",
   "execution_count": null,
   "id": "7a196560",
   "metadata": {},
   "outputs": [],
   "source": [
    "assert round(sum(list(flatten(result))), 2) == 4.33"
   ]
  },
  {
   "cell_type": "code",
   "execution_count": null,
   "id": "10fa0772",
   "metadata": {},
   "outputs": [],
   "source": []
  },
  {
   "cell_type": "code",
   "execution_count": null,
   "id": "47fe4423",
   "metadata": {},
   "outputs": [],
   "source": []
  },
  {
   "cell_type": "code",
   "execution_count": null,
   "id": "489c846d",
   "metadata": {},
   "outputs": [],
   "source": []
  },
  {
   "cell_type": "markdown",
   "id": "3141d9e9",
   "metadata": {},
   "source": [
    "## Problem 3: Coin Change Problem\n",
    "\n",
    "### Method 3.1\n",
    "\n",
    "**Senario:** Consider we have a list of **coins** with the length of **N** which considered as different ratio of currency and a value as **sum**.\n",
    "\n",
    "Our task is to find the numebr of ways to make this sum by using the combination of elements in the list.\n",
    "\n",
    "**Assumption**: the number of each ratio is unlimited (you can use each several times)\n",
    "\n",
    "\n",
    "- **Example:** lets assume we have **sum=100, coins={10, 25}**\n",
    "\n",
    "- **output:** 3\n",
    "\n",
    "- **Possible varient:** {10 * 10}, {25 * 4}, {25 + 25 + (10 * 5)}\n",
    "\n",
    "\n",
    "We are going to follow the bellow idea to solve the problem:\n",
    "\n",
    "- Two choice exist for a coin of a particular ratio\n",
    "\n",
    "     1) to include\n",
    "     \n",
    "     2) to exclude\n",
    "     \n",
    "- If we are at coins[n-1], we can take as many instances of that coin (unbounded inclusion) i.e **count(coins, n, sum-coins[n-1])**; then we move to coins[n-2].\n",
    "\n",
    "- After moving to coins[n-2], we can't move back and can't make choices for coins[n-1] i.e **count(coins, n-1, sum)**.\n",
    "\n",
    "- Finally, as we have to find the total number of ways, so we will add these 2 possible choices, i.e **count(coins, n, sum-coins[n-1]) + count(coins, n-1, sum);**"
   ]
  },
  {
   "cell_type": "code",
   "execution_count": null,
   "id": "4a90e134",
   "metadata": {},
   "outputs": [],
   "source": [
    "# count_1(coins, len(coins), _sum)\n",
    "\n",
    "def count_1(coins, n, _sum):\n",
    "    \n",
    "    # Case 1: if sum is 0 then there is 1 solution\n",
    "    if _sum == 0:\n",
    "        return 1\n",
    "    \n",
    "    # Case 2: if sum<0 then there is no solution\n",
    "    if _sum<0:\n",
    "        return 0\n",
    "    \n",
    "    # Case 3: if there is no coins and sum>0\n",
    "    if n<= 0:\n",
    "        return 0\n",
    "    return count_1(coins, n-1, _sum) + count_1(coins, n, _sum-coins[n-1])"
   ]
  },
  {
   "cell_type": "code",
   "execution_count": null,
   "id": "ef175632",
   "metadata": {},
   "outputs": [],
   "source": [
    "# Example 1\n",
    "\n",
    "coins = [10, 25]\n",
    "print(count_1(coins, len(coins), 100))"
   ]
  },
  {
   "cell_type": "code",
   "execution_count": null,
   "id": "d726eb55",
   "metadata": {},
   "outputs": [],
   "source": [
    "# Example 2\n",
    "\n",
    "coins = [1,2,3]\n",
    "print(count_1(coins, len(coins), 4))"
   ]
  },
  {
   "cell_type": "code",
   "execution_count": null,
   "id": "364024c7",
   "metadata": {},
   "outputs": [],
   "source": [
    "# Example 3\n",
    "\n",
    "coins = [2, 5, 3, 6]\n",
    "print(count_1(coins, len(coins), 10))"
   ]
  },
  {
   "cell_type": "code",
   "execution_count": null,
   "id": "24f669cd",
   "metadata": {},
   "outputs": [],
   "source": []
  },
  {
   "cell_type": "code",
   "execution_count": null,
   "id": "c50f4bba",
   "metadata": {},
   "outputs": [],
   "source": []
  }
 ],
 "metadata": {
  "kernelspec": {
   "display_name": "Python 3 (ipykernel)",
   "language": "python",
   "name": "python3"
  },
  "language_info": {
   "codemirror_mode": {
    "name": "ipython",
    "version": 3
   },
   "file_extension": ".py",
   "mimetype": "text/x-python",
   "name": "python",
   "nbconvert_exporter": "python",
   "pygments_lexer": "ipython3",
   "version": "3.10.9"
  }
 },
 "nbformat": 4,
 "nbformat_minor": 5
}
