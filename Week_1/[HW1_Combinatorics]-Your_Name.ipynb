{
 "cells": [
  {
   "cell_type": "markdown",
   "id": "b49abdc9",
   "metadata": {},
   "source": [
    "# HW 1 - Combinatorics\n",
    "\n",
    "### Please, fill in before you start:\n",
    "\n",
    "First Name:\n",
    "\n",
    "Last Name:\n",
    "\n",
    "Group:\n",
    "\n",
    "### After the assigment is done, please, push it to your [private GitHub repository](https://docs.github.com/en/github/administering-a-repository/managing-repository-settings/setting-repository-visibility) and invite [Majid-Sohrabi](https://github.com/Majid-Sohrabi)  and [Sifei-Meng](https://github.com/mengsifei) as [collaborator](https://docs.github.com/en/account-and-profile/setting-up-and-managing-your-github-user-account/managing-access-to-your-personal-repositories/inviting-collaborators-to-a-personal-repository).\n",
    "\n",
    "Try to solve the same problem as we discussed during our seminar with more sample data by an `arbitrary Brute Force algorithm`. You can use the code below to generate the synthetic dataset, if your algorithm is slow, you can adjust the parameters to produce less dataset. BASE_SIZE not less than 100 and coef not less than 5.\n",
    "\n",
    "- Please create a private GitHub repository and add Majid as collaborator. Commit your solution (jupyter notebook) to your github repository.\n",
    "\n",
    "- Deadline: **January 27, 2024, 11:59 pm.**\n",
    "\n",
    "- Name of the Jupyter notebook: **[HW1_Combinatorics]-YOUR_NAME**"
   ]
  },
  {
   "cell_type": "markdown",
   "id": "f7a99efb",
   "metadata": {},
   "source": [
    "### Generate Data "
   ]
  },
  {
   "cell_type": "code",
   "execution_count": null,
   "id": "79bfae5f",
   "metadata": {},
   "outputs": [],
   "source": [
    "import numpy as np\n",
    "import pandas as pd\n",
    "import datetime\n",
    "import time\n",
    "import random\n",
    "\n",
    "BASE_SIZE = 1000\n",
    "\n",
    "def date_to_sec(date):\n",
    "    return time.mktime(datetime.datetime.strptime(date, \"%d.%m.%Y\").timetuple())\n",
    "\n",
    "\n",
    "def generate_resources(size=BASE_SIZE):\n",
    "    data_res = [[i, 'A' + str(i)] for i in range(1, size + 1)]\n",
    "    return pd.DataFrame(data_res, columns=['ID', 'Name'])\n",
    "\n",
    "\n",
    "def generate_projects(size=BASE_SIZE):\n",
    "    # start \n",
    "    mintime_ts = time.mktime(datetime.datetime.strptime(\"6.8.2021\", \"%d.%m.%Y\").timetuple())\n",
    "    maxtime_ts = time.mktime(datetime.datetime.strptime(\"6.12.2021\", \"%d.%m.%Y\").timetuple())\n",
    "\n",
    "    RANDOMTIME_start = []\n",
    "    for _ in range(size):\n",
    "        random_ts = random.randint(mintime_ts, maxtime_ts)\n",
    "        RANDOMTIME_start.append(datetime.datetime.fromtimestamp(random_ts).strftime(\"%d.%m.%Y\"))\n",
    "\n",
    "    # end\n",
    "    mintime_ts = time.mktime(datetime.datetime.strptime(\"30.8.2021\", \"%d.%m.%Y\").timetuple())\n",
    "    maxtime_ts = time.mktime(datetime.datetime.strptime(\"30.12.2021\", \"%d.%m.%Y\").timetuple())\n",
    "\n",
    "    RANDOMTIME_end = []\n",
    "    for _ in range(size):\n",
    "        random_ts = random.randint(mintime_ts, maxtime_ts)\n",
    "        RANDOMTIME_end.append(datetime.datetime.fromtimestamp(random_ts).strftime(\"%d.%m.%Y\"))\n",
    "\n",
    "    # fix cases when start > end\n",
    "    for i in range(len(RANDOMTIME_start)):\n",
    "        if date_to_sec(RANDOMTIME_start[i]) > date_to_sec(RANDOMTIME_end[i]):\n",
    "            RANDOMTIME_start[i], RANDOMTIME_end[i] = RANDOMTIME_end[i], RANDOMTIME_start[i]\n",
    "\n",
    "    data_proj = [[i + 1, 'z' + str(i + 1), RANDOMTIME_start[i], RANDOMTIME_end[i]] for i in range(size)]\n",
    "\n",
    "    return pd.DataFrame(data_proj, columns=['ID', 'Name', 'Start Time', 'End Time'])\n",
    "   \n",
    "\n",
    "\n",
    "def generate_expertise(coef, df_resources, df_projects):\n",
    "    size = len(df_resources) * coef\n",
    "    \n",
    "    res_ID_ = list(np.random.choice(df_resources['ID'], size, replace=True))\n",
    "    proj_ID_ = list(np.random.choice(df_projects['ID'], size, replace=True))\n",
    "\n",
    "    random.shuffle(res_ID_)\n",
    "    random.shuffle(proj_ID_)\n",
    "\n",
    "    data_exper = [[i + 1, res_ID_[i], proj_ID_[i]] for i in range(size)]\n",
    "    \n",
    "    return pd.DataFrame(data_exper, columns=['ID', 'ID_res', 'ID_pro'])\n",
    "\n",
    "\n",
    "def generate_all_data(size=BASE_SIZE, coef=20):\n",
    "    df_resources = generate_resources(size)\n",
    "    df_projects = generate_projects(size)\n",
    "    df_expertise = generate_expertise(coef, df_resources, df_projects)\n",
    "    return df_resources, df_projects, df_expertise"
   ]
  },
  {
   "cell_type": "code",
   "execution_count": null,
   "id": "8a3e8a9b",
   "metadata": {},
   "outputs": [],
   "source": [
    "# generate data, size can be changed\n",
    "df_resources, df_projects, df_expertise = generate_all_data()"
   ]
  },
  {
   "cell_type": "code",
   "execution_count": null,
   "id": "43cd3f90",
   "metadata": {},
   "outputs": [],
   "source": [
    "df_resources.tail()"
   ]
  },
  {
   "cell_type": "code",
   "execution_count": null,
   "id": "a939c511",
   "metadata": {},
   "outputs": [],
   "source": [
    "df_projects.tail()"
   ]
  },
  {
   "cell_type": "code",
   "execution_count": null,
   "id": "fa68d5dc",
   "metadata": {},
   "outputs": [],
   "source": [
    "df_expertise.tail()"
   ]
  },
  {
   "cell_type": "code",
   "execution_count": null,
   "id": "06c077ab",
   "metadata": {
    "scrolled": true
   },
   "outputs": [],
   "source": [
    "# fix cases when there are projects without resources\n",
    "\n",
    "for id_ in df_projects['ID']:\n",
    "    if not any(df_expertise['ID_pro'] == id_):\n",
    "        cur_res = np.random.choice(df_resources['ID'], 1)[0]\n",
    "        new_expertise = pd.DataFrame([[len(df_expertise) + 1, cur_res, id_]], columns=['ID', 'ID_res', 'ID_pro'])\n",
    "        df_expertise = pd.concat([df_expertise, new_expertise], ignore_index=True)\n",
    "\n",
    "df_expertise"
   ]
  },
  {
   "cell_type": "markdown",
   "id": "ce3278b2",
   "metadata": {},
   "source": [
    "## Brute Force Method"
   ]
  },
  {
   "cell_type": "code",
   "execution_count": null,
   "id": "c161d8c5",
   "metadata": {},
   "outputs": [],
   "source": [
    "<YOUR CODE>"
   ]
  },
  {
   "cell_type": "code",
   "execution_count": null,
   "id": "10d633b0",
   "metadata": {},
   "outputs": [],
   "source": [
    "<YOUR CODE>"
   ]
  },
  {
   "cell_type": "markdown",
   "id": "edf5bf27",
   "metadata": {},
   "source": [
    "## Check the Solution Found\n",
    "\n",
    "to see if it's valid. You can use the same function for seminar."
   ]
  },
  {
   "cell_type": "code",
   "execution_count": null,
   "id": "086ab374",
   "metadata": {},
   "outputs": [],
   "source": [
    "<YOUR CODE>"
   ]
  },
  {
   "cell_type": "code",
   "execution_count": null,
   "id": "26e148a0",
   "metadata": {},
   "outputs": [],
   "source": []
  }
 ],
 "metadata": {
  "kernelspec": {
   "display_name": "Python 3 (ipykernel)",
   "language": "python",
   "name": "python3"
  },
  "language_info": {
   "codemirror_mode": {
    "name": "ipython",
    "version": 3
   },
   "file_extension": ".py",
   "mimetype": "text/x-python",
   "name": "python",
   "nbconvert_exporter": "python",
   "pygments_lexer": "ipython3",
   "version": "3.10.9"
  }
 },
 "nbformat": 4,
 "nbformat_minor": 5
}
