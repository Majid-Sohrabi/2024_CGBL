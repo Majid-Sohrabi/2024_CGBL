{
 "cells": [
  {
   "cell_type": "markdown",
   "id": "66755134",
   "metadata": {},
   "source": [
    "# Semianr 1 - Combinatoris, Graph, Boolean Logic\n",
    "\n",
    "## Definitions\n",
    "\n",
    "**Brute Force:** straightforward methods of solving a problem that rely on sheer computing power and trying every possibility rather than advanced techniques to improve efficiency. [link](https://textbooks.cs.ksu.edu/cc310/4-data-structures-and-algorithms/12-brute-force/#:~:text=Simply%20put%2C%20a%20brute%20force,over%20and%20try%20the%20other.)\n",
    "\n",
    "- A brute force algorithm solves a problem through exhaustion: it goes through all possible choices until a solution is found.\n",
    "\n",
    "- The time complexity of a brute force algorithm is often proportional to the input size.\n",
    "\n",
    "- Brute force algorithms are simple and consistent, but very slow.\n",
    "\n",
    "**Depth First Search (DFS) Algorithm:** [link](https://www.programiz.com/dsa/graph-dfs)\n",
    "\n",
    "**Complexity:** a measure of the amount of time and/or space required by an algorithm for an input of a given size (n)\n",
    "\n",
    "**Database:** in computing, a database is an organized collection of data stored and accessed electronically."
   ]
  },
  {
   "cell_type": "code",
   "execution_count": null,
   "id": "c8aa7a0c",
   "metadata": {},
   "outputs": [],
   "source": [
    "import pandas as pd"
   ]
  },
  {
   "cell_type": "markdown",
   "id": "b7974257",
   "metadata": {},
   "source": [
    "## Problem Definition\n",
    "\n",
    "Consider three databases `df_resources`, `df_projects`, `df_expertise`,\n",
    "\n",
    "1. **df_resources**: consisting of the id, and name of the recourses available.\n",
    "2. **df_projects**: consists of id, name of the project, and duration of the project based on start and end time.\n",
    "3. **df_expertise**: consists of the id, id of the recourse, and id of the project. This table is also called the allocation table.\n",
    "\n",
    "In this problem, we want to find a (or all) feasible solution for completing the projects with the available resources.\n",
    "\n",
    "Based on the last table `df_expertise`, there are some situations when several resources are allocated to a single project.\n",
    "\n",
    "We have a limitation which is some projects have overlap for their duration based on the start and the end time of the project.\n",
    "\n",
    "**Restriction**: One resource can not be allocated to two (or more) projects when there is an overlap in the timetable. However, a single resource can work on more than one project if there is no overlap in their timing.\n",
    "\n",
    "You can define a solution by a list of numbers like `[3, 4, 2, 1, 5, 1]`, the index of this list is the project and the elements are the id of the resources.\n",
    "\n",
    "```\n",
    "if solution is [3, 4, 2, 1, 5, 1] it means:\n",
    "\n",
    "project_1  <--  Resource 3\n",
    "project_2  <--  Resource 4\n",
    "project_3  <--  Resource 2\n",
    "project_4  <--  Resource 1\n",
    "project_5  <--  Resource 5\n",
    "project_6  <--  Resource 1\n",
    "```\n",
    "\n",
    "In this example, it means projects 4 and 6 have no overlap in their timing, that's why recourse 1 is allocated to both.\n",
    "\n",
    "### Requirements"
   ]
  },
  {
   "cell_type": "code",
   "execution_count": null,
   "id": "42292e23",
   "metadata": {},
   "outputs": [],
   "source": [
    "df_resources = pd.DataFrame([[1, \"A\"], [2, \"B\"], [3, \"C\"],\n",
    "                             [4, \"D\"],[5, \"E\"]], columns=[\"ID\", \"Name\"])"
   ]
  },
  {
   "cell_type": "code",
   "execution_count": null,
   "id": "5b32ade7",
   "metadata": {},
   "outputs": [],
   "source": [
    "df_projects = pd.DataFrame([[1, \"a\", \"10.05.2020\", \"15.05.2020\"],\n",
    "                            [2, \"b\", \"13.05.2020\", \"27.07.2020\"],\n",
    "                            [3, \"c\", \"08.07.2020\", \"30.07.2020\"],\n",
    "                            [4, \"d\", \"11.12.2020\", \"29.12.2020\"],\n",
    "                            [5, \"e\", \"06.11.2020\", \"07.11.2020\"]], \n",
    "                           columns=[\"ID\", \"Name\", \"Start Time\", \"End Time\"])"
   ]
  },
  {
   "cell_type": "code",
   "execution_count": null,
   "id": "299d9345",
   "metadata": {},
   "outputs": [],
   "source": [
    "df_expertise = pd.DataFrame([[1, 1, 1], [2, 5, 3], [3, 2, 4], [4, 4, 5],\n",
    "                             [5, 3, 2],[6, 2, 1], [7, 3, 1], [8, 2, 2]],\n",
    "                           columns=[\"ID\", \"ID_res\", \"ID_pro\"])"
   ]
  },
  {
   "cell_type": "markdown",
   "id": "6307fc5f",
   "metadata": {},
   "source": [
    "### All Feasible Solutions"
   ]
  },
  {
   "cell_type": "code",
   "execution_count": null,
   "id": "d64f4930",
   "metadata": {},
   "outputs": [],
   "source": [
    "feasible_solutions = {}\n",
    "\n",
    "for project_index, project_rows in df_projects.iterrows():\n",
    "    project_id = project_rows['ID']\n",
    "    res_ids = df_expertise[df_expertise['ID_pro'] == project_id]['ID_res']\n",
    "    feasible_solutions[project_id] = []\n",
    "    \n",
    "    for res_id in res_ids:\n",
    "        feasible_solutions[project_id].append(res_id)\n",
    "        \n",
    "feasible_solutions"
   ]
  },
  {
   "cell_type": "markdown",
   "id": "9a46593e",
   "metadata": {},
   "source": [
    "### Brute Force - DFS"
   ]
  },
  {
   "cell_type": "code",
   "execution_count": null,
   "id": "5b467d83",
   "metadata": {},
   "outputs": [],
   "source": [
    "def date_to_sec(date):\n",
    "    return time.mktime(datetime.datetime.strptime(date, \"%d.%m.%Y\").timetuple())"
   ]
  },
  {
   "cell_type": "code",
   "execution_count": null,
   "id": "f560b608",
   "metadata": {
    "scrolled": true
   },
   "outputs": [],
   "source": [
    "import time\n",
    "import datetime\n",
    "\n",
    "# keys = Project IDs df_expertise\n",
    "keys = list(feasible_solutions.keys())\n",
    "\n",
    "def is_valid_solution(solution):\n",
    "    \n",
    "    for i in range(len(keys)-1):\n",
    "        for j in range(i+1, len(keys)):\n",
    "                \n",
    "            if solution[i] == solution[j]:\n",
    "                start_i = date_to_sec(df_projects[\"Start Time\"][i])\n",
    "                end_i = date_to_sec(df_projects[\"End Time\"][i])\n",
    "                \n",
    "                start_j = date_to_sec(df_projects[\"Start Time\"][j])\n",
    "                end_j = date_to_sec(df_projects[\"End Time\"][j])\n",
    "                \n",
    "                if start_i <= start_j:\n",
    "                    if end_i >= start_j:\n",
    "                        return False\n",
    "                    \n",
    "                elif start_i >= start_j:\n",
    "                    if end_j >= start_i:\n",
    "                        return False\n",
    "    \n",
    "    return True\n",
    "\n",
    "# Checking a single solution\n",
    "# print(is_valid_solution([1, 2, 5, 3, 4]))\n",
    "\n",
    "# print(is_valid_solution([1, 2, 2, 3, 4]))"
   ]
  },
  {
   "cell_type": "markdown",
   "id": "a0d27ae1",
   "metadata": {},
   "source": [
    "### First Solution\n",
    "\n",
    "In this step we are trying to find the solution by DFS algorithm. DFS tries to build possile solution (tree) based on our feasible_solutions dictionary which contains projects ID (keys) and resourses ID (values).\n",
    "\n",
    "In the followig cell we are just trying to find the first valid solution."
   ]
  },
  {
   "cell_type": "code",
   "execution_count": null,
   "id": "ab8740f3",
   "metadata": {},
   "outputs": [],
   "source": [
    "answer = None\n",
    "\n",
    "def recursive(solution=[], depth=0):\n",
    "    global answer\n",
    "    if depth>=len(keys):\n",
    "        if(is_valid_solution(solution)):\n",
    "            answer = solution\n",
    "        return\n",
    "    \n",
    "    values = feasible_solutions[keys[depth]]\n",
    "    \n",
    "    for v in values:\n",
    "        if answer:\n",
    "            return answer\n",
    "        next_solution = solution.copy()\n",
    "        next_solution.append(str(v))\n",
    "        recursive(next_solution, depth+1)\n",
    "        \n",
    "recursive()"
   ]
  },
  {
   "cell_type": "markdown",
   "id": "8530be99",
   "metadata": {},
   "source": [
    "### All Solutions\n",
    "\n",
    "In this step we are trying to traverse all possible combination of the try to pring all possible solutions for our problem."
   ]
  },
  {
   "cell_type": "code",
   "execution_count": null,
   "id": "d542fab0",
   "metadata": {
    "scrolled": false
   },
   "outputs": [],
   "source": [
    "def recursive(solution=[], depth=0):\n",
    "    if (depth>=len(keys)):\n",
    "        if(is_valid_solution(solution)):\n",
    "            print(', '.join(solution))\n",
    "        return\n",
    "    \n",
    "    values = feasible_solutions[keys[depth]]\n",
    "    \n",
    "    for v in values:\n",
    "        next_solution = solution.copy()\n",
    "        next_solution.append(str(v))\n",
    "        recursive(next_solution, depth+1)\n",
    "        \n",
    "recursive()"
   ]
  },
  {
   "cell_type": "code",
   "execution_count": null,
   "id": "240ac759",
   "metadata": {},
   "outputs": [],
   "source": []
  }
 ],
 "metadata": {
  "kernelspec": {
   "display_name": "Python 3 (ipykernel)",
   "language": "python",
   "name": "python3"
  },
  "language_info": {
   "codemirror_mode": {
    "name": "ipython",
    "version": 3
   },
   "file_extension": ".py",
   "mimetype": "text/x-python",
   "name": "python",
   "nbconvert_exporter": "python",
   "pygments_lexer": "ipython3",
   "version": "3.10.9"
  }
 },
 "nbformat": 4,
 "nbformat_minor": 5
}
