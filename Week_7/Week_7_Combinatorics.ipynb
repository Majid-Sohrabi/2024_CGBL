{
 "cells": [
  {
   "cell_type": "markdown",
   "id": "66755134",
   "metadata": {},
   "source": [
    "# Semianr 7 - Combinatoris, Graph, Boolean Logic"
   ]
  },
  {
   "cell_type": "markdown",
   "id": "330b5034",
   "metadata": {},
   "source": [
    "## 1. Solving Allocation Problem\n",
    "\n",
    "- DFS\n",
    "- Most restrictive, Least conflict"
   ]
  },
  {
   "cell_type": "code",
   "execution_count": null,
   "id": "2692dbdc",
   "metadata": {},
   "outputs": [],
   "source": [
    "import pandas as pd\n",
    "import numpy as np\n",
    "import time\n",
    "import random\n",
    "from tqdm import tqdm"
   ]
  },
  {
   "cell_type": "code",
   "execution_count": null,
   "id": "12a528fd",
   "metadata": {},
   "outputs": [],
   "source": [
    "df_resources = pd.DataFrame([[1, \"A\"], [2, \"B\"], [3, \"C\"],\n",
    "                             [4, \"D\"],[5, \"E\"]], columns=[\"ID\", \"Name\"])"
   ]
  },
  {
   "cell_type": "code",
   "execution_count": null,
   "id": "43830e1f",
   "metadata": {},
   "outputs": [],
   "source": [
    "df_projects = pd.DataFrame([[1, \"a\", \"10.05.2020\", \"15.05.2020\"],\n",
    "                            [2, \"b\", \"13.05.2020\", \"27.07.2020\"],\n",
    "                            [3, \"c\", \"08.07.2020\", \"30.07.2020\"],\n",
    "                            [4, \"d\", \"11.12.2020\", \"29.12.2020\"],\n",
    "                            [5, \"e\", \"06.11.2020\", \"07.11.2020\"]], \n",
    "                           columns=[\"ID\", \"Name\", \"Start Time\", \"End Time\"])"
   ]
  },
  {
   "cell_type": "code",
   "execution_count": null,
   "id": "5bff20b0",
   "metadata": {},
   "outputs": [],
   "source": [
    "df_expertise = pd.DataFrame([[1, 1, 1], [2, 5, 3], [3, 2, 4],\n",
    "                             [4, 4, 5], [5, 3, 2], [6, 2, 1],\n",
    "                             [7, 3, 1], [8, 2, 2]],\n",
    "                           columns=[\"ID\", \"ID_res\", \"ID_pro\"])"
   ]
  },
  {
   "cell_type": "markdown",
   "id": "102feb5f",
   "metadata": {},
   "source": [
    "### All Feasible Solutions"
   ]
  },
  {
   "cell_type": "code",
   "execution_count": null,
   "id": "8cc975f9",
   "metadata": {},
   "outputs": [],
   "source": [
    "feasible_solutions = {}\n",
    "\n",
    "for project_index, project_row in df_projects.iterrows():\n",
    "    project_id = project_row[\"ID\"]\n",
    "    res_ids = df_expertise[df_expertise['ID_pro'] == project_id][\"ID_res\"]\n",
    "    feasible_solutions[project_id] = []\n",
    "    \n",
    "    for res_id in res_ids:\n",
    "        feasible_solutions[project_id].append(res_id)\n",
    "        \n",
    "feasible_solutions"
   ]
  },
  {
   "cell_type": "markdown",
   "id": "3e797f64",
   "metadata": {},
   "source": [
    "### A. Brute Force: Depth-First Search (DFS)"
   ]
  },
  {
   "cell_type": "code",
   "execution_count": null,
   "id": "44333130",
   "metadata": {},
   "outputs": [],
   "source": [
    "def date_to_sec(date):\n",
    "    return time.mktime(datetime.datetime.strptime(date, \"%d.%m.%Y\").timetuple())"
   ]
  },
  {
   "cell_type": "code",
   "execution_count": null,
   "id": "1f16eb38",
   "metadata": {},
   "outputs": [],
   "source": [
    "import time\n",
    "import datetime\n",
    "\n",
    "# keys = Project IDsdf_expertise\n",
    "keys = list(feasible_solutions.keys())\n",
    "\n",
    "def is_valid_solution(solution):\n",
    "    \n",
    "    for i in range(len(keys)-1):\n",
    "        for j in range(i+1, len(keys)):\n",
    "                \n",
    "            if solution[i] == solution[j]:\n",
    "                start_i = date_to_sec(df_projects[\"Start Time\"][i])\n",
    "                end_i = date_to_sec(df_projects[\"End Time\"][i])\n",
    "                \n",
    "                start_j = date_to_sec(df_projects[\"Start Time\"][j])\n",
    "                end_j = date_to_sec(df_projects[\"End Time\"][j])\n",
    "                \n",
    "                if start_i <= start_j:\n",
    "                    if end_i >= start_j:\n",
    "                        return False\n",
    "                    \n",
    "                elif start_i >= start_j:\n",
    "                    if end_j >= start_i:\n",
    "                        return False\n",
    "    \n",
    "    return True\n",
    "\n",
    "# Checking a single solution\n",
    "#print(is_valid_solution([1, 2, 5, 3, 4]))\n",
    "\n",
    "#print(is_valid_solution([1, 2, 2, 3, 4]))"
   ]
  },
  {
   "cell_type": "markdown",
   "id": "295df8fd",
   "metadata": {},
   "source": [
    "### First Solution"
   ]
  },
  {
   "cell_type": "code",
   "execution_count": null,
   "id": "c6d65aa7",
   "metadata": {},
   "outputs": [],
   "source": [
    "answer = None\n",
    "\n",
    "def recursive(solution=[], depth=0):    \n",
    "    global answer\n",
    "    #print(solution, depth)\n",
    "    if(depth >= len(keys)):    \n",
    "        if(is_valid_solution(solution)):\n",
    "            #print(', '.join(solution))\n",
    "            answer = solution\n",
    "        return\n",
    "    \n",
    "    values = feasible_solutions[keys[depth]]\n",
    "    for v in values:\n",
    "        if answer:\n",
    "            return answer\n",
    "        next_solution = solution.copy()\n",
    "        next_solution.append(str(v))\n",
    "        recursive(next_solution, depth+1)\n",
    "        \n",
    "recursive()"
   ]
  },
  {
   "cell_type": "markdown",
   "id": "873871fb",
   "metadata": {},
   "source": [
    "### All Solutions"
   ]
  },
  {
   "cell_type": "code",
   "execution_count": null,
   "id": "cd50f8a3",
   "metadata": {},
   "outputs": [],
   "source": [
    "def recursive(solution=[], depth=0):    \n",
    "    #print(solution, depth)\n",
    "    if(depth >= len(keys)):    \n",
    "        if(is_valid_solution(solution)):\n",
    "            print(', '.join(solution))\n",
    "        return\n",
    "    \n",
    "    values = feasible_solutions[keys[depth]]\n",
    "    for v in values:\n",
    "        next_solution = solution.copy()\n",
    "        next_solution.append(str(v))\n",
    "        recursive(next_solution, depth+1)\n",
    "        \n",
    "recursive()"
   ]
  },
  {
   "cell_type": "markdown",
   "id": "0bebcf0f",
   "metadata": {},
   "source": [
    "### B. Heuristic Approach\n",
    "\n",
    "1. Most Restricted\n",
    "\n",
    "2. Least Conflict\n"
   ]
  },
  {
   "cell_type": "code",
   "execution_count": null,
   "id": "74c4b6da",
   "metadata": {},
   "outputs": [],
   "source": [
    "def does_intersect(i, j):\n",
    "    start_i = date_to_sec(df_projects[\"Start Time\"][i])\n",
    "    end_i = date_to_sec(df_projects['End Time'][i])\n",
    "    \n",
    "    start_j = date_to_sec(df_projects[\"Start Time\"][j])\n",
    "    end_j = date_to_sec(df_projects['End Time'][j])\n",
    "    \n",
    "    if start_i <= start_j:\n",
    "        if end_i >= start_j:\n",
    "            return True\n",
    "        \n",
    "    elif start_i >= start_j:\n",
    "        if end_j >= start_i:\n",
    "            return True\n",
    "        \n",
    "    return False"
   ]
  },
  {
   "cell_type": "code",
   "execution_count": null,
   "id": "4ba9a61a",
   "metadata": {},
   "outputs": [],
   "source": [
    "df_expertise.groupby('ID_pro')[\"ID_res\"].apply(set).to_dict()"
   ]
  },
  {
   "cell_type": "code",
   "execution_count": null,
   "id": "a40d558e",
   "metadata": {},
   "outputs": [],
   "source": [
    "proj_res = df_expertise.groupby('ID_pro')['ID_res'].apply(set).to_dict()\n",
    "keys = list(proj_res.keys())\n",
    "proj_neighbours = {key: [] for key in keys}\n",
    "\n",
    "for i in range(len(keys)):\n",
    "    for j in range(i+1, len(keys)):\n",
    "        if does_intersect(keys[i]-1, keys[j]-1):\n",
    "            proj_neighbours[keys[i]].append(keys[j])\n",
    "            proj_neighbours[keys[j]].append(keys[i])"
   ]
  },
  {
   "cell_type": "code",
   "execution_count": null,
   "id": "6dcd9f0c",
   "metadata": {},
   "outputs": [],
   "source": [
    "def find_smallest_nonempty():\n",
    "    minlen = NRESOURCES + 1\n",
    "    proj_id_sh = 0\n",
    "    curr_len = 0\n",
    "    \n",
    "    for proj_id in proj_res:\n",
    "        curr_len = len(proj_res[proj_id])\n",
    "        if curr_len != 0 and curr_len < minlen:\n",
    "            minlen = curr_len\n",
    "            proj_id_sh = proj_id\n",
    "    return proj_id_sh"
   ]
  },
  {
   "cell_type": "code",
   "execution_count": null,
   "id": "b3ca813d",
   "metadata": {},
   "outputs": [],
   "source": [
    "def count_conflicts(proj_id, res_id):\n",
    "    cnt = 0\n",
    "    for nbor in proj_neighbours[proj_id]:\n",
    "        if nbor in proj_res and res_id in proj_res[nbor]:\n",
    "            cnt + 1\n",
    "    return cnt"
   ]
  },
  {
   "cell_type": "code",
   "execution_count": null,
   "id": "b2076be4",
   "metadata": {},
   "outputs": [],
   "source": [
    "NRESOURCES = 5\n",
    "\n",
    "solution = {}\n",
    "for _ in range(len(keys)):\n",
    "    proj_id = find_smallest_nonempty() # Choose the most restrictive project\n",
    "    if proj_id == NRESOURCES + 1:\n",
    "        print('Not complete solution')\n",
    "        break\n",
    "        \n",
    "    # Choose resource with the least conflicts\n",
    "    res_id = min(proj_res[proj_id], key=lambda x: count_conflicts(proj_id,x))\n",
    "    solution[proj_id] = res_id\n",
    "    proj_res[proj_id] = {}\n",
    "    for nbor in proj_neighbours[proj_id]:\n",
    "        if nbor in proj_res and res_id in proj_res[nbor]:\n",
    "            proj_res[nbor].remove(res_id)\n",
    "            \n",
    "solution"
   ]
  },
  {
   "cell_type": "code",
   "execution_count": null,
   "id": "f236f9d3",
   "metadata": {},
   "outputs": [],
   "source": []
  },
  {
   "cell_type": "code",
   "execution_count": null,
   "id": "94aef7ae",
   "metadata": {},
   "outputs": [],
   "source": []
  },
  {
   "cell_type": "markdown",
   "id": "ace3a8ac",
   "metadata": {},
   "source": [
    "## Lets use the method for large dataset\n",
    "\n",
    "### Generate Data for Resources"
   ]
  },
  {
   "cell_type": "code",
   "execution_count": null,
   "id": "6a7602cb",
   "metadata": {},
   "outputs": [],
   "source": [
    "NRESOURCES = 1000\n",
    "IDs_ = [i for i in range(1, NRESOURCES + 1)]\n",
    "name_res = [\"A\"+str(i) for i in IDs_]\n",
    "data_res = [[IDs_[i], name_res[i]] for i in range(0, NRESOURCES)]\n",
    "\n",
    "df_resources = pd.DataFrame(data_res, columns=[\"ID\", \"Name\"])\n",
    "df_resources"
   ]
  },
  {
   "cell_type": "markdown",
   "id": "75f77a32",
   "metadata": {},
   "source": [
    "### Generate Data for Projects"
   ]
  },
  {
   "cell_type": "code",
   "execution_count": null,
   "id": "c4fc49d6",
   "metadata": {},
   "outputs": [],
   "source": [
    "NPROJECTS = 1000\n",
    "IDs_ = [i for i in range(1, NPROJECTS + 1)]\n",
    "\n",
    "mintime_ts = time.mktime(datetime.datetime.strptime(\"6.8.2021\", \"%d.%m.%Y\").timetuple())\n",
    "maxtime_ts = time.mktime(datetime.datetime.strptime(\"30.12.2021\", \"%d.%m.%Y\").timetuple())\n",
    "\n",
    "RANDOMTIME_start = []\n",
    "RANDOMTIME_end = []\n",
    "\n",
    "for _ in range(NPROJECTS):\n",
    "    random_ts_st = random.randint(mintime_ts, maxtime_ts)\n",
    "    random_ts_end = random.randint(mintime_ts, maxtime_ts)\n",
    "    RANDOMTIME_start.append(datetime.datetime.fromtimestamp(min(random_ts_st, random_ts_end)).strftime(\"%d.%m.%Y\"))\n",
    "    RANDOMTIME_end.append(datetime.datetime.fromtimestamp(max(random_ts_st, random_ts_end)).strftime(\"%d.%m.%Y\"))\n",
    "    \n",
    "name_proj = [\"z\"+str(i) for i in IDs_]\n",
    "data_proj = [[IDs_[i], name_proj[i], RANDOMTIME_start[i], RANDOMTIME_end[i]] for i in range(0, NPROJECTS)]\n",
    "\n",
    "df_projects = pd.DataFrame(data_proj, columns=[\"ID\", \"Name\", \"Start Time\", \"End Time\"])\n",
    "df_projects"
   ]
  },
  {
   "cell_type": "markdown",
   "id": "c743499d",
   "metadata": {},
   "source": [
    "### Generate Data for Expertise"
   ]
  },
  {
   "cell_type": "code",
   "execution_count": null,
   "id": "7c1d2f69",
   "metadata": {},
   "outputs": [],
   "source": [
    "import numpy as np\n",
    "\n",
    "NRECORDS = 20000\n",
    "\n",
    "IDs_exp = [i for i in range(1, NRECORDS + 1)]\n",
    "\n",
    "rand_ = list(np.random.choice(NRESOURCES, NRECORDS, replace=True))\n",
    "res_ID_ = [x+1 for x in rand_]\n",
    "\n",
    "rand = list(range(NPROJECTS)) + list(np.random.choice(NPROJECTS, NRECORDS - NPROJECTS, replace=True))\n",
    "proj_ID_ = [x+1 for x in rand]\n",
    "random.shuffle(proj_ID_)\n",
    "\n",
    "data_exper = [[IDs_exp[i], res_ID_[i], proj_ID_[i]] for i in range(0, NRECORDS)]\n",
    "df_expertise = pd.DataFrame(data_exper, columns=[\"ID\", \"ID_res\", \"ID_pro\"])\n",
    "df_expertise"
   ]
  },
  {
   "cell_type": "code",
   "execution_count": null,
   "id": "e663648f",
   "metadata": {},
   "outputs": [],
   "source": [
    "def does_intersect(i, j):\n",
    "    start_i = date_to_sec(df_projects[\"Start Time\"][i])\n",
    "    end_i = date_to_sec(df_projects['End Time'][i])\n",
    "    \n",
    "    start_j = date_to_sec(df_projects[\"Start Time\"][j])\n",
    "    end_j = date_to_sec(df_projects['End Time'][j])\n",
    "    \n",
    "    if start_i <= start_j:\n",
    "        if end_i >= start_j:\n",
    "            return True\n",
    "        \n",
    "    elif start_i >= start_j:\n",
    "        if end_j >= start_i:\n",
    "            return True\n",
    "        \n",
    "    return False\n",
    "\n",
    "def find_smallest_nonempty():\n",
    "    minlen = NRESOURCES + 1\n",
    "    proj_id_sh = 0\n",
    "    curr_len = 0\n",
    "    \n",
    "    for proj_id in proj_res:\n",
    "        curr_len = len(proj_res[proj_id])\n",
    "        if curr_len != 0 and curr_len < minlen:\n",
    "            minlen = curr_len\n",
    "            proj_id_sh = proj_id\n",
    "    return proj_id_sh\n",
    "\n",
    "def count_conflicts(proj_id, res_id):\n",
    "    cnt = 0\n",
    "    for nbor in proj_neighbours[proj_id]:\n",
    "        if nbor in proj_res and res_id in proj_res[nbor]:\n",
    "            cnt + 1\n",
    "    return cnt"
   ]
  },
  {
   "cell_type": "code",
   "execution_count": null,
   "id": "4ba261ee",
   "metadata": {},
   "outputs": [],
   "source": [
    "time1 = time.time()\n",
    "\n",
    "proj_res = df_expertise.groupby('ID_pro')['ID_res'].apply(set).to_dict()\n",
    "keys = list(proj_res.keys())\n",
    "proj_neighbours = {key: [] for key in keys}\n",
    "\n",
    "for i in tqdm(range(len(keys))):\n",
    "    for j in range(i+1, len(keys)):\n",
    "        if does_intersect(keys[i]-1, keys[j]-1):\n",
    "            proj_neighbours[keys[i]].append(keys[j])\n",
    "            proj_neighbours[keys[j]].append(keys[i])\n",
    "    \n",
    "print(f'Execution time: {time.time() - time1} sec.')"
   ]
  },
  {
   "cell_type": "code",
   "execution_count": null,
   "id": "e95ba72c",
   "metadata": {
    "scrolled": true
   },
   "outputs": [],
   "source": [
    "solution = {}\n",
    "for _ in range(len(keys)):\n",
    "    proj_id = find_smallest_nonempty() # Choose the most restrictive project\n",
    "    if proj_id == NRESOURCES + 1:\n",
    "        print('Not complete solution')\n",
    "        break\n",
    "        \n",
    "    # Choose resource with the least conflicts\n",
    "    res_id = min(proj_res[proj_id], key=lambda x: count_conflicts(proj_id,x))\n",
    "    solution[proj_id] = res_id\n",
    "    proj_res[proj_id] = {}\n",
    "    for nbor in proj_neighbours[proj_id]:\n",
    "        if nbor in proj_res and res_id in proj_res[nbor]:\n",
    "            proj_res[nbor].remove(res_id)\n",
    "            \n",
    "solution"
   ]
  },
  {
   "cell_type": "code",
   "execution_count": null,
   "id": "b427e89f",
   "metadata": {},
   "outputs": [],
   "source": []
  },
  {
   "cell_type": "code",
   "execution_count": null,
   "id": "aa72400d",
   "metadata": {},
   "outputs": [],
   "source": []
  },
  {
   "cell_type": "markdown",
   "id": "e11ecdc9",
   "metadata": {},
   "source": [
    "## Solving Knapsak Problem"
   ]
  },
  {
   "cell_type": "code",
   "execution_count": null,
   "id": "6742d8b2",
   "metadata": {},
   "outputs": [],
   "source": [
    "class KnapsakProblem(object):\n",
    "    def __init__(self, weight, value):\n",
    "        self.weight = weight\n",
    "        self.value = value\n",
    "        self.cost = value/weight\n",
    "        \n",
    "    def __lt__(self, other):\n",
    "        return self.cost < other.cost\n",
    "        \n",
    "class FractionalKnapsak(object):\n",
    "    def __init__(self):\n",
    "        pass\n",
    "    \n",
    "    def KnapsakGreedyProcc(self, W, V, M, n):\n",
    "        packs = []\n",
    "        for i in range(n):\n",
    "            packs.append(KnapsakProblem(W[i], V[i]))\n",
    "        packs.sort(reverse=True)\n",
    "        \n",
    "        print(packs[0].weight, packs[0].value, packs[0].cost)\n",
    "        print(packs[1].weight, packs[1].value, packs[1].cost)\n",
    "        print(packs[2].weight, packs[2].value, packs[2].cost)\n",
    "        \n",
    "        remaining = M\n",
    "        result = 0\n",
    "        i=0\n",
    "        flag_stop = False\n",
    "        while(flag_stop != True):\n",
    "            if (packs[i].weight <= remaining):\n",
    "                remaining -= packs[i].weight\n",
    "                result += packs[i].value\n",
    "                print(f'Pack {i+1}, Weight = {packs[i].weight}, Value = {packs[i].value}')\n",
    "                \n",
    "            else:\n",
    "                i+=1\n",
    "                \n",
    "            if i==n:\n",
    "                flag_stop = True\n",
    "                \n",
    "        print(f'Max value is: {result}')\n",
    "        \n",
    "\n",
    "if __name__ == '__main__':\n",
    "    W = [10, 20, 30]\n",
    "    V = [60, 100, 120]\n",
    "    M = 50\n",
    "    n = len(W)\n",
    "    \n",
    "    temp = FractionalKnapsak()\n",
    "    temp.KnapsakGreedyProcc(W, V, M, n)"
   ]
  },
  {
   "cell_type": "code",
   "execution_count": null,
   "id": "bfae9d43",
   "metadata": {},
   "outputs": [],
   "source": []
  },
  {
   "cell_type": "code",
   "execution_count": null,
   "id": "d6302a70",
   "metadata": {},
   "outputs": [],
   "source": []
  },
  {
   "cell_type": "markdown",
   "id": "b031072c",
   "metadata": {},
   "source": [
    "### Knapsack Problem: A Brute Force Approach"
   ]
  },
  {
   "cell_type": "code",
   "execution_count": null,
   "id": "4cdbf23f",
   "metadata": {},
   "outputs": [],
   "source": [
    "def Knapsak(M, W, V, n):\n",
    "    # Initial Condition\n",
    "    if n==0 or M==0:\n",
    "        return 0\n",
    "    \n",
    "    # If weight is higher than the capacity the it's not included\n",
    "    if (W[n-1] > M):\n",
    "        return Knapsak(M, W, V, n-1)\n",
    "    \n",
    "    # return eigther nth item being included or not\n",
    "    else:\n",
    "        return max(V[n-1]+Knapsak(M-W[n-1], W, V, n), Knapsak(M, W, V, n-1))\n",
    "    \n",
    "    \n",
    "\n",
    "# Make an Example\n",
    "W = [10, 20, 30]\n",
    "V = [60, 100, 120]\n",
    "M = 50\n",
    "n = len(W)\n",
    "print(Knapsak(M, W, V, n))"
   ]
  },
  {
   "cell_type": "code",
   "execution_count": null,
   "id": "91df5196",
   "metadata": {},
   "outputs": [],
   "source": []
  },
  {
   "cell_type": "code",
   "execution_count": null,
   "id": "6fd78f13",
   "metadata": {},
   "outputs": [],
   "source": []
  }
 ],
 "metadata": {
  "kernelspec": {
   "display_name": "Python 3 (ipykernel)",
   "language": "python",
   "name": "python3"
  },
  "language_info": {
   "codemirror_mode": {
    "name": "ipython",
    "version": 3
   },
   "file_extension": ".py",
   "mimetype": "text/x-python",
   "name": "python",
   "nbconvert_exporter": "python",
   "pygments_lexer": "ipython3",
   "version": "3.10.9"
  }
 },
 "nbformat": 4,
 "nbformat_minor": 5
}
