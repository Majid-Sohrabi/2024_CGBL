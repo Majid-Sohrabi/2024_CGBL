{
 "cells": [
  {
   "cell_type": "markdown",
   "id": "66755134",
   "metadata": {},
   "source": [
    "# Semianr 4 - Combinatoris, Graph, Boolean Logic\n",
    "\n",
    "## SQL + Python\n",
    "\n",
    "**SQL**: Structured Query Language"
   ]
  },
  {
   "cell_type": "code",
   "execution_count": null,
   "id": "f7f730a4",
   "metadata": {},
   "outputs": [],
   "source": [
    "# !pip install --upgrade pip"
   ]
  },
  {
   "cell_type": "code",
   "execution_count": null,
   "id": "32134206",
   "metadata": {},
   "outputs": [],
   "source": [
    "# !pip install mysql"
   ]
  },
  {
   "cell_type": "code",
   "execution_count": null,
   "id": "1c638dbf",
   "metadata": {},
   "outputs": [],
   "source": [
    "# !pip install mysql-connector-python"
   ]
  },
  {
   "cell_type": "code",
   "execution_count": null,
   "id": "58256588",
   "metadata": {},
   "outputs": [],
   "source": [
    "# LOCalhost/phpmyadmin/index.php"
   ]
  },
  {
   "cell_type": "code",
   "execution_count": 2,
   "id": "0eb8a695",
   "metadata": {},
   "outputs": [],
   "source": [
    "import mysql.connector as sql\n",
    "import pandas as pd"
   ]
  },
  {
   "cell_type": "code",
   "execution_count": 7,
   "id": "4ca57c9e",
   "metadata": {},
   "outputs": [],
   "source": [
    "conn = sql.connect(\n",
    "    host='localhost',\n",
    "    user='root',\n",
    "    password='',\n",
    "    database='Allocation'\n",
    "    )"
   ]
  },
  {
   "cell_type": "code",
   "execution_count": 8,
   "id": "73703b27",
   "metadata": {},
   "outputs": [
    {
     "data": {
      "text/plain": [
       "[(1, 'a', '10.05.2020', '15.05.2020'),\n",
       " (2, 'b', '13.05.2020', '27.07.2020'),\n",
       " (3, 'c', '08.07.2020', '30.07.2020'),\n",
       " (4, 'd', '11.12.2020', '29.12.2020'),\n",
       " (5, 'e', '06.11.2020', '07.11.2020')]"
      ]
     },
     "execution_count": 8,
     "metadata": {},
     "output_type": "execute_result"
    }
   ],
   "source": [
    "cursor = conn.cursor()\n",
    "\n",
    "cursor.execute(\"\"\"\n",
    "    SELECT * FROM projects\n",
    "\"\"\")\n",
    "\n",
    "cursor.fetchall()"
   ]
  },
  {
   "cell_type": "code",
   "execution_count": 9,
   "id": "66c79d95",
   "metadata": {},
   "outputs": [
    {
     "name": "stderr",
     "output_type": "stream",
     "text": [
      "/var/folders/25/j6_kp1v55376c5ldy5f8ns1r0000gn/T/ipykernel_1144/636419232.py:3: UserWarning: pandas only supports SQLAlchemy connectable (engine/connection) or database string URI or sqlite3 DBAPI2 connection. Other DBAPI2 objects are not tested. Please consider using SQLAlchemy.\n",
      "  df_projects = pd.read_sql(querry_1, conn)\n"
     ]
    },
    {
     "data": {
      "text/html": [
       "<div>\n",
       "<style scoped>\n",
       "    .dataframe tbody tr th:only-of-type {\n",
       "        vertical-align: middle;\n",
       "    }\n",
       "\n",
       "    .dataframe tbody tr th {\n",
       "        vertical-align: top;\n",
       "    }\n",
       "\n",
       "    .dataframe thead th {\n",
       "        text-align: right;\n",
       "    }\n",
       "</style>\n",
       "<table border=\"1\" class=\"dataframe\">\n",
       "  <thead>\n",
       "    <tr style=\"text-align: right;\">\n",
       "      <th></th>\n",
       "      <th>ID</th>\n",
       "      <th>name</th>\n",
       "      <th>start_time</th>\n",
       "      <th>end_time</th>\n",
       "    </tr>\n",
       "  </thead>\n",
       "  <tbody>\n",
       "    <tr>\n",
       "      <th>0</th>\n",
       "      <td>1</td>\n",
       "      <td>a</td>\n",
       "      <td>10.05.2020</td>\n",
       "      <td>15.05.2020</td>\n",
       "    </tr>\n",
       "    <tr>\n",
       "      <th>1</th>\n",
       "      <td>2</td>\n",
       "      <td>b</td>\n",
       "      <td>13.05.2020</td>\n",
       "      <td>27.07.2020</td>\n",
       "    </tr>\n",
       "    <tr>\n",
       "      <th>2</th>\n",
       "      <td>3</td>\n",
       "      <td>c</td>\n",
       "      <td>08.07.2020</td>\n",
       "      <td>30.07.2020</td>\n",
       "    </tr>\n",
       "    <tr>\n",
       "      <th>3</th>\n",
       "      <td>4</td>\n",
       "      <td>d</td>\n",
       "      <td>11.12.2020</td>\n",
       "      <td>29.12.2020</td>\n",
       "    </tr>\n",
       "    <tr>\n",
       "      <th>4</th>\n",
       "      <td>5</td>\n",
       "      <td>e</td>\n",
       "      <td>06.11.2020</td>\n",
       "      <td>07.11.2020</td>\n",
       "    </tr>\n",
       "  </tbody>\n",
       "</table>\n",
       "</div>"
      ],
      "text/plain": [
       "   ID name  start_time    end_time\n",
       "0   1    a  10.05.2020  15.05.2020\n",
       "1   2    b  13.05.2020  27.07.2020\n",
       "2   3    c  08.07.2020  30.07.2020\n",
       "3   4    d  11.12.2020  29.12.2020\n",
       "4   5    e  06.11.2020  07.11.2020"
      ]
     },
     "execution_count": 9,
     "metadata": {},
     "output_type": "execute_result"
    }
   ],
   "source": [
    "querry_1 = 'SELECT * FROM projects'\n",
    "\n",
    "df_projects = pd.read_sql(querry_1, conn)\n",
    "df_projects"
   ]
  },
  {
   "cell_type": "code",
   "execution_count": 10,
   "id": "43e4e552",
   "metadata": {},
   "outputs": [
    {
     "name": "stderr",
     "output_type": "stream",
     "text": [
      "/var/folders/25/j6_kp1v55376c5ldy5f8ns1r0000gn/T/ipykernel_1144/998539140.py:3: UserWarning: pandas only supports SQLAlchemy connectable (engine/connection) or database string URI or sqlite3 DBAPI2 connection. Other DBAPI2 objects are not tested. Please consider using SQLAlchemy.\n",
      "  df_resources = pd.read_sql(querry_2, conn)\n"
     ]
    },
    {
     "data": {
      "text/html": [
       "<div>\n",
       "<style scoped>\n",
       "    .dataframe tbody tr th:only-of-type {\n",
       "        vertical-align: middle;\n",
       "    }\n",
       "\n",
       "    .dataframe tbody tr th {\n",
       "        vertical-align: top;\n",
       "    }\n",
       "\n",
       "    .dataframe thead th {\n",
       "        text-align: right;\n",
       "    }\n",
       "</style>\n",
       "<table border=\"1\" class=\"dataframe\">\n",
       "  <thead>\n",
       "    <tr style=\"text-align: right;\">\n",
       "      <th></th>\n",
       "      <th>ID</th>\n",
       "      <th>name</th>\n",
       "    </tr>\n",
       "  </thead>\n",
       "  <tbody>\n",
       "    <tr>\n",
       "      <th>0</th>\n",
       "      <td>1</td>\n",
       "      <td>A</td>\n",
       "    </tr>\n",
       "    <tr>\n",
       "      <th>1</th>\n",
       "      <td>2</td>\n",
       "      <td>B</td>\n",
       "    </tr>\n",
       "    <tr>\n",
       "      <th>2</th>\n",
       "      <td>3</td>\n",
       "      <td>C</td>\n",
       "    </tr>\n",
       "    <tr>\n",
       "      <th>3</th>\n",
       "      <td>4</td>\n",
       "      <td>D</td>\n",
       "    </tr>\n",
       "    <tr>\n",
       "      <th>4</th>\n",
       "      <td>5</td>\n",
       "      <td>E</td>\n",
       "    </tr>\n",
       "  </tbody>\n",
       "</table>\n",
       "</div>"
      ],
      "text/plain": [
       "   ID name\n",
       "0   1    A\n",
       "1   2    B\n",
       "2   3    C\n",
       "3   4    D\n",
       "4   5    E"
      ]
     },
     "execution_count": 10,
     "metadata": {},
     "output_type": "execute_result"
    }
   ],
   "source": [
    "querry_2 = 'SELECT * FROM resources'\n",
    "\n",
    "df_resources = pd.read_sql(querry_2, conn)\n",
    "df_resources"
   ]
  },
  {
   "cell_type": "code",
   "execution_count": 11,
   "id": "c3e87896",
   "metadata": {},
   "outputs": [
    {
     "name": "stderr",
     "output_type": "stream",
     "text": [
      "/var/folders/25/j6_kp1v55376c5ldy5f8ns1r0000gn/T/ipykernel_1144/2963314014.py:3: UserWarning: pandas only supports SQLAlchemy connectable (engine/connection) or database string URI or sqlite3 DBAPI2 connection. Other DBAPI2 objects are not tested. Please consider using SQLAlchemy.\n",
      "  df_allocation = pd.read_sql(querry_3, conn)\n"
     ]
    },
    {
     "data": {
      "text/html": [
       "<div>\n",
       "<style scoped>\n",
       "    .dataframe tbody tr th:only-of-type {\n",
       "        vertical-align: middle;\n",
       "    }\n",
       "\n",
       "    .dataframe tbody tr th {\n",
       "        vertical-align: top;\n",
       "    }\n",
       "\n",
       "    .dataframe thead th {\n",
       "        text-align: right;\n",
       "    }\n",
       "</style>\n",
       "<table border=\"1\" class=\"dataframe\">\n",
       "  <thead>\n",
       "    <tr style=\"text-align: right;\">\n",
       "      <th></th>\n",
       "      <th>ID</th>\n",
       "      <th>ID_RES</th>\n",
       "      <th>ID_PROJ</th>\n",
       "    </tr>\n",
       "  </thead>\n",
       "  <tbody>\n",
       "    <tr>\n",
       "      <th>0</th>\n",
       "      <td>1</td>\n",
       "      <td>1</td>\n",
       "      <td>1</td>\n",
       "    </tr>\n",
       "    <tr>\n",
       "      <th>1</th>\n",
       "      <td>2</td>\n",
       "      <td>5</td>\n",
       "      <td>3</td>\n",
       "    </tr>\n",
       "    <tr>\n",
       "      <th>2</th>\n",
       "      <td>3</td>\n",
       "      <td>2</td>\n",
       "      <td>4</td>\n",
       "    </tr>\n",
       "    <tr>\n",
       "      <th>3</th>\n",
       "      <td>4</td>\n",
       "      <td>4</td>\n",
       "      <td>5</td>\n",
       "    </tr>\n",
       "    <tr>\n",
       "      <th>4</th>\n",
       "      <td>5</td>\n",
       "      <td>3</td>\n",
       "      <td>2</td>\n",
       "    </tr>\n",
       "    <tr>\n",
       "      <th>5</th>\n",
       "      <td>6</td>\n",
       "      <td>2</td>\n",
       "      <td>1</td>\n",
       "    </tr>\n",
       "    <tr>\n",
       "      <th>6</th>\n",
       "      <td>7</td>\n",
       "      <td>3</td>\n",
       "      <td>1</td>\n",
       "    </tr>\n",
       "    <tr>\n",
       "      <th>7</th>\n",
       "      <td>8</td>\n",
       "      <td>2</td>\n",
       "      <td>2</td>\n",
       "    </tr>\n",
       "  </tbody>\n",
       "</table>\n",
       "</div>"
      ],
      "text/plain": [
       "   ID  ID_RES  ID_PROJ\n",
       "0   1       1        1\n",
       "1   2       5        3\n",
       "2   3       2        4\n",
       "3   4       4        5\n",
       "4   5       3        2\n",
       "5   6       2        1\n",
       "6   7       3        1\n",
       "7   8       2        2"
      ]
     },
     "execution_count": 11,
     "metadata": {},
     "output_type": "execute_result"
    }
   ],
   "source": [
    "querry_3 = 'SELECT * FROM allocation'\n",
    "\n",
    "df_allocation = pd.read_sql(querry_3, conn)\n",
    "df_allocation"
   ]
  },
  {
   "cell_type": "markdown",
   "id": "9fccf3cf",
   "metadata": {},
   "source": [
    "## All feasible solutions"
   ]
  },
  {
   "cell_type": "code",
   "execution_count": 13,
   "id": "2bb6b038",
   "metadata": {},
   "outputs": [
    {
     "data": {
      "text/plain": [
       "{1: [1, 2, 3], 2: [3, 2], 3: [5], 4: [2], 5: [4]}"
      ]
     },
     "execution_count": 13,
     "metadata": {},
     "output_type": "execute_result"
    }
   ],
   "source": [
    "feasible_solutions = {}\n",
    "\n",
    "for project_index, project_rows in df_projects.iterrows():\n",
    "    project_id = project_rows['ID']\n",
    "    res_ids = df_allocation[df_allocation['ID_PROJ'] == project_id]['ID_RES']\n",
    "    feasible_solutions[project_id] = []\n",
    "    \n",
    "    for res_id in res_ids:\n",
    "        feasible_solutions[project_id].append(res_id)\n",
    "        \n",
    "feasible_solutions"
   ]
  },
  {
   "cell_type": "code",
   "execution_count": 14,
   "id": "4a3938af",
   "metadata": {},
   "outputs": [],
   "source": [
    "def date_to_sec(date):\n",
    "    return time.mktime(datetime.datetime.strptime(date, \"%d.%m.%Y\").timetuple())"
   ]
  },
  {
   "cell_type": "code",
   "execution_count": 18,
   "id": "86484c69",
   "metadata": {},
   "outputs": [],
   "source": [
    "import time\n",
    "import datetime\n",
    "\n",
    "# keys = Project IDs df_expertise\n",
    "keys = list(feasible_solutions.keys())\n",
    "\n",
    "def is_valid_solution(solution):\n",
    "    \n",
    "    for i in range(len(keys)-1):\n",
    "        for j in range(i+1, len(keys)):\n",
    "                \n",
    "            if solution[i] == solution[j]:\n",
    "                start_i = date_to_sec(df_projects[\"start_time\"][i])\n",
    "                end_i = date_to_sec(df_projects[\"end_time\"][i])\n",
    "                \n",
    "                start_j = date_to_sec(df_projects[\"start_time\"][j])\n",
    "                end_j = date_to_sec(df_projects[\"end_time\"][j])\n",
    "                \n",
    "                if start_i <= start_j:\n",
    "                    if end_i >= start_j:\n",
    "                        return False\n",
    "                    \n",
    "                elif start_i >= start_j:\n",
    "                    if end_j >= start_i:\n",
    "                        return False\n",
    "    \n",
    "    return True\n",
    "\n",
    "# Checking a single solution\n",
    "# print(is_valid_solution([1, 2, 5, 3, 4]))\n",
    "\n",
    "# print(is_valid_solution([1, 2, 2, 3, 4]))"
   ]
  },
  {
   "cell_type": "code",
   "execution_count": 19,
   "id": "f4093b30",
   "metadata": {},
   "outputs": [
    {
     "data": {
      "text/plain": [
       "['1', '3', '5', '2', '4']"
      ]
     },
     "execution_count": 19,
     "metadata": {},
     "output_type": "execute_result"
    }
   ],
   "source": [
    "answer = None\n",
    "\n",
    "def recursive(solution=[], depth=0):\n",
    "    global answer\n",
    "    if depth>=len(keys):\n",
    "        if(is_valid_solution(solution)):\n",
    "            answer = solution\n",
    "        return\n",
    "    \n",
    "    values = feasible_solutions[keys[depth]]\n",
    "    \n",
    "    for v in values:\n",
    "        if answer:\n",
    "            return answer\n",
    "        next_solution = solution.copy()\n",
    "        next_solution.append(str(v))\n",
    "        recursive(next_solution, depth+1)\n",
    "        \n",
    "recursive()"
   ]
  },
  {
   "cell_type": "code",
   "execution_count": 20,
   "id": "839cb3f5",
   "metadata": {},
   "outputs": [
    {
     "name": "stdout",
     "output_type": "stream",
     "text": [
      "1, 3, 5, 2, 4\n",
      "1, 2, 5, 2, 4\n",
      "2, 3, 5, 2, 4\n",
      "3, 2, 5, 2, 4\n"
     ]
    }
   ],
   "source": [
    "def recursive(solution=[], depth=0):\n",
    "    if (depth>=len(keys)):\n",
    "        if(is_valid_solution(solution)):\n",
    "            print(', '.join(solution))\n",
    "        return\n",
    "    \n",
    "    values = feasible_solutions[keys[depth]]\n",
    "    \n",
    "    for v in values:\n",
    "        next_solution = solution.copy()\n",
    "        next_solution.append(str(v))\n",
    "        recursive(next_solution, depth+1)\n",
    "        \n",
    "recursive()"
   ]
  },
  {
   "cell_type": "markdown",
   "id": "e0f2b7d3",
   "metadata": {},
   "source": [
    "## How to create tables from Python"
   ]
  },
  {
   "cell_type": "code",
   "execution_count": 21,
   "id": "5742e58d",
   "metadata": {},
   "outputs": [],
   "source": [
    "cursor.execute(\"\"\"\n",
    "    CREATE TABLE employeeinfo(\n",
    "    ID INT AUTO_INCREMENT PRIMARY KEY,\n",
    "    name varchar(50) NOT NULL,\n",
    "    position varchar(50) NOT NULL\n",
    "    )\n",
    "    \"\"\")"
   ]
  },
  {
   "cell_type": "code",
   "execution_count": 22,
   "id": "faf6d4a0",
   "metadata": {},
   "outputs": [
    {
     "data": {
      "text/plain": [
       "[('allocation',), ('employeeinfo',), ('projects',), ('resources',)]"
      ]
     },
     "execution_count": 22,
     "metadata": {},
     "output_type": "execute_result"
    }
   ],
   "source": [
    "cursor.execute(\"\"\"\n",
    "    SHOW TABLES\n",
    "    \"\"\")\n",
    "\n",
    "cursor.fetchall()"
   ]
  },
  {
   "cell_type": "code",
   "execution_count": 23,
   "id": "69a91f41",
   "metadata": {},
   "outputs": [],
   "source": [
    "querry = \"\"\"\n",
    "    INSERT INTO employeeinfo (name, position) VALUES (%s, %s)\n",
    "\"\"\"\n",
    "\n",
    "value = ('Slava', 'Mathematition')\n",
    "cursor.execute(querry, value)"
   ]
  },
  {
   "cell_type": "code",
   "execution_count": 26,
   "id": "8e37f541",
   "metadata": {},
   "outputs": [],
   "source": [
    "values = [('Tom', 'Programmer'),\n",
    "         ('Artem', 'Programmer'),\n",
    "         ('Oleg', 'Data Scientist'),\n",
    "         ('Anna', 'Data Scientist')]\n",
    "cursor.executemany(querry, values)"
   ]
  },
  {
   "cell_type": "code",
   "execution_count": 27,
   "id": "d2d4263c",
   "metadata": {},
   "outputs": [],
   "source": [
    "conn.commit()"
   ]
  },
  {
   "cell_type": "code",
   "execution_count": 28,
   "id": "cfae8c7b",
   "metadata": {},
   "outputs": [
    {
     "data": {
      "text/plain": [
       "[('Mathematition',), ('Programmer',), ('Data Scientist',)]"
      ]
     },
     "execution_count": 28,
     "metadata": {},
     "output_type": "execute_result"
    }
   ],
   "source": [
    "# How to return uniqu data from my table?\n",
    "\n",
    "cursor.execute('SELECT DISTINCT position FROM employeeinfo')\n",
    "cursor.fetchall()"
   ]
  },
  {
   "cell_type": "code",
   "execution_count": null,
   "id": "642775d1",
   "metadata": {},
   "outputs": [],
   "source": []
  },
  {
   "cell_type": "code",
   "execution_count": null,
   "id": "c5d97718",
   "metadata": {},
   "outputs": [],
   "source": []
  },
  {
   "cell_type": "markdown",
   "id": "037587bf",
   "metadata": {},
   "source": [
    "## How to check if a Binary Tree is a Binary Search Tree (BST) or not??!!\n",
    "\n",
    "To solve the problem we should know **What are the characteristics of the BST?**\n",
    "\n",
    "- The left subtree of a node contains only nodes with keys less than the node’s key.\n",
    "- The right subtree of a node contains only nodes with keys greater than the node’s key.\n",
    "- Both the left and right subtrees must also be binary search trees.\n",
    "- Each node (item in the tree) has a distinct key.\n",
    "\n",
    "\n",
    "**Steps:**\n",
    "\n",
    "1) If the current node is null then return true\n",
    "\n",
    "2) If the value of the left child of the node is greater than or equal to the current node then return false\n",
    "\n",
    "3) If the value of the right child of the node is less than or equal to the current node then return false\n",
    "\n",
    "4) If the left subtree or the right subtree is not a BST then return false\n",
    "\n",
    "5) Else return true"
   ]
  },
  {
   "cell_type": "code",
   "execution_count": 37,
   "id": "b933dc1c",
   "metadata": {},
   "outputs": [
    {
     "name": "stdout",
     "output_type": "stream",
     "text": [
      "It's binary search tree!\n"
     ]
    }
   ],
   "source": [
    "# Method 1: Use in-order \n",
    "\n",
    "# Method 2:\n",
    "class Node:\n",
    "    def __init__(self, data):\n",
    "        self.data = data\n",
    "        self.left = None\n",
    "        self.right = None\n",
    "        \n",
    "def is_binary_tree(tree):\n",
    "    if tree is None:\n",
    "        return True\n",
    "    \n",
    "    left_is_bin = tree.left is None or \\\n",
    "        tree.left.data < tree.data and is_binary_tree(tree.left)\n",
    "    \n",
    "    right_is_bin = tree.right is None or \\\n",
    "        tree.right.data > tree.data and is_binary_tree(tree.right)\n",
    "    \n",
    "    return left_is_bin and right_is_bin\n",
    "\n",
    "tree = Node(5)\n",
    "tree.left = Node(3)\n",
    "tree.left.left = Node(1)\n",
    "tree.left.right = Node(5)\n",
    "tree.right = Node(12)\n",
    "\n",
    "if is_binary_tree(tree):\n",
    "    print('It\\'s binary search tree!')\n",
    "          \n",
    "else:\n",
    "    print('It\\'s not')"
   ]
  },
  {
   "cell_type": "code",
   "execution_count": 38,
   "id": "ad5450fb",
   "metadata": {},
   "outputs": [],
   "source": [
    "## This program doesn't consider this type of counter example\n",
    "\"\"\"\n",
    "tree = Node(5)\n",
    "tree.left = Node(3)\n",
    "tree.left.left = Node(1)\n",
    "tree.left.right = Node(6)\n",
    "tree.right = Node(12)\n",
    "\"\"\"\n",
    "## Try to fix the provided algorithm\n",
    "\n",
    "<YOUR CODE>"
   ]
  },
  {
   "cell_type": "code",
   "execution_count": null,
   "id": "1e25bac5",
   "metadata": {},
   "outputs": [],
   "source": []
  }
 ],
 "metadata": {
  "kernelspec": {
   "display_name": "Python 3 (ipykernel)",
   "language": "python",
   "name": "python3"
  },
  "language_info": {
   "codemirror_mode": {
    "name": "ipython",
    "version": 3
   },
   "file_extension": ".py",
   "mimetype": "text/x-python",
   "name": "python",
   "nbconvert_exporter": "python",
   "pygments_lexer": "ipython3",
   "version": "3.10.9"
  }
 },
 "nbformat": 4,
 "nbformat_minor": 5
}
