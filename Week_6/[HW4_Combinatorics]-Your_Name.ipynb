{
 "cells": [
  {
   "cell_type": "markdown",
   "id": "46e40c5e",
   "metadata": {},
   "source": [
    "# HW 4 - Combinatorics\n",
    "\n",
    "### Please, fill in before you start:\n",
    "\n",
    "First Name:\n",
    "\n",
    "Last Name:\n",
    "\n",
    "Group:\n",
    "\n",
    "Another decomposition fractions:\n",
    "\n",
    "$$\n",
    "f(x) = \\frac{1}{2x^3-10x^2-30x+54}\n",
    "$$\n",
    "\n",
    "with **SymPy** find reals $a, b, c, \\alpha, \\beta, \\gamma$ such that\n",
    "\n",
    "$$\n",
    "f(x) = \\frac{a}{x-\\alpha} + \\frac{b}{x-\\beta}+\\frac{c}{x-\\gamma}\n",
    "$$\n",
    "\n",
    "**Hint:** You can use **solve, simplify, expand**. Also remember to use **Rational(,)** for fractions\n",
    "\n",
    "- Please create a private GitHub repository and add Majid and Sifei as collaborator. Commit your solution (jupyter notebook) to your github repository.\n",
    "\n",
    "- Deadline: **March 08, 2024, 11:59 pm.**\n",
    "\n",
    "- Please keep the file name but replace **YOUR_NAME** part by your name: **[HW4_Combinatorics]-YOUR_NAME**"
   ]
  },
  {
   "cell_type": "code",
   "execution_count": null,
   "id": "8a7f62ed",
   "metadata": {},
   "outputs": [],
   "source": [
    "<YOUR CODE>"
   ]
  },
  {
   "cell_type": "code",
   "execution_count": null,
   "id": "e2d6c6b7",
   "metadata": {},
   "outputs": [],
   "source": []
  }
 ],
 "metadata": {
  "kernelspec": {
   "display_name": "Python 3 (ipykernel)",
   "language": "python",
   "name": "python3"
  },
  "language_info": {
   "codemirror_mode": {
    "name": "ipython",
    "version": 3
   },
   "file_extension": ".py",
   "mimetype": "text/x-python",
   "name": "python",
   "nbconvert_exporter": "python",
   "pygments_lexer": "ipython3",
   "version": "3.10.9"
  }
 },
 "nbformat": 4,
 "nbformat_minor": 5
}
