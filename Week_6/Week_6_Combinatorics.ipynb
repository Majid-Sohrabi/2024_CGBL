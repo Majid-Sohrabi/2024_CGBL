{
 "cells": [
  {
   "cell_type": "markdown",
   "id": "66755134",
   "metadata": {},
   "source": [
    "# Semianr 6 - Combinatoris, Graph, Boolean Logic"
   ]
  },
  {
   "cell_type": "markdown",
   "id": "4cb170c5",
   "metadata": {},
   "source": [
    "## Generating Funciton with SymPy\n",
    "\n",
    "\n",
    "**Generating Function:** In mathematic, a generating function is a way of encoding an infinite sequence of numbers by treating them as the coefficients of a formula power series. This series is called the generating function of the sequence."
   ]
  },
  {
   "cell_type": "code",
   "execution_count": 1,
   "id": "cedb6588",
   "metadata": {},
   "outputs": [],
   "source": [
    "## loading python libraries\n",
    "# necessary to display plots inline:\n",
    "%matplotlib inline\n",
    "\n",
    "# load the libraries\n",
    "import matplotlib.pyplot as plt # 2D plotting library\n",
    "import numpy as np              # package for scientific computing\n",
    "from pylab import *\n",
    "from math import *              # package for mathematics (pi, arctan, sqrt, factorial ...)\n",
    "import sympy as sympy           # package for symbolic computation\n",
    "from sympy import *"
   ]
  },
  {
   "cell_type": "markdown",
   "id": "998dbf7c",
   "metadata": {},
   "source": [
    "## Basics of generating functinos\n",
    "\n",
    "[About SymPy](https://www.sympy.org/en/index.html)\n",
    "\n",
    "How to manipulate generating functions with **SymPy**. Let consider the example bellow:\n",
    "\n",
    "$$\n",
    "f(x) = \\frac{1}{1-2x} = 1 + 2x + 4x^2 + 8x^3 + 16x^4 + ...\n",
    "$$\n",
    "\n",
    "first we introduce a symbolic variable ***x*** and an expression ***f*** as follows:"
   ]
  },
  {
   "cell_type": "code",
   "execution_count": 5,
   "id": "ab127a62",
   "metadata": {
    "scrolled": true
   },
   "outputs": [
    {
     "name": "stdout",
     "output_type": "stream",
     "text": [
      "f = 1/(1 - 2*x)\n",
      "\n",
      "Series expression for f in range 0 to 10 is: \n",
      "1 + 2*x + 4*x**2 + 8*x**3 + 16*x**4 + 32*x**5 + 64*x**6 + 128*x**7 + 256*x**8 + 512*x**9 + O(x**10)\n"
     ]
    }
   ],
   "source": [
    "x = var('x')\n",
    "\n",
    "f = (1/(1-2*x))\n",
    "\n",
    "print(f'f = {f}')\n",
    "\n",
    "print(f'\\nSeries expression for f in range 0 to 10 is: \\n{f.series(x,0,10)}')"
   ]
  },
  {
   "cell_type": "code",
   "execution_count": 6,
   "id": "06c747ae",
   "metadata": {},
   "outputs": [
    {
     "data": {
      "text/latex": [
       "$\\displaystyle 1 + 2 x + 4 x^{2} + 8 x^{3} + 16 x^{4} + 32 x^{5} + 64 x^{6} + 128 x^{7} + 256 x^{8} + 512 x^{9} + O\\left(x^{10}\\right)$"
      ],
      "text/plain": [
       "1 + 2*x + 4*x**2 + 8*x**3 + 16*x**4 + 32*x**5 + 64*x**6 + 128*x**7 + 256*x**8 + 512*x**9 + O(x**10)"
      ]
     },
     "execution_count": 6,
     "metadata": {},
     "output_type": "execute_result"
    }
   ],
   "source": [
    "f.series(x,0,10)"
   ]
  },
  {
   "cell_type": "markdown",
   "id": "67e183e1",
   "metadata": {},
   "source": [
    "We can extract $n^{th}$ coefficient as follows:\n",
    "    \n",
    "- **f** has to be truncated at order k (for some k > n) with ***f.series($x, 0, k$)***\n",
    "- the $n^{th}$ coefficient is then extracted by **f.coeff($x^n$)**"
   ]
  },
  {
   "cell_type": "code",
   "execution_count": 7,
   "id": "9c434ab1",
   "metadata": {},
   "outputs": [
    {
     "data": {
      "text/latex": [
       "$\\displaystyle 1 + 2 x + 4 x^{2} + 8 x^{3} + 16 x^{4} + 32 x^{5} + 64 x^{6} + 128 x^{7} + O\\left(x^{8}\\right)$"
      ],
      "text/plain": [
       "1 + 2*x + 4*x**2 + 8*x**3 + 16*x**4 + 32*x**5 + 64*x**6 + 128*x**7 + O(x**8)"
      ]
     },
     "execution_count": 7,
     "metadata": {},
     "output_type": "execute_result"
    }
   ],
   "source": [
    "f_truncated = f.series(x, 0, 8)\n",
    "f_truncated"
   ]
  },
  {
   "cell_type": "code",
   "execution_count": 8,
   "id": "b686f3b6",
   "metadata": {},
   "outputs": [
    {
     "name": "stdout",
     "output_type": "stream",
     "text": [
      "Truncated f = 1 + 2*x + 4*x**2 + 8*x**3 + 16*x**4 + 32*x**5 + 64*x**6 + 128*x**7 + O(x**8)\n",
      "\n",
      "6th coeff for f function is: 64\n"
     ]
    }
   ],
   "source": [
    "print(f'Truncated f = {f_truncated}')\n",
    "\n",
    "n = 6\n",
    "\n",
    "nthCoeff_f = f_truncated.coeff(x**n)\n",
    "print(f'\\n{n}th coeff for f function is: {nthCoeff_f}')"
   ]
  },
  {
   "cell_type": "code",
   "execution_count": null,
   "id": "249dd685",
   "metadata": {},
   "outputs": [],
   "source": []
  },
  {
   "cell_type": "code",
   "execution_count": null,
   "id": "776b3b27",
   "metadata": {},
   "outputs": [],
   "source": []
  },
  {
   "cell_type": "markdown",
   "id": "65f3ccde",
   "metadata": {},
   "source": [
    "## 1. Fibonacci Generating Function\n",
    "\n",
    "[Useful Link](https://austinrochford.com/posts/2013-11-01-generating-functions-and-fibonacci-numbers.html)\n",
    "\n",
    "The generating function of the Fibonacci sequence is given by:\n",
    "\n",
    "$$\n",
    "F(x) = \\frac{1}{1-x-x^2}\n",
    "$$\n",
    "\n",
    "### Exercises: \n",
    "\n",
    "1. Write a recursive function **Fibonacci(n)** which return the $n^{th}$ Fibonacci number.\n",
    "2. Write another function **FibonacciGF(n)** which also returns the $n^{th}$ Fibonacci number by extracting the $n^{th}$ coefficient in **F(x)**"
   ]
  },
  {
   "cell_type": "code",
   "execution_count": 14,
   "id": "e6659dfc",
   "metadata": {},
   "outputs": [
    {
     "name": "stdout",
     "output_type": "stream",
     "text": [
      "Recursive is: \n",
      "[1, 1, 2, 3, 5, 8, 13, 21, 34, 55, 89, 144, 233, 377, 610, 987, 1597, 2584, 4181]\n",
      "\n",
      "Generative function is: \n",
      "[1, 1, 2, 3, 5, 8, 13, 21, 34, 55, 89, 144, 233, 377, 610, 987, 1597, 2584, 4181]\n"
     ]
    }
   ],
   "source": [
    "def Fibonacci(n):\n",
    "    if n in {0,1}:\n",
    "        return n\n",
    "    return Fibonacci(n-1) + Fibonacci(n-2)\n",
    "\n",
    "def FibonacciGF(n):\n",
    "    x = var('x')\n",
    "    f = 1/(1-x-x**2)\n",
    "    f_truncated = f.series(x, 0, n+1)\n",
    "    return f_truncated.coeff(x**n)\n",
    "\n",
    "print(f'Recursive is: \\n{[Fibonacci(n) for n in range(1, 20)]}')\n",
    "\n",
    "series = [FibonacciGF(n) for n in range(1,19)]\n",
    "series.insert(0,1)\n",
    "print(f'\\nGenerative function is: \\n{series}')"
   ]
  },
  {
   "cell_type": "markdown",
   "id": "5f770837",
   "metadata": {},
   "source": [
    "### Exercises:\n",
    "\n",
    "1. For both algorithms, plot the execution time for **Fibonacci(n)** and **FibonacciGF(n)** (say, for 20 <= n <= 40)\n",
    "\n",
    "Hint: Use the library **time**. For instance the following script returns the execution time of **Fibonacci(14)**:\n",
    "\n",
    "```python\n",
    "import time\n",
    "time1 = time.process_time()\n",
    "Fibonacci(14)\n",
    "time2 = time.process_time()\n",
    "print(time1-time2)\n",
    "```\n",
    "\n",
    "2. What is your comment about them?"
   ]
  },
  {
   "cell_type": "code",
   "execution_count": 18,
   "id": "9602b202",
   "metadata": {},
   "outputs": [
    {
     "data": {
      "image/png": "[encoded data removed]",
      "text/plain": [
       "<Figure size 640x480 with 1 Axes>"
      ]
     },
     "metadata": {},
     "output_type": "display_data"
    }
   ],
   "source": [
    "import time\n",
    "\n",
    "# Store the time\n",
    "RunTimeFibonacci, RunTimeFibonacciGF = [], []\n",
    "\n",
    "# a = min, b = max\n",
    "a = 20\n",
    "b = 40\n",
    "\n",
    "# Recursive\n",
    "for n in range(a, b):\n",
    "    time1 = time.process_time()\n",
    "    Fibonacci(n)\n",
    "    time2 = time.process_time()\n",
    "    RunTimeFibonacci.append(time2-time1)\n",
    "\n",
    "# Generative Function\n",
    "for n in range(a, b):\n",
    "    time1 = time.process_time()\n",
    "    FibonacciGF(n)\n",
    "    time2 = time.process_time()\n",
    "    RunTimeFibonacciGF.append(time2-time1)\n",
    "\n",
    "# Plot the result\n",
    "N = range(a, b)\n",
    "plt.plot(N, RunTimeFibonacci, 'o', label ='Recirsive')\n",
    "plt.plot(N, RunTimeFibonacciGF, 'o', label ='GF')\n",
    "plt.legend()\n",
    "plt.show()"
   ]
  },
  {
   "cell_type": "code",
   "execution_count": 20,
   "id": "80f6bd3e",
   "metadata": {},
   "outputs": [
    {
     "data": {
      "image/png": "[encoded data removed]",
      "text/plain": [
       "<Figure size 640x480 with 1 Axes>"
      ]
     },
     "metadata": {},
     "output_type": "display_data"
    }
   ],
   "source": [
    "# Store the time\n",
    "RunTimeFibonacciGF = []\n",
    "\n",
    "# a = min, b = max\n",
    "a = 10\n",
    "b = 80\n",
    "\n",
    "# Generative Function\n",
    "for n in range(a, b):\n",
    "    time1 = time.process_time()\n",
    "    FibonacciGF(n)\n",
    "    time2 = time.process_time()\n",
    "    RunTimeFibonacciGF.append(time2-time1)\n",
    "\n",
    "# Plot the result\n",
    "N = range(a, b)\n",
    "plt.plot(N, RunTimeFibonacciGF, 'o', label ='GF')\n",
    "plt.legend()\n",
    "plt.show()"
   ]
  },
  {
   "cell_type": "markdown",
   "id": "02ad43d2",
   "metadata": {},
   "source": [
    "**Answer:** The running time of the GF-algorithm seems linear while the runnig time of the recirsive functions looks exponential. For n>= 30 the GF-algorithm is faster."
   ]
  },
  {
   "cell_type": "code",
   "execution_count": null,
   "id": "35537d37",
   "metadata": {},
   "outputs": [],
   "source": []
  },
  {
   "cell_type": "code",
   "execution_count": null,
   "id": "7563da07",
   "metadata": {},
   "outputs": [],
   "source": []
  },
  {
   "cell_type": "markdown",
   "id": "330b5034",
   "metadata": {},
   "source": [
    "## 2. Recurrence of order two and asymptotics\n",
    "\n",
    "Let $j_n$ be defined by"
   ]
  },
  {
   "cell_type": "markdown",
   "id": "1f4851b8",
   "metadata": {},
   "source": [
    "$$\n",
    "j_0 = 0,\\\\\n",
    "j_1 = 1,\\\\\n",
    "j_2 = 2,\\\\\n",
    "j_n = 2j_{n-2} + 5 \\;\\;\\;\\; (for \\; every \\; n >= 3)\n",
    "$$\n",
    "\n",
    "**DO IT:** Find the expression for the generating function **J(x)** of the $j_n$'s. (We can ask **SymPy** to solve any equation)"
   ]
  },
  {
   "cell_type": "markdown",
   "id": "bfc0e3f2",
   "metadata": {},
   "source": [
    "**Answer:**  We multiply the last eq. by $x^n$ and sum the resulting expression for all n >= 3:\n",
    "\n",
    "$$\n",
    "\\sum_{n>=3}j_nx^n = 2\\sum_{n>=3}j_{n-2}x^n + 5\\sum_{n>=3}x^n \\\\\n",
    "J(x)-j_1x-j_2x^2 = 2 \\sum_{p>=1}j_px^{p+2}+5(x^3+x^4+x^5+...) \\;\\;\\; (we \\; put \\; n-2=p) \\\\\n",
    "J(x)-x-2x^2 = 2x^2J(x)+5 \\frac{x^3}{1-x}\n",
    "$$\n",
    "\n",
    "we can solve the last equation with the following script.\n",
    "\n",
    "[SymPy 1.11 documentation](https://docs.sympy.org/latest/modules/solvers/solvers.html)"
   ]
  },
  {
   "cell_type": "code",
   "execution_count": 33,
   "id": "22b36663",
   "metadata": {},
   "outputs": [
    {
     "name": "stdout",
     "output_type": "stream",
     "text": [
      "J(x) = x*(3*x**2 + x + 1)/(2*x**3 - 2*x**2 - x + 1)\n"
     ]
    }
   ],
   "source": [
    "x = symbols('x')\n",
    "j = symbols('j')\n",
    "\n",
    "SeriesJ = solve(j-x-2*x**2-2*x**2*j-5*x**3/(1-x), j)\n",
    "\n",
    "print(f'J(x) = {SeriesJ[0]}')"
   ]
  },
  {
   "cell_type": "markdown",
   "id": "ff799d6c",
   "metadata": {},
   "source": [
    "Answer: we find\n",
    "\n",
    "$$\n",
    "J(x) = \\frac{x(3x^2+x+1)}{2x^3-2x^2-x+1}\n",
    "$$\n",
    "\n",
    "**DO IT:** \n",
    "\n",
    "1. Write a function which extracts the n-th coefficient in **J(x)**\n",
    "2. Compare your results with a recursive function which computes the $j_n$'s"
   ]
  },
  {
   "cell_type": "code",
   "execution_count": 39,
   "id": "a260e28d",
   "metadata": {},
   "outputs": [
    {
     "name": "stdout",
     "output_type": "stream",
     "text": [
      "Recursive is: \n",
      "[1, 2, 7, 9, 19, 23, 43, 51, 91, 107, 187, 219, 379, 443]\n"
     ]
    }
   ],
   "source": [
    "def j_recursive(n):\n",
    "    if n==0:\n",
    "        return 0\n",
    "    elif n==1:\n",
    "        return 1\n",
    "    elif n==2:\n",
    "        return 2\n",
    "    else:\n",
    "        return 2*j_recursive(n-2)+5\n",
    "    \n",
    "print(f'Recursive is: \\n{[j_recursive(n) for n in range(1,15)]}')"
   ]
  },
  {
   "cell_type": "code",
   "execution_count": 40,
   "id": "5e834249",
   "metadata": {},
   "outputs": [
    {
     "name": "stdout",
     "output_type": "stream",
     "text": [
      "Generative Function = \n",
      "[1, 2, 7, 9, 19, 23, 43, 51, 91, 107, 187, 219, 379, 443]\n"
     ]
    }
   ],
   "source": [
    "def j_GF(n):\n",
    "    x = symbols('x')\n",
    "    j = Function('j')\n",
    "    j = x*(3*x**2+x+1)/(2*x**3-2*x**2-x+1)\n",
    "    j_truncated = j.series(x, 0, n+1)\n",
    "    return j_truncated.coeff(x**n)\n",
    "\n",
    "print(f'Generative Function = \\n{[j_GF(n) for n in range(1, 15)]}')"
   ]
  },
  {
   "cell_type": "code",
   "execution_count": 41,
   "id": "b809b7a4",
   "metadata": {
    "scrolled": false
   },
   "outputs": [
    {
     "data": {
      "image/png": "[encoded data removed]",
      "text/plain": [
       "<Figure size 640x480 with 1 Axes>"
      ]
     },
     "metadata": {},
     "output_type": "display_data"
    }
   ],
   "source": [
    "import time\n",
    "\n",
    "# Store the time\n",
    "RunRecursive, RunGenerative = [], []\n",
    "\n",
    "# a = min, b = max\n",
    "a = 1\n",
    "b = 30\n",
    "\n",
    "# Recursive\n",
    "for n in range(a, b):\n",
    "    time1 = time.process_time()\n",
    "    j_recursive(n)\n",
    "    time2 = time.process_time()\n",
    "    RunRecursive.append(time2-time1)\n",
    "\n",
    "# Generative Function\n",
    "for n in range(a, b):\n",
    "    time1 = time.process_time()\n",
    "    j_GF(n)\n",
    "    time2 = time.process_time()\n",
    "    RunGenerative.append(time2-time1)\n",
    "\n",
    "# Plot the result\n",
    "N = range(a, b)\n",
    "plt.plot(N, RunRecursive, 'o', label ='Recirsive')\n",
    "plt.plot(N, RunGenerative, 'o', label ='GF')\n",
    "plt.legend()\n",
    "plt.show()"
   ]
  },
  {
   "cell_type": "code",
   "execution_count": null,
   "id": "c4b5e579",
   "metadata": {},
   "outputs": [],
   "source": []
  },
  {
   "cell_type": "code",
   "execution_count": null,
   "id": "c253e9da",
   "metadata": {},
   "outputs": [],
   "source": []
  },
  {
   "cell_type": "markdown",
   "id": "01e565db",
   "metadata": {},
   "source": [
    "## 3. A pair of generating functions\n",
    "\n",
    "Let $a_n, b_n$ be defined by $a_1 = b_1 = 1$ and, for every $n >= 1$,\n",
    "\n",
    "$$\n",
    "\\left\\{\n",
    "    \\begin{array}\\\\\n",
    "        a_{n+1} = a_n+2b_n, \\\\\n",
    "        b_{n+1} = a_n+b_n \\\\\n",
    "    \\end{array}\n",
    "\\right.\n",
    "$$\n",
    "\n",
    "$a_n, b_n \\; are \\; defined \\;by \\;(1+\\sqrt{2})^n = a_n + b_n \\sqrt{2}$\n",
    "\n",
    "**Do IT:** \n",
    "1. Find a 2x2 system whose solutions are A(x), B(x), where A, B are the generating functions of sequences $(a_n)_{n>=1}, (b_n)_{n>=1}$ (Coefficients of this system should depend on x)\n",
    "\n",
    "2. Solve this system with **solve** and write a script which uses function A to return $a_1, ..., a_{20}$"
   ]
  },
  {
   "cell_type": "markdown",
   "id": "ef6b15cc",
   "metadata": {},
   "source": [
    "**Answer:** \n",
    "1. We multiply both terms of both equations in the last equations by $x^{n+1}$ and take the sum for n >= 1. we obtain\n",
    "\n",
    "$$\n",
    "\\left\\{\n",
    "    \\begin{array}\\\\\n",
    "        \\sum_{n>=1} a_{n+1}x^{n+1} = \\sum_{n>=1}a_nx^{n+1} + 2\\sum_{n>=1}b_nx^{n+1}, \\\\\n",
    "        \\sum_{n>=1} b_{n+1}x^{n+1} = \\sum_{n>=1}a_nx^{n+1} + \\sum_{n>=1}b_nx^{n+1} \\\\\n",
    "    \\end{array}\n",
    "\\right.\n",
    "$$\n",
    "\n",
    "We find\n",
    "\n",
    "$$\n",
    "\\left\\{\n",
    "    \\begin{array}\\\\\n",
    "        A(x) - x = xA(x) + 2xB(x), \\\\\n",
    "        B(x) - x = xA(x) + xB(x) \\\\\n",
    "    \\end{array}\n",
    "\\right.\n",
    "$$\n",
    "\n",
    "In the above script we solve this system of equations. We find\n",
    "\n",
    "$$\n",
    "\\left\\{\n",
    "    \\begin{array}\\\\\n",
    "        A(x) = -\\frac{x(x+1)}{x^2+2x-1}, \\\\\n",
    "        B(x) = -\\frac{x}{x^2+2x-1} \\\\\n",
    "    \\end{array}\n",
    "\\right.\n",
    "$$"
   ]
  },
  {
   "cell_type": "code",
   "execution_count": 42,
   "id": "cf9d7f50",
   "metadata": {},
   "outputs": [
    {
     "name": "stdout",
     "output_type": "stream",
     "text": [
      "{A: (-x**2 - x)/(x**2 + 2*x - 1), B: -x/(x**2 + 2*x - 1)} \n",
      "\n",
      "\n",
      "A(x) = x + 3*x**2 + 7*x**3 + 17*x**4 + 41*x**5 + 99*x**6 + 239*x**7 + 577*x**8 + 1393*x**9 + O(x**10)\n",
      "\n",
      "\n",
      "B(x) = x + 2*x**2 + 5*x**3 + 12*x**4 + 29*x**5 + 70*x**6 + 169*x**7 + 408*x**8 + 985*x**9 + O(x**10)\n",
      "\n",
      "\n",
      "[1, 3, 7, 17, 41, 99, 239, 577, 1393, 3363, 8119, 19601, 47321, 114243, 275807, 665857, 1607521, 3880899, 9369319, 22619537] \n",
      "\n",
      "[1, 2, 5, 12, 29, 70, 169, 408, 985, 2378, 5741, 13860, 33461, 80782, 195025, 470832, 1136689, 2744210, 6625109, 15994428]\n"
     ]
    }
   ],
   "source": [
    "#------ Question 2\n",
    "# We solve the system\n",
    "var('A B x')\n",
    "Solutions = solve([A-x-x*A-2*x*B, B-x-x*A-x*B], [A, B])\n",
    "print(f'{Solutions} \\n\\n')\n",
    "\n",
    "# We obtain the following expression:\n",
    "FunctionA = -x*(x+1)/(x**2 + 2*x - 1)\n",
    "FunctionB = -x/(x**2 + 2*x - 1)\n",
    "\n",
    "print(\"A(x) = \"+ str(FunctionA.series(x, 0, 10)))\n",
    "print(\"\\n\\nB(x) = \"+ str(FunctionB.series(x, 0, 10)) + \"\\n\\n\")\n",
    "\n",
    "#We extract a_1, a_2, ...\n",
    "N=20\n",
    "\n",
    "A_truncated = FunctionA.series(x, 0, N+2)\n",
    "FirstCoefficients = [A_truncated.coeff(x**n) for n in range(1, N+1)]\n",
    "print(f'{FirstCoefficients} \\n')\n",
    "\n",
    "B_truncated = FunctionB.series(x, 0, N+2)\n",
    "SecondCoefficients = [B_truncated.coeff(x**n) for n in range(1, N+1)]\n",
    "print(SecondCoefficients)"
   ]
  },
  {
   "cell_type": "code",
   "execution_count": null,
   "id": "a0ae9303",
   "metadata": {},
   "outputs": [],
   "source": []
  },
  {
   "cell_type": "code",
   "execution_count": null,
   "id": "4cc6f006",
   "metadata": {},
   "outputs": [],
   "source": []
  },
  {
   "cell_type": "markdown",
   "id": "c808fd9c",
   "metadata": {},
   "source": [
    "## 4. Automatic decomposition of fractions\n",
    "\n",
    "Generative functions are useful to decompose fractions like this:\n",
    "\n",
    "$$\n",
    "\\frac{1-x+x^2}{(1-2x)(1-x)^2} = \\frac{3}{1-2x} - \\frac{1}{1-x} - \\frac{1}{(1-x)^2}\n",
    "$$\n",
    "\n",
    "Let's see how to do that with SymPy.\n",
    "\n",
    "### Exercises:\n",
    "\n",
    "**DO IT:** The goal of the exercise is to find coefficients $\\alpha, \\beta, a, b, c$ such that\n",
    "\n",
    "$$\n",
    "A(x) = \\frac{a}{x-\\alpha} + \\frac{b}{x - \\beta} + c,\n",
    "$$\n",
    "\n",
    "where\n",
    "\n",
    "$$\n",
    "A(x) = \\frac{-x(x+1)}{x^2 + 2x - 1}\n",
    "$$\n",
    "\n",
    "was defined in the previous exercise.\n",
    "\n",
    "1. (Theory) Compute $\\lim_{x \\to +\\infty} A(x) \\; and \\; deduce \\; c,$\n",
    "2. (Theory + SymPy) Use **SymPy** to find coeficients $\\alpha, \\beta$\n",
    "3. (Theory + SymPy) Use **SymPy** again to find coefficients $a, b$"
   ]
  },
  {
   "cell_type": "markdown",
   "id": "7133de5d",
   "metadata": {},
   "source": [
    "**Answer:** ***Question 1.*** Taking the limit $(x \\to +\\infty)$ in the equation\n",
    "\n",
    "$$\n",
    "\\frac{a}{x-\\alpha} + \\frac{b}{x - \\beta} + c = \\frac{-x(x+1)}{x^2 + 2x - 1}\n",
    "$$\n",
    "\n",
    "yields 0 + 0 + c = -1"
   ]
  },
  {
   "cell_type": "code",
   "execution_count": 43,
   "id": "0d1a03ac",
   "metadata": {},
   "outputs": [
    {
     "data": {
      "text/plain": [
       "[-1 + sqrt(2), -sqrt(2) - 1]"
      ]
     },
     "execution_count": 43,
     "metadata": {},
     "output_type": "execute_result"
    }
   ],
   "source": [
    "# Question 2\n",
    "# We solve \"denominator of A = 0\" to find alpha, beta\n",
    "var('x')\n",
    "solve(x**2+2*x-1,x)"
   ]
  },
  {
   "cell_type": "markdown",
   "id": "3cc51651",
   "metadata": {},
   "source": [
    "**Answer:** ***Question 2.***\n",
    "\n",
    "The short code above shows that\n",
    "\n",
    "$$\n",
    "A(x) = \\frac{-x(x+1)}{x^2 + 2x - 1} = \\frac{-x(x+1)}{(x-(\\sqrt{2}-1))(x-(-\\sqrt{2}-1))}\n",
    "$$\n",
    "\n",
    "So we must have that $\\alpha = \\sqrt{2}-1$ and $\\beta = -\\sqrt{2}-1$ (or the contrary) to ensure that A has the proper definition domain."
   ]
  },
  {
   "cell_type": "code",
   "execution_count": 45,
   "id": "be52637c",
   "metadata": {},
   "outputs": [
    {
     "name": "stdout",
     "output_type": "stream",
     "text": [
      "{a: 1/2 - sqrt(2)/2, b: 1/2 + sqrt(2)/2} \n",
      "\n",
      "-1 + \\frac{\\frac{1}{2} - \\frac{\\sqrt{2}}{2}}{x - \\sqrt{2} + 1} + \\frac{\\frac{1}{2} + \\frac{\\sqrt{2}}{2}}{x + 1 + \\sqrt{2}}\n"
     ]
    }
   ],
   "source": [
    "# Question 3\n",
    "# We use A(1), A(0) to find a, b\n",
    "\n",
    "var('a b alpha beta x')\n",
    "\n",
    "alpha = -1+sqrt(2)\n",
    "beta = -sqrt(2)-1\n",
    "\n",
    "# Left-hand side:\n",
    "def A_factorized(x):\n",
    "    return -(x*(x+1))/(x**2+2*x-1)\n",
    "\n",
    "# Right-hand side:\n",
    "def A_decomposed(x, a, b, alpha, beta):\n",
    "    return a/(x-alpha)+b/(x-beta)+(-1)\n",
    "\n",
    "# We define a, b by solving the following system:\n",
    "Solutions = solve([A_factorized(0)-A_decomposed(0, a, b, alpha, beta), \n",
    "                   A_factorized(1)-A_decomposed(1,a,b,alpha,beta)])\n",
    "print(f'{Solutions} \\n')\n",
    "astar=Solutions[a]\n",
    "bstar=Solutions[b]\n",
    "\n",
    "# to get a nice formula\n",
    "var('x')\n",
    "print(latex(A_decomposed(x, astar, bstar, alpha, beta)))"
   ]
  },
  {
   "cell_type": "markdown",
   "id": "b40122f9",
   "metadata": {},
   "source": [
    "**Answer:** ***Question 3.*** In order to find a, b we solve with the previous code the system\n",
    "\n",
    "$$\n",
    "\\left\\{\n",
    "    \\begin{array}\\\\\n",
    "        A(0) = \\frac{a}{0-\\alpha} + \\frac{b}{0 - \\beta} + -1, \\\\\n",
    "        A(1) = \\frac{a}{1-\\alpha} + \\frac{b}{1 - \\beta} + -1 \\\\\n",
    "    \\end{array}\n",
    "\\right.\n",
    "$$\n",
    "\n",
    "with $\\alpha = \\sqrt{2}-1$ and $\\beta = -\\sqrt{2}-1$ we find {b: 1/2 + sqrt(2)/(2), a, -sqrt(2)/(2) + 1/2} and finally:\n",
    "\n",
    "$$\n",
    "A(x) = -1 + \\frac{-\\frac{\\sqrt(2)}{2} + \\frac{1}{2}}{x-\\sqrt(2)+1} + \\frac{\\frac{1}{2} + \\frac{\\sqrt(2)}{2}}{x+1+\\sqrt(2)}\n",
    "$$"
   ]
  },
  {
   "cell_type": "code",
   "execution_count": null,
   "id": "ced14fcf",
   "metadata": {},
   "outputs": [],
   "source": []
  }
 ],
 "metadata": {
  "kernelspec": {
   "display_name": "Python 3 (ipykernel)",
   "language": "python",
   "name": "python3"
  },
  "language_info": {
   "codemirror_mode": {
    "name": "ipython",
    "version": 3
   },
   "file_extension": ".py",
   "mimetype": "text/x-python",
   "name": "python",
   "nbconvert_exporter": "python",
   "pygments_lexer": "ipython3",
   "version": "3.10.9"
  }
 },
 "nbformat": 4,
 "nbformat_minor": 5
}
