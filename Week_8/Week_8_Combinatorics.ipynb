{
 "cells": [
  {
   "cell_type": "markdown",
   "id": "66755134",
   "metadata": {},
   "source": [
    "# Semianr 8 - Combinatoris, Graph, Boolean Logic"
   ]
  },
  {
   "cell_type": "code",
   "execution_count": null,
   "id": "eb4f642f",
   "metadata": {},
   "outputs": [],
   "source": []
  },
  {
   "cell_type": "markdown",
   "id": "330b5034",
   "metadata": {},
   "source": [
    "## Applying Generative Functions for Polynomial Multipication\n",
    "\n",
    "**Question:** How many ways we can load a ship with the maximum capacity of 100 tons?\n",
    "\n",
    "    a) Use 10, 20, and 50 tons containers only.\n",
    "    \n",
    "    b) Use 5, 10, 20, and 50 tons containers only.\n",
    "    \n",
    "    c) Use 5, 10, 20, and 50 tons containers with at least one container each.\n",
    "    \n",
    "    d) Use 5, 10, and 20 containers with at least one container each, and each no more than 4 times.\n",
    "\n",
    "### Answer for question a)\n",
    "\n",
    "```\n",
    "ship_capacity = 100\n",
    "\n",
    "containers = [10, 20, 50]\n",
    "\n",
    "10 tons --> (x^10)^0 + (x^10)^1 + (x^10)^2 + ... == 1 + x^10 + x^20 + ...\n",
    "20 tons --> (x^20)^0 + (x^20)^1 + (x^20)^2 + ... == 1 + x^20 + x^40 + ...\n",
    "50 tons --> (x^50)^0 + (x^50)^1 + (x^50)^2 + ... == 1 + x^50 + x^100 + ...\n",
    "\n",
    "(1 + x^10 + x^20 + ...) * (1 + x^20 + x^40 + ...) * (1 + x^50 + x^100 + ...) = H1 + H2 + ...\n",
    "\n",
    "coeff. 100 ==> 10\n",
    "```"
   ]
  },
  {
   "cell_type": "code",
   "execution_count": 1,
   "id": "03992950",
   "metadata": {},
   "outputs": [],
   "source": [
    "import numpy as np\n",
    "import time\n",
    "import random\n",
    "from numpy import convolve"
   ]
  },
  {
   "cell_type": "code",
   "execution_count": 2,
   "id": "7ad0735b",
   "metadata": {},
   "outputs": [],
   "source": [
    "ship_capacity = 100\n",
    "\n",
    "# Generate for 5 tons containers\n",
    "fives = np.zeros(ship_capacity +1)\n",
    "indices = np.arange(0, ship_capacity+1, 5, dtype = int)\n",
    "fives[indices] = 1"
   ]
  },
  {
   "cell_type": "code",
   "execution_count": 3,
   "id": "d2ef5034",
   "metadata": {},
   "outputs": [],
   "source": [
    "# Generate for 10 tons containers\n",
    "tens = np.zeros(ship_capacity +1)\n",
    "indices = np.arange(0, ship_capacity+1, 10, dtype = int)\n",
    "tens[indices] = 1"
   ]
  },
  {
   "cell_type": "code",
   "execution_count": 4,
   "id": "4610dabf",
   "metadata": {},
   "outputs": [],
   "source": [
    "# Generate for 20 tons containers\n",
    "twenties = np.zeros(ship_capacity +1)\n",
    "indices = np.arange(0, ship_capacity+1, 20, dtype = int)\n",
    "twenties[indices] = 1"
   ]
  },
  {
   "cell_type": "code",
   "execution_count": 5,
   "id": "3acb9e18",
   "metadata": {},
   "outputs": [],
   "source": [
    "# Generate for 50 tons containers\n",
    "fifties = np.zeros(ship_capacity +1)\n",
    "indices = np.arange(0, ship_capacity+1, 50, dtype = int)\n",
    "fifties[indices] = 1"
   ]
  },
  {
   "cell_type": "code",
   "execution_count": 6,
   "id": "e699ee8a",
   "metadata": {},
   "outputs": [
    {
     "data": {
      "text/plain": [
       "10.0"
      ]
     },
     "execution_count": 6,
     "metadata": {},
     "output_type": "execute_result"
    }
   ],
   "source": [
    "result = convolve(convolve(tens, twenties), fifties)\n",
    "result[ship_capacity]"
   ]
  },
  {
   "cell_type": "markdown",
   "id": "1ff56622",
   "metadata": {},
   "source": [
    "### Answer for question b)\n",
    "\n",
    "```\n",
    "ship_capacity = 100\n",
    "\n",
    "containers = [5, 10, 20, 50]\n",
    "\n",
    "5 tons --> (x^5)^0 + (x^5)^1 + (x^5)^2 + ... == 1 + x^5 + x^10 + ...\n",
    "10 tons --> (x^10)^0 + (x^10)^1 + (x^10)^2 + ... == 1 + x^10 + x^20 + ...\n",
    "20 tons --> (x^20)^0 + (x^20)^1 + (x^20)^2 + ... == 1 + x^20 + x^40 + ...\n",
    "10 tons --> (x^50)^0 + (x^50)^1 + (x^50)^2 + ... == 1 + x^50 + x^100 + ...\n",
    "\n",
    "(1 + x^5 + x^10 + ...) * (1 + x^10 + x^20 + ...) * (1 + x^20 + x^40 + ...) * (1 + x^50 + x^100 + ...) = H1 + H2 + ...\n",
    "\n",
    "coeff. 100 ==> 49\n",
    "```"
   ]
  },
  {
   "cell_type": "code",
   "execution_count": 7,
   "id": "a1a1d32b",
   "metadata": {},
   "outputs": [
    {
     "data": {
      "text/plain": [
       "49.0"
      ]
     },
     "execution_count": 7,
     "metadata": {},
     "output_type": "execute_result"
    }
   ],
   "source": [
    "result = convolve(convolve(convolve(tens, fives), twenties), fifties)\n",
    "result[ship_capacity]"
   ]
  },
  {
   "cell_type": "markdown",
   "id": "badf6d49",
   "metadata": {},
   "source": [
    "### Answer for question c)\n",
    "\n",
    "```\n",
    "ship_capacity = 100\n",
    "\n",
    "containers = [5, 10, 20, 50]\n",
    "\n",
    "5 tons --> (x^5)^1 + (x^5)^2 + ... == x^5 + x^5 + ...\n",
    "10 tons --> (x^10)^1 + (x^10)^2 + ... == x^10 + x^20 + ...\n",
    "20 tons --> (x^20)^1 + (x^20)^2 + ... == x^20 + x^40 + ...\n",
    "50 tons --> (x^50)^1 + (x^50)^2 + ... == x^50 + x^100 + ...\n",
    "\n",
    "(x^5 + x^5 + ...) *(x^10 + x^20 + ...) * (x^20 + x^40 + ...) * (x^50 + x^100 + ...) = H1 + H2 + ...\n",
    "\n",
    "coeff. 100 ==> 2\n",
    "```"
   ]
  },
  {
   "cell_type": "code",
   "execution_count": 8,
   "id": "d327fc30",
   "metadata": {},
   "outputs": [],
   "source": [
    "# Generate for 5 tons containers\n",
    "fives = np.zeros(ship_capacity +1)\n",
    "indices = np.arange(5, ship_capacity+1, 5, dtype = int)\n",
    "fives[indices] = 1\n",
    "\n",
    "# Generate for 10 tons containers\n",
    "tens = np.zeros(ship_capacity +1)\n",
    "indices = np.arange(10, ship_capacity+1, 10, dtype = int)\n",
    "tens[indices] = 1\n",
    "\n",
    "# Generate for 20 tons containers\n",
    "twenties = np.zeros(ship_capacity +1)\n",
    "indices = np.arange(20, ship_capacity+1, 20, dtype = int)\n",
    "twenties[indices] = 1\n",
    "\n",
    "# Generate for 50 tons containers\n",
    "fifties = np.zeros(ship_capacity +1)\n",
    "indices = np.arange(50, ship_capacity+1, 50, dtype = int)\n",
    "fifties[indices] = 1"
   ]
  },
  {
   "cell_type": "code",
   "execution_count": 9,
   "id": "d797fa3f",
   "metadata": {},
   "outputs": [
    {
     "data": {
      "text/plain": [
       "2.0"
      ]
     },
     "execution_count": 9,
     "metadata": {},
     "output_type": "execute_result"
    }
   ],
   "source": [
    "result = convolve(convolve(convolve(fives, tens), twenties), fifties)\n",
    "result[ship_capacity]"
   ]
  },
  {
   "cell_type": "markdown",
   "id": "de6905ca",
   "metadata": {},
   "source": [
    "### Answer for question d)\n",
    "\n",
    "```\n",
    "ship_capacity = 100\n",
    "\n",
    "containers = [5, 10, 20]\n",
    "\n",
    "5 tons --> (x^5)^1 + (x^5)^2 + ... == x^5 + x^10 + x^15 + x^20\n",
    "10 tons --> (x^10)^1 + (x^10)^2 + ... == x^10 + x^20 + x^30 + x^40\n",
    "20 tons --> (x^20)^1 + (x^20)^2 + ... == x^20 + x^40 + x^60 + x^80\n",
    "\n",
    "(x^5 + x^10 + x^15 + x^20) * (x^10 + x^20 + x^30 + x^40) * (x^20 + x^40 + x^60 + x^80) = H1 + H2 + ...\n",
    "\n",
    "coeff. 100 ==> 4\n",
    "```"
   ]
  },
  {
   "cell_type": "code",
   "execution_count": 10,
   "id": "edebf7a0",
   "metadata": {},
   "outputs": [],
   "source": [
    "N = 4\n",
    "\n",
    "# Generate for 5 tons containers\n",
    "fives = np.zeros(ship_capacity +1)\n",
    "indices = np.arange(5, (N*5)+1, 5, dtype = int)\n",
    "fives[indices] = 1\n",
    "\n",
    "# Generate for 10 tons containers\n",
    "tens = np.zeros(ship_capacity +1)\n",
    "indices = np.arange(10, (N*10)+1, 10, dtype = int)\n",
    "tens[indices] = 1\n",
    "\n",
    "# Generate for 20 tons containers\n",
    "twenties = np.zeros(ship_capacity +1)\n",
    "indices = np.arange(20, (N*20)+1, 20, dtype = int)\n",
    "twenties[indices] = 1"
   ]
  },
  {
   "cell_type": "code",
   "execution_count": 11,
   "id": "6541ced6",
   "metadata": {},
   "outputs": [
    {
     "data": {
      "text/plain": [
       "4.0"
      ]
     },
     "execution_count": 11,
     "metadata": {},
     "output_type": "execute_result"
    }
   ],
   "source": [
    "result = convolve(convolve(fives, tens), twenties)\n",
    "result[ship_capacity]"
   ]
  },
  {
   "cell_type": "code",
   "execution_count": null,
   "id": "4077f601",
   "metadata": {},
   "outputs": [],
   "source": []
  },
  {
   "cell_type": "code",
   "execution_count": null,
   "id": "3241a532",
   "metadata": {},
   "outputs": [],
   "source": []
  },
  {
   "cell_type": "markdown",
   "id": "1918b0a5",
   "metadata": {},
   "source": [
    "### Function for Above Mentioned Method"
   ]
  },
  {
   "cell_type": "code",
   "execution_count": 12,
   "id": "122f7855",
   "metadata": {},
   "outputs": [
    {
     "name": "stdout",
     "output_type": "stream",
     "text": [
      "69461112.0\n",
      "\n",
      "Execution time is: -- 52.290337800979614 sec.--\n"
     ]
    }
   ],
   "source": [
    "def generate_containers(weights, ship_capacity):\n",
    "    weights.sort()\n",
    "    my_dict = {}\n",
    "    \n",
    "    for weight in weights:\n",
    "        val = np.zeros(ship_capacity+1)\n",
    "        indices = np.arange(0, ship_capacity+1, weight, dtype = int)\n",
    "        val[indices] = 1\n",
    "        my_dict[weight] = val\n",
    "        \n",
    "    return my_dict\n",
    "\n",
    "ship_capacity = 200000\n",
    "weights_list = [4, 8, 9]\n",
    "\n",
    "time1 = time.time()\n",
    "\n",
    "data = generate_containers(weights_list, ship_capacity)\n",
    "result = convolve(convolve(data[4], data[8]), data[9])\n",
    "print(result[ship_capacity])\n",
    "\n",
    "print(f'\\nExecution time is: -- {time.time() - time1} sec.--')"
   ]
  },
  {
   "cell_type": "code",
   "execution_count": null,
   "id": "103abe0f",
   "metadata": {},
   "outputs": [],
   "source": []
  },
  {
   "cell_type": "code",
   "execution_count": null,
   "id": "f8623cf2",
   "metadata": {},
   "outputs": [],
   "source": []
  },
  {
   "cell_type": "markdown",
   "id": "be62e51a",
   "metadata": {},
   "source": [
    "### Solving dollar change by this method"
   ]
  },
  {
   "cell_type": "code",
   "execution_count": 13,
   "id": "cc05765c",
   "metadata": {},
   "outputs": [
    {
     "name": "stdout",
     "output_type": "stream",
     "text": [
      "242.0\n"
     ]
    }
   ],
   "source": [
    "def generate_dollars(changes, dollar):\n",
    "    changes.sort()\n",
    "    my_dict = {}\n",
    "    \n",
    "    for chang in changes:\n",
    "        val = np.zeros(dollar+1)\n",
    "        indices = np.arange(0, dollar+1, chang, dtype = int)\n",
    "        val[indices] = 1\n",
    "        my_dict[chang] = val\n",
    "        \n",
    "    return my_dict\n",
    "\n",
    "dollar = 100\n",
    "changes = [1, 5, 10, 25]\n",
    "\n",
    "data = generate_dollars(changes, dollar)\n",
    "result = convolve(convolve(convolve(data[1], data[5]), data[10]), data[25])\n",
    "print(result[dollar])"
   ]
  },
  {
   "cell_type": "code",
   "execution_count": 14,
   "id": "04075944",
   "metadata": {},
   "outputs": [
    {
     "name": "stdout",
     "output_type": "stream",
     "text": [
      "3.0\n"
     ]
    }
   ],
   "source": [
    "# Example from week 5 seminar (Problem 3)\n",
    "dollar = 100\n",
    "changes = [10, 25]\n",
    "result = convolve(data[10], data[25])\n",
    "print(result[dollar])"
   ]
  },
  {
   "cell_type": "code",
   "execution_count": null,
   "id": "52557de6",
   "metadata": {},
   "outputs": [],
   "source": []
  },
  {
   "cell_type": "code",
   "execution_count": null,
   "id": "137eef02",
   "metadata": {},
   "outputs": [],
   "source": []
  },
  {
   "cell_type": "markdown",
   "id": "56b26507",
   "metadata": {},
   "source": [
    "### Implementation of the method from the lecture (OGF page 43-47) for dollar change"
   ]
  },
  {
   "cell_type": "code",
   "execution_count": 15,
   "id": "9fe77e98",
   "metadata": {},
   "outputs": [
    {
     "data": {
      "text/plain": [
       "242.0"
      ]
     },
     "execution_count": 15,
     "metadata": {},
     "output_type": "execute_result"
    }
   ],
   "source": [
    "def return_sol(changes, dollar):\n",
    "    \n",
    "    changes.sort()\n",
    "    \n",
    "    my_list = [list(np.zeros(dollar+1))]\n",
    "    \n",
    "    indices = list(np.arange(0, dollar+1, 5, dtype = int))\n",
    "    for i in indices:\n",
    "        my_list[0][i] = 1\n",
    "    \n",
    "    indices = list(np.arange(changes[0], dollar+1, changes[0], dtype = int))\n",
    "    \n",
    "    for i in range(len(changes)):\n",
    "        my_list.append(my_list[-1])\n",
    "        for ind in indices:\n",
    "            my_list[i+1][ind] = my_list[i+1][ind-changes[i]] + my_list[i][ind]\n",
    "     \n",
    "    return my_list\n",
    "\n",
    "# Example for page 46\n",
    "dollar = 100\n",
    "changes = [5, 10, 25]\n",
    "result = return_sol(changes, dollar)\n",
    "result[-1][dollar]"
   ]
  },
  {
   "cell_type": "code",
   "execution_count": 16,
   "id": "ff4f5990",
   "metadata": {},
   "outputs": [
    {
     "data": {
      "text/plain": [
       "136.0"
      ]
     },
     "execution_count": 16,
     "metadata": {},
     "output_type": "execute_result"
    }
   ],
   "source": [
    "# Example for page 47\n",
    "dollar = 100\n",
    "changes = [5, 20, 25]\n",
    "result = return_sol(changes, dollar)\n",
    "result[-1][dollar]"
   ]
  },
  {
   "cell_type": "code",
   "execution_count": null,
   "id": "a608c9a0",
   "metadata": {},
   "outputs": [],
   "source": []
  },
  {
   "cell_type": "code",
   "execution_count": null,
   "id": "92072e77",
   "metadata": {},
   "outputs": [],
   "source": []
  },
  {
   "cell_type": "markdown",
   "id": "afacbff0",
   "metadata": {},
   "source": [
    "### Solve above mentioned problem with method from the lecture (OGF page 43-47)"
   ]
  },
  {
   "cell_type": "code",
   "execution_count": 17,
   "id": "d7902d6b",
   "metadata": {},
   "outputs": [],
   "source": [
    "def return_sol(containers, ship_capacity):\n",
    "    \n",
    "    containers.sort()\n",
    "    \n",
    "    my_list = [list(np.zeros(ship_capacity+1))]\n",
    "    my_list[0][0] = 1\n",
    "    \n",
    "    indices = list(np.arange(containers[0], ship_capacity+1,\n",
    "                             containers[0], dtype = int))\n",
    "    for i in range(len(containers)):\n",
    "        my_list.append(my_list[-1])\n",
    "        for ind in indices:\n",
    "            my_list[i+1][ind] = my_list[i+1][ind-containers[i]] + my_list[i][ind]\n",
    "            \n",
    "    return my_list"
   ]
  },
  {
   "cell_type": "code",
   "execution_count": 18,
   "id": "f72ef974",
   "metadata": {
    "scrolled": true
   },
   "outputs": [
    {
     "name": "stdout",
     "output_type": "stream",
     "text": [
      "25001.0\n",
      "\n",
      "Execution time is: -- 0.05477404594421387 sec.--\n"
     ]
    }
   ],
   "source": [
    "time1 = time.time()\n",
    "# Test the method\n",
    "ship_capacity = 200000\n",
    "containers = [4, 8, 9]\n",
    "my_result = return_sol(containers, ship_capacity)\n",
    "print(my_result[-1][ship_capacity])\n",
    "\n",
    "print(f'\\nExecution time is: -- {time.time() - time1} sec.--')"
   ]
  },
  {
   "cell_type": "code",
   "execution_count": null,
   "id": "18654116",
   "metadata": {},
   "outputs": [],
   "source": []
  },
  {
   "cell_type": "code",
   "execution_count": null,
   "id": "b13d110c",
   "metadata": {},
   "outputs": [],
   "source": []
  }
 ],
 "metadata": {
  "kernelspec": {
   "display_name": "Python 3 (ipykernel)",
   "language": "python",
   "name": "python3"
  },
  "language_info": {
   "codemirror_mode": {
    "name": "ipython",
    "version": 3
   },
   "file_extension": ".py",
   "mimetype": "text/x-python",
   "name": "python",
   "nbconvert_exporter": "python",
   "pygments_lexer": "ipython3",
   "version": "3.10.9"
  }
 },
 "nbformat": 4,
 "nbformat_minor": 5
}
