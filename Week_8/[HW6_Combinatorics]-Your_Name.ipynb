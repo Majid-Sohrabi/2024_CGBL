{
 "cells": [
  {
   "cell_type": "markdown",
   "id": "46e40c5e",
   "metadata": {},
   "source": [
    "# HW 6 - Combinatorics\n",
    "\n",
    "### Please, fill in before you start:\n",
    "\n",
    "First Name:\n",
    "\n",
    "Last Name:\n",
    "\n",
    "Group:\n",
    "\n",
    "### After the assigment is done, please, push it to your [private GitHub repository](https://docs.github.com/en/github/administering-a-repository/managing-repository-settings/setting-repository-visibility) and invite [Majid-Sohrabi](https://github.com/Majid-Sohrabi)  and [Sifei-Meng](https://github.com/mengsifei) as [collaborator](https://docs.github.com/en/account-and-profile/setting-up-and-managing-your-github-user-account/managing-access-to-your-personal-repositories/inviting-collaborators-to-a-personal-repository).\n",
    "\n",
    "Write the method from the lecture (OGF page 43-47) for ship-containers problem. Generate three/four/five random weights from 2 to 50. Then canclulate the number of possible combinations with that three/four/five random weights for the ship_capacity = 200000 tons. \n",
    "\n",
    "Compaire the result with the method we implemented during our seminar (first method).\n",
    "\n",
    "- Please create a private GitHub repository and add Majid and Sifei as collaborator. Commit your solution (jupyter notebook) to your github repository.\n",
    "\n",
    "- Deadline: **March 22, 2023, 11:59 pm.**\n",
    "\n",
    "- Please keep the file name but replace **YOUR_NAME** part by your name: **[HW6_Combinatorics]-YOUR_NAME**"
   ]
  },
  {
   "cell_type": "code",
   "execution_count": null,
   "id": "8a7f62ed",
   "metadata": {},
   "outputs": [],
   "source": [
    "<YOUR CODE>"
   ]
  },
  {
   "cell_type": "code",
   "execution_count": null,
   "id": "e2d6c6b7",
   "metadata": {},
   "outputs": [],
   "source": []
  }
 ],
 "metadata": {
  "kernelspec": {
   "display_name": "Python 3 (ipykernel)",
   "language": "python",
   "name": "python3"
  },
  "language_info": {
   "codemirror_mode": {
    "name": "ipython",
    "version": 3
   },
   "file_extension": ".py",
   "mimetype": "text/x-python",
   "name": "python",
   "nbconvert_exporter": "python",
   "pygments_lexer": "ipython3",
   "version": "3.10.9"
  }
 },
 "nbformat": 4,
 "nbformat_minor": 5
}
