{
 "cells": [
  {
   "cell_type": "markdown",
   "id": "66755134",
   "metadata": {},
   "source": [
    "# Semianr 2 - Combinatoris, Graph, Boolean Logic\n",
    "\n",
    "## Database Repair"
   ]
  },
  {
   "cell_type": "code",
   "execution_count": null,
   "id": "c8aa7a0c",
   "metadata": {},
   "outputs": [],
   "source": [
    "import pandas as pd\n",
    "import numpy as np"
   ]
  },
  {
   "cell_type": "markdown",
   "id": "b7974257",
   "metadata": {},
   "source": [
    "### Example 1 (Requirements)"
   ]
  },
  {
   "cell_type": "code",
   "execution_count": null,
   "id": "42292e23",
   "metadata": {},
   "outputs": [],
   "source": [
    "# From Seminar 1\n",
    "df_resources = pd.DataFrame([[1, \"A\"], [2, \"B\"], [3, \"C\"],\n",
    "                             [4, \"D\"],[5, \"E\"]], columns=[\"ID\", \"Name\"])\n",
    "\n",
    "df_projects = pd.DataFrame([[1, \"a\", \"10.05.2020\", \"15.05.2020\"], [2, \"b\", \"13.05.2020\", \"27.07.2020\"],\n",
    "                            [3, \"c\", \"08.07.2020\", \"30.07.2020\"], [4, \"d\", \"11.12.2020\", \"29.12.2020\"],\n",
    "                            [5, \"e\", \"06.11.2020\", \"07.11.2020\"]], \n",
    "                           columns=[\"ID\", \"Name\", \"Start Time\", \"End Time\"])\n",
    "\n",
    "df_expertise = pd.DataFrame([[1, 1, 1], [2, 5, 3], [3, 2, 4], [4, 4, 5], [5, 3, 2], [6, 2, 1], [7, 3, 1], [8, 2, 2]],\n",
    "                           columns=[\"ID\", \"ID_res\", \"ID_pro\"])"
   ]
  },
  {
   "cell_type": "code",
   "execution_count": null,
   "id": "b192f0df",
   "metadata": {},
   "outputs": [],
   "source": [
    "candidate_solution = [1, 2, 2, 3, 4]"
   ]
  },
  {
   "cell_type": "markdown",
   "id": "5c885a47",
   "metadata": {},
   "source": [
    "### Example 2 (Requirements)"
   ]
  },
  {
   "cell_type": "code",
   "execution_count": null,
   "id": "8541a67b",
   "metadata": {},
   "outputs": [],
   "source": [
    "# From HW 2\n",
    "df_resources = pd.DataFrame([[1, \"A\"], [2, \"B\"], [3, \"C\"],\n",
    "                             [4, \"D\"]], columns=[\"ID\", \"Name\"])\n",
    "\n",
    "df_projects = pd.DataFrame([[1, \"a\", \"10.05.2020\", \"15.05.2020\"], [2, \"b\", \"13.05.2020\", \"27.07.2020\"],\n",
    "                            [3, \"c\", \"01.07.2020\", \"20.07.2020\"], [4, \"d\", \"25.07.2020\", \"10.09.2020\"]], \n",
    "                           columns=[\"ID\", \"Name\", \"Start Time\", \"End Time\"])\n",
    "\n",
    "df_expertise = pd.DataFrame([[1, 1, 1], [2, 2, 1], [3, 1, 2], [4, 3, 2], \n",
    "                             [5, 4, 2], [6, 2, 3], [7, 3, 3], [8, 4, 3], [9, 3, 4]],\n",
    "                           columns=[\"ID\", \"ID_res\", \"ID_pro\"])"
   ]
  },
  {
   "cell_type": "code",
   "execution_count": null,
   "id": "521534fe",
   "metadata": {},
   "outputs": [],
   "source": [
    "candidate_solution = [1, 1, 2, 3]"
   ]
  },
  {
   "cell_type": "markdown",
   "id": "6307fc5f",
   "metadata": {},
   "source": [
    "### All Feasible Solutions"
   ]
  },
  {
   "cell_type": "code",
   "execution_count": null,
   "id": "d64f4930",
   "metadata": {},
   "outputs": [],
   "source": [
    "feasible_solutions = {}\n",
    "\n",
    "for project_index, project_row in df_projects.iterrows():\n",
    "    project_id = project_row[\"ID\"]\n",
    "    res_ids = df_expertise[df_expertise['ID_pro'] == project_id][\"ID_res\"]\n",
    "    feasible_solutions[project_id] = []\n",
    "    \n",
    "    for res_id in res_ids:\n",
    "        feasible_solutions[project_id].append(res_id)\n",
    "        \n",
    "feasible_solutions"
   ]
  },
  {
   "cell_type": "markdown",
   "id": "9a46593e",
   "metadata": {},
   "source": [
    "### Brute Force - DFS"
   ]
  },
  {
   "cell_type": "code",
   "execution_count": null,
   "id": "5b467d83",
   "metadata": {},
   "outputs": [],
   "source": [
    "def date_to_sec(date):\n",
    "    return time.mktime(datetime.datetime.strptime(date, \"%d.%m.%Y\").timetuple())"
   ]
  },
  {
   "cell_type": "code",
   "execution_count": null,
   "id": "f560b608",
   "metadata": {
    "scrolled": true
   },
   "outputs": [],
   "source": [
    "import time\n",
    "import datetime\n",
    "\n",
    "# keys = Project IDsdf_expertise\n",
    "keys = list(feasible_solutions.keys())\n",
    "\n",
    "def is_valid_solution(solution):\n",
    "    \n",
    "    for i in range(len(keys)-1):\n",
    "        for j in range(i+1, len(keys)):\n",
    "                \n",
    "            if solution[i] == solution[j]:\n",
    "                start_i = date_to_sec(df_projects[\"Start Time\"][i])\n",
    "                end_i = date_to_sec(df_projects[\"End Time\"][i])\n",
    "                \n",
    "                start_j = date_to_sec(df_projects[\"Start Time\"][j])\n",
    "                end_j = date_to_sec(df_projects[\"End Time\"][j])\n",
    "                \n",
    "                if start_i <= start_j:\n",
    "                    if end_i >= start_j:\n",
    "                        return False\n",
    "                    \n",
    "                elif start_i >= start_j:\n",
    "                    if end_j >= start_i:\n",
    "                        return False\n",
    "    \n",
    "    return True\n",
    "\n",
    "# Checking a single solution\n",
    "#print(is_valid_solution([1, 2, 5, 3, 4]))\n",
    "\n",
    "#print(is_valid_solution([1, 2, 2, 3, 4]))"
   ]
  },
  {
   "cell_type": "markdown",
   "id": "a0d27ae1",
   "metadata": {},
   "source": [
    "### First Solution\n",
    "\n",
    "In this step we are trying to find the solution by DFS algorithm. DFS tries to build possile solution (tree) based on our feasible_solutions dictionary which contains projects ID (keys) and resourses ID (values).\n",
    "\n",
    "In the followig cell we are just trying to find the first valid solution."
   ]
  },
  {
   "cell_type": "code",
   "execution_count": null,
   "id": "ab8740f3",
   "metadata": {},
   "outputs": [],
   "source": [
    "answer = None\n",
    "\n",
    "def recursive(solution=[], depth=0):    \n",
    "    global answer\n",
    "    #print(solution, depth)\n",
    "    if(depth >= len(keys)):    \n",
    "        if(is_valid_solution(solution)):\n",
    "            #print(', '.join(solution))\n",
    "            answer = solution\n",
    "        return\n",
    "    \n",
    "    values = feasible_solutions[keys[depth]]\n",
    "    for v in values:\n",
    "        if answer:\n",
    "            return answer\n",
    "        next_solution = solution.copy()\n",
    "        next_solution.append(str(v))\n",
    "        recursive(next_solution, depth+1)\n",
    "        \n",
    "recursive()"
   ]
  },
  {
   "cell_type": "markdown",
   "id": "8530be99",
   "metadata": {},
   "source": [
    "### All Solutions\n",
    "\n",
    "In this step we are trying to traverse all possible combination of the try to print all possible solutions for our problem."
   ]
  },
  {
   "cell_type": "code",
   "execution_count": null,
   "id": "d542fab0",
   "metadata": {
    "scrolled": false
   },
   "outputs": [],
   "source": [
    "def recursive(solution=[], depth=0):    \n",
    "    \n",
    "    <YOUR CODE>"
   ]
  },
  {
   "cell_type": "markdown",
   "id": "63fd1c74",
   "metadata": {},
   "source": [
    "Try to fix the database which we have in **candidate_solution**"
   ]
  },
  {
   "cell_type": "code",
   "execution_count": null,
   "id": "0eb60cae",
   "metadata": {},
   "outputs": [],
   "source": [
    "def get_distance_list(candidate_sol, all_valid_sol):\n",
    "    \n",
    "    <YOUR CODE>"
   ]
  },
  {
   "cell_type": "code",
   "execution_count": null,
   "id": "7072c3b3",
   "metadata": {},
   "outputs": [],
   "source": [
    "def fix_database(candidate_sol, all_valid_sol):\n",
    "    \n",
    "    <YOUR CODE>"
   ]
  },
  {
   "cell_type": "code",
   "execution_count": null,
   "id": "b17566ff",
   "metadata": {},
   "outputs": [],
   "source": []
  },
  {
   "cell_type": "code",
   "execution_count": null,
   "id": "d508e1d6",
   "metadata": {},
   "outputs": [],
   "source": []
  }
 ],
 "metadata": {
  "kernelspec": {
   "display_name": "Python 3 (ipykernel)",
   "language": "python",
   "name": "python3"
  },
  "language_info": {
   "codemirror_mode": {
    "name": "ipython",
    "version": 3
   },
   "file_extension": ".py",
   "mimetype": "text/x-python",
   "name": "python",
   "nbconvert_exporter": "python",
   "pygments_lexer": "ipython3",
   "version": "3.10.9"
  }
 },
 "nbformat": 4,
 "nbformat_minor": 5
}
