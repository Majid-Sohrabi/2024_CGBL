{
 "cells": [
  {
   "cell_type": "markdown",
   "id": "3eda8f4e",
   "metadata": {},
   "source": [
    "# HW 2 - Combinatorics\n",
    "\n",
    "### Please, fill in before you start:\n",
    "\n",
    "First Name:\n",
    "\n",
    "Last Name:\n",
    "\n",
    "Group:\n",
    "\n",
    "### After the assigment is done, please, push it to your [private GitHub repository](https://docs.github.com/en/github/administering-a-repository/managing-repository-settings/setting-repository-visibility) and invite [Majid-Sohrabi](https://github.com/Majid-Sohrabi) as [collaborator](https://docs.github.com/en/account-and-profile/setting-up-and-managing-your-github-user-account/managing-access-to-your-personal-repositories/inviting-collaborators-to-a-personal-repository).\n",
    "\n",
    "Generate data with lots of samples. Try to solve the problem by the algorithm discussed in seminar 2. The algorithm follows two rules:\n",
    "\n",
    "1. Most restricted\n",
    "2. Least conflicts\n",
    "\n",
    "The algorithm selects a project with fewer resources available (Most restricted). Then it selects a resource with lower conflicts with other projects. The final answer is one of the correct solutions for the problem.\n",
    "\n",
    "This algorithm is fast, so it's required to generate many samples.\n",
    "\n",
    "- Please create a private GitHub repository and add Majid as collaborator. Commit your solution (jupyter notebook) to your github repository.\n",
    "\n",
    "- Deadline: **February 02, 2024, 11:59 pm.**\n",
    "\n",
    "- The subject of the email: **[HW2_Combinatorics]-YOUR_NAME**"
   ]
  },
  {
   "cell_type": "code",
   "execution_count": null,
   "id": "87402214",
   "metadata": {},
   "outputs": [],
   "source": [
    "import pandas as pd\n",
    "import numpy as np"
   ]
  },
  {
   "cell_type": "markdown",
   "id": "489fc6aa",
   "metadata": {},
   "source": [
    "### Generate Data for Resources"
   ]
  },
  {
   "cell_type": "code",
   "execution_count": null,
   "id": "2c8ef62a",
   "metadata": {},
   "outputs": [],
   "source": [
    "IDs_ = [i for i in range(1, 1001)]\n",
    "name_res = [\"A\"+str(i) for i in IDs_]\n",
    "data_res = [[IDs_[i], name_res[i]] for i in range(0, 1000)]\n",
    "\n",
    "df_resources = pd.DataFrame(data_res, columns=[\"ID\", \"Name\"])\n",
    "df_resources"
   ]
  },
  {
   "cell_type": "markdown",
   "id": "2aabed60",
   "metadata": {},
   "source": [
    "### Generate Data for Projects"
   ]
  },
  {
   "cell_type": "code",
   "execution_count": null,
   "id": "c612de87",
   "metadata": {},
   "outputs": [],
   "source": [
    "import datetime\n",
    "import time\n",
    "import random\n",
    "\n",
    "# Start Time generate\n",
    "RECORDS = 1000\n",
    "\n",
    "mintime_ts = time.mktime(datetime.datetime.strptime(\"6.8.2021\", \"%d.%m.%Y\").timetuple())\n",
    "maxtime_ts = time.mktime(datetime.datetime.strptime(\"6.12.2021\", \"%d.%m.%Y\").timetuple())\n",
    "\n",
    "RANDOMTIME_start = []\n",
    "for RECORD in range(RECORDS):\n",
    "    random_ts = random.randint(mintime_ts, maxtime_ts)\n",
    "    RANDOMTIME_start.append(datetime.datetime.fromtimestamp(random_ts).strftime(\"%d.%m.%Y\"))\n",
    "    #print(RANDOMTIME_start)\n",
    "    \n",
    "    \n",
    "# End Time generate\n",
    "mintime_ts = time.mktime(datetime.datetime.strptime(\"30.8.2021\", \"%d.%m.%Y\").timetuple())\n",
    "maxtime_ts = time.mktime(datetime.datetime.strptime(\"30.12.2021\", \"%d.%m.%Y\").timetuple())\n",
    "\n",
    "RANDOMTIME_end = []\n",
    "for RECORD in range(RECORDS):\n",
    "    random_ts = random.randint(mintime_ts, maxtime_ts)\n",
    "    RANDOMTIME_end.append(datetime.datetime.fromtimestamp(random_ts).strftime(\"%d.%m.%Y\"))\n",
    "    #print(RANDOMTIME_end)\n",
    "\n",
    "    \n",
    "name_proj = [\"z\"+str(i) for i in IDs_]\n",
    "data_proj = [[IDs_[i], name_proj[i], RANDOMTIME_start[i], RANDOMTIME_end[i]] for i in range(0, 1000)]\n",
    "\n",
    "df_projects = pd.DataFrame(data_proj, columns=[\"ID\", \"Name\", \"Start Time\", \"End Time\"])\n",
    "df_projects"
   ]
  },
  {
   "cell_type": "markdown",
   "id": "7e512a46",
   "metadata": {},
   "source": [
    "### Generate Data for Expertise"
   ]
  },
  {
   "cell_type": "code",
   "execution_count": null,
   "id": "ec356790",
   "metadata": {},
   "outputs": [],
   "source": [
    "import numpy as np\n",
    "IDs_exp = [i for i in range(1, 2001)]\n",
    "\n",
    "rand_ = list(np.random.choice(50, 2000, replace=True))\n",
    "res_ID_ = [x+1 for x in rand_]\n",
    "\n",
    "rand = list(np.random.choice(50, 2000, replace=True))\n",
    "proj_ID_ = [x+1 for x in rand]\n",
    "random.shuffle(proj_ID_)\n",
    "\n",
    "data_exper = [[IDs_exp[i], res_ID_[i], proj_ID_[i]] for i in range(0, 2000)]\n",
    "df_expertise = pd.DataFrame(data_exper, columns=[\"ID\", \"ID_res\", \"ID_pro\"])\n",
    "df_expertise"
   ]
  },
  {
   "cell_type": "code",
   "execution_count": null,
   "id": "015a95de",
   "metadata": {},
   "outputs": [],
   "source": []
  }
 ],
 "metadata": {
  "kernelspec": {
   "display_name": "Python 3 (ipykernel)",
   "language": "python",
   "name": "python3"
  },
  "language_info": {
   "codemirror_mode": {
    "name": "ipython",
    "version": 3
   },
   "file_extension": ".py",
   "mimetype": "text/x-python",
   "name": "python",
   "nbconvert_exporter": "python",
   "pygments_lexer": "ipython3",
   "version": "3.10.9"
  }
 },
 "nbformat": 4,
 "nbformat_minor": 5
}
