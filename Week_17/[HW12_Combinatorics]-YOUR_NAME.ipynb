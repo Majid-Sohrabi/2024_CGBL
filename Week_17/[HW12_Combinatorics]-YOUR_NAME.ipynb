{
 "cells": [
  {
   "cell_type": "markdown",
   "metadata": {
    "id": "GMLOKWZW0s1N"
   },
   "source": [
    "# Seminar 17 - Combinatorics, Graph, Boolean Logic\n",
    "\n",
    "## Generative Network Models\n",
    "\n",
    "## HW 12\n",
    "\n",
    "Please, fill in before you start:\n",
    "\n",
    "First Name:\n",
    "\n",
    "Last Name:\n",
    "\n",
    "Group:\n",
    "\n",
    "### After the assigment is done, please, push it to your [private GitHub repository](https://docs.github.com/en/github/administering-a-repository/managing-repository-settings/setting-repository-visibility) and invite [Majid-Sohrabi](https://github.com/Majid-Sohrabi)  and [Sifei-Meng](https://github.com/mengsifei) as [collaborator](https://docs.github.com/en/account-and-profile/setting-up-and-managing-your-github-user-account/managing-access-to-your-personal-repositories/inviting-collaborators-to-a-personal-repository).\n",
    "\n",
    "Complete all task and send the notebook as HW.\n",
    "\n",
    "\n",
    "- Please create a private GitHub repository and add Majid and Sifei as collaborator. Commit your solution (jupyter notebook) to your github repository.\n",
    "\n",
    "- Deadline: **May 31, 2024, 11:59 pm**.\n",
    "\n",
    "- Please keep the file name but replace **YOUR_NAME** part by your name: **[HW12_Combinatorics]-YOUR_NAME**"
   ]
  },
  {
   "cell_type": "code",
   "execution_count": null,
   "metadata": {
    "id": "Y-p6EKm70s1X"
   },
   "outputs": [],
   "source": [
    "import networkx as nx\n",
    "import matplotlib.pyplot as plt\n",
    "import numpy as np\n",
    "from scipy.stats import ks_2samp\n",
    "import random\n",
    "import scipy\n",
    "import itertools"
   ]
  },
  {
   "cell_type": "code",
   "execution_count": null,
   "metadata": {
    "id": "IVnZadGj0s1a"
   },
   "outputs": [],
   "source": [
    "np.set_printoptions(precision=2)"
   ]
  },
  {
   "cell_type": "markdown",
   "metadata": {
    "id": "ykIW8-Sy0s1b"
   },
   "source": [
    "### Task 1. Watts-Strogatz model (1 point)"
   ]
  },
  {
   "cell_type": "markdown",
   "metadata": {
    "id": "MeWohwAK0s1c"
   },
   "source": [
    "Implement Watts-Strogatz model (small-world model) — rewire an edge with probability `p` in a ring lattice with `n` nodes and `k` degree."
   ]
  },
  {
   "cell_type": "code",
   "execution_count": null,
   "metadata": {
    "deletable": false,
    "editable": false,
    "id": "aMjrNnqZ0s1d",
    "nbgrader": {
     "cell_type": "code",
     "checksum": "e6ed82635f580dfcda8d099e529f511e",
     "grade": false,
     "grade_id": "cell-dde49b1f65e90c67",
     "locked": true,
     "schema_version": 3,
     "solution": false,
     "task": false
    }
   },
   "outputs": [],
   "source": [
    "'''Do not touch the cell'''\n",
    "def watts_strogatz_graph(n, k, p):\n",
    "    G = ring_lattice(n, k)\n",
    "    for node in G.nodes:\n",
    "        rewire(G, node, k, p)\n",
    "    return G"
   ]
  },
  {
   "cell_type": "markdown",
   "metadata": {
    "id": "RNZ3reoW0s1d"
   },
   "source": [
    "Write a function `ring_lattice` that returns a regular ring lattice with `n` nodes (0, 1, 2, ..., n-1) and `k` node degree."
   ]
  },
  {
   "cell_type": "code",
   "execution_count": null,
   "metadata": {
    "deletable": false,
    "id": "e5QKtlVQ0s1e",
    "nbgrader": {
     "cell_type": "code",
     "checksum": "979368bbbaedcc833b0fb00940e6bd8f",
     "grade": false,
     "grade_id": "cell-a644a545b228c075",
     "locked": false,
     "schema_version": 3,
     "solution": true,
     "task": false
    }
   },
   "outputs": [],
   "source": [
    "def ring_lattice(n, k):\n",
    "    # YOUR CODE HERE\n",
    "    raise NotImplementedError()"
   ]
  },
  {
   "cell_type": "code",
   "execution_count": null,
   "metadata": {
    "deletable": false,
    "editable": false,
    "id": "iJOBhqzb0s1e",
    "nbgrader": {
     "cell_type": "code",
     "checksum": "8dc2337544b089c684ae4562b0676b9f",
     "grade": true,
     "grade_id": "cell-9448aa2e78b283b2",
     "locked": true,
     "points": 0.5,
     "schema_version": 3,
     "solution": false,
     "task": false
    }
   },
   "outputs": [],
   "source": [
    "assert nx.degree_histogram(ring_lattice(10, 2))[2] == 10\n",
    "assert nx.degree_histogram(ring_lattice(10, 3))[2] == 10\n",
    "assert nx.degree_histogram(ring_lattice(10, 4))[4] == 10"
   ]
  },
  {
   "cell_type": "markdown",
   "metadata": {
    "id": "sTFvzXnt0s1f"
   },
   "source": [
    "Write a function `rewire` that takes in input a ring lattice `G`, a `node`, a model parameter `k` and probability `p`. For every right hand side neighbor $i$, the function rewires an edge (`node`, $i$) into a random edge (`node`, $j$) with probability `p` where $i \\neq j \\neq $ `node`.\n",
    "\n",
    "*Hints:*\n",
    "* Why do we only rewire right hand side edges? We want to guarantee that only untouched in previous iterations edges will be rewound.\n",
    "\n",
    "* *To speed up the generation, do not filter nodes to random selection. If a selected node produces an existing edge or a loop, just skip it.*"
   ]
  },
  {
   "cell_type": "code",
   "execution_count": null,
   "metadata": {
    "deletable": false,
    "id": "nfvuk3s30s1g",
    "nbgrader": {
     "cell_type": "code",
     "checksum": "73069084258860ce51784498a7683c05",
     "grade": false,
     "grade_id": "cell-161cd7ea24dd16a3",
     "locked": false,
     "schema_version": 3,
     "solution": true,
     "task": false
    }
   },
   "outputs": [],
   "source": [
    "def rewire(G, node, k, p):\n",
    "    # YOUR CODE HERE\n",
    "    raise NotImplementedError()"
   ]
  },
  {
   "cell_type": "code",
   "execution_count": null,
   "metadata": {
    "deletable": false,
    "editable": false,
    "id": "rCAQJMUf0s1g",
    "nbgrader": {
     "cell_type": "code",
     "checksum": "13d0e980e741cc1584c8a2045840441c",
     "grade": true,
     "grade_id": "cell-022dc260d78b00c3",
     "locked": true,
     "points": 0.5,
     "schema_version": 3,
     "solution": false,
     "task": false
    }
   },
   "outputs": [],
   "source": [
    "cases = [[50, 8, 0.1], \n",
    "         [1000, 10, 0.01],\n",
    "         [1000, 10, 0.5],\n",
    "         [1000, 10, 0.99]]\n",
    "for n, k, p in cases:\n",
    "    G = watts_strogatz_graph(n, k, p)\n",
    "    assert nx.number_of_nodes(G) == n\n",
    "    assert nx.number_of_edges(G) == int(k / 2 * n)\n",
    "    degree_seq = [degree for (node, degree) in G.degree]\n",
    "    nxG = nx.watts_strogatz_graph(n, k, p, 1)\n",
    "    nxdegree_seq = [degree for (node, degree) in nxG.degree]\n",
    "    assert ks_2samp(degree_seq, nxdegree_seq).pvalue > 0.05"
   ]
  },
  {
   "cell_type": "markdown",
   "metadata": {
    "id": "kSzd1aHy0s1h"
   },
   "source": [
    "Let us draw a small-world graph in some steps of the algorithm"
   ]
  },
  {
   "cell_type": "code",
   "execution_count": null,
   "metadata": {
    "scrolled": false
   },
   "outputs": [],
   "source": [
    "n, k, p = 52, 8, 0.2\n",
    "G = ring_lattice(n, k)\n",
    "plt.figure(figsize=(12, 6 * 4))\n",
    "i = 1\n",
    "for node in G.nodes:\n",
    "    if node in np.arange(0, n+1, int(n/3)):\n",
    "        plt.subplot(4, 2, i)\n",
    "        plt.title('Number of iterations: {}'.format(node))\n",
    "        nx.draw_circular(\n",
    "            G,\n",
    "            node_size=50, \n",
    "            width=0.5,\n",
    "            linewidths=0.5,\n",
    "            edgecolors='black',\n",
    "            node_color='tab:orange')\n",
    "        i += 1\n",
    "        plt.subplot(4, 2, i)\n",
    "        degree_seq = [degree for (node, degree) in G.degree]\n",
    "        bins, freq = np.unique(degree_seq, return_counts=True)\n",
    "        plt.bar(bins, freq)\n",
    "        plt.xlim((4, 13))\n",
    "        plt.title('Degree distribution')\n",
    "        i += 1\n",
    "    rewire(G, node, k, p)"
   ]
  },
  {
   "cell_type": "markdown",
   "metadata": {
    "id": "VE_lHIEf0s1i"
   },
   "source": [
    "### Task 2. Average path length in Watts-Strogatz (0.5 point)"
   ]
  },
  {
   "cell_type": "markdown",
   "metadata": {
    "id": "Ods4YPvU0s1i"
   },
   "source": [
    "Let us check that the average path length tends to theoretical value during building the small-world model.\n",
    "\n",
    "$$\\langle L \\rangle = \\begin{cases}\n",
    "N/2k, \\text{ if } p \\to 0 \\\\\n",
    "\\log(N)/\\log(k), \\text{ if } p \\to 1\n",
    "\\end{cases}$$\n",
    "\n",
    "So that we have a lower and upper limits of path lengths for $0 < p < 1$.\n",
    "\n",
    "Write a function `smallworld_path_len` with Watts-Strogatz model parameters `n, k, p` that returns np.array of average path lengths in each step (node). The length of the array is `n`.\n",
    "\n",
    "*Hint: to calculate the average shortest path length, use `nx.average_shortest_path_length`*"
   ]
  },
  {
   "cell_type": "code",
   "execution_count": null,
   "metadata": {
    "deletable": false,
    "id": "mkTA2ZUR0s1j",
    "nbgrader": {
     "cell_type": "code",
     "checksum": "0f16851fad4ffce74b6ba82e90bcf6e6",
     "grade": false,
     "grade_id": "cell-a5a51e26d2f2c429",
     "locked": false,
     "schema_version": 3,
     "solution": true,
     "task": false
    }
   },
   "outputs": [],
   "source": [
    "def smallworld_path_len(n, k, p):\n",
    "    # YOUR CODE HERE\n",
    "    raise NotImplementedError()"
   ]
  },
  {
   "cell_type": "code",
   "execution_count": null,
   "metadata": {
    "deletable": false,
    "editable": false,
    "id": "TUOH8eRU0s1k",
    "nbgrader": {
     "cell_type": "code",
     "checksum": "41ecaa5fe817ac2193cab104d1971570",
     "grade": true,
     "grade_id": "cell-3d9e7e4d9ebee4c1",
     "locked": true,
     "points": 0.5,
     "schema_version": 3,
     "solution": false,
     "task": false
    }
   },
   "outputs": [],
   "source": [
    "n, k, p = 101, 10, 0.05\n",
    "lengths = smallworld_path_len(n, k, p)\n",
    "step_space = np.log(np.arange(1, len(lengths) + 1))\n",
    "X = np.stack([step_space, np.ones(lengths.shape[0])], axis=1)\n",
    "assert lengths.shape[0] == n\n",
    "assert 0.1 < -(np.linalg.pinv(X) @ np.log(lengths))[0] < 0.25"
   ]
  },
  {
   "cell_type": "code",
   "execution_count": null,
   "metadata": {},
   "outputs": [],
   "source": [
    "plt.figure(figsize=(10, 5))\n",
    "\n",
    "n, k, p = 101, 12, 0.01\n",
    "lengths = smallworld_path_len(n, k, p)\n",
    "plt.plot(lengths, label=f'p={p}')\n",
    "\n",
    "n, k, p = 101, 12, 0.1\n",
    "lengths = smallworld_path_len(n, k, p)\n",
    "plt.plot(lengths, label=f'p={p}')\n",
    "\n",
    "n, k, p = 101, 12, 0.9\n",
    "lengths = smallworld_path_len(n, k, p)\n",
    "plt.plot(lengths, label=f'p={p}')\n",
    "\n",
    "plt.xlabel('Step of the small-world building')\n",
    "plt.ylabel('Average path length')\n",
    "plt.grid()\n",
    "plt.plot([0, 100], [n / 2 / k, n / 2 / k], '--', \n",
    "         label='limit upper bound')\n",
    "plt.plot([0, 100], [np.log(n) / np.log(k), np.log(n) / np.log(k)], '--',\n",
    "         label='limit lower bound')\n",
    "plt.legend(loc='lower left')\n",
    "plt.show()"
   ]
  },
  {
   "cell_type": "markdown",
   "metadata": {
    "id": "fRk3Kfme0s1l"
   },
   "source": [
    "### Task 3. Barabasi-Albert model (1 point)"
   ]
  },
  {
   "cell_type": "markdown",
   "metadata": {
    "id": "C_niK7310s1l"
   },
   "source": [
    "Implement Barabasi-Albert model (preferential attachment model) – a growth process where each new node connects to `m` existing nodes. The higher node degree, the higher probability of the connection. The final number of nodes is `n`.\n",
    "\n",
    "You start from a star graph with `m + 1` nodes. In each step you create `m` edges between a new node and existing nodes. The probability of connection to the node $i$ is \n",
    "$$p(i) = \\frac{k_i}{\\sum k}$$\n",
    "\n",
    "Write a function `attach` that attaches a `node` to a graph `G` through `m` edges.\n",
    "\n",
    "*Hint: Create a list with repeated nodes from a list of edges. For example, $[(1, 2), (2, 3), (2, 4)] \\to [1, 2, 2, 3, 2, 4]$. Uniformly select nodes one-by-one. Apply `random.choice` instead of `np.random.choice` to speed up the generation.*"
   ]
  },
  {
   "cell_type": "code",
   "execution_count": null,
   "metadata": {
    "deletable": false,
    "editable": false,
    "id": "bAorquRr0s1m",
    "nbgrader": {
     "cell_type": "code",
     "checksum": "26e157029cfff1a9e0f7ce132104ccfb",
     "grade": false,
     "grade_id": "cell-27421702a7553464",
     "locked": true,
     "schema_version": 3,
     "solution": false,
     "task": false
    }
   },
   "outputs": [],
   "source": [
    "'''Do not touch the cell'''\n",
    "def barabasi_albert_graph(n, m, random_seed=1):\n",
    "    G = nx.star_graph(m)\n",
    "    for i in range(1, n - m):\n",
    "        attach(m + i, G, m)\n",
    "    return G"
   ]
  },
  {
   "cell_type": "code",
   "execution_count": null,
   "metadata": {
    "deletable": false,
    "id": "BX87izD90s1m",
    "nbgrader": {
     "cell_type": "code",
     "checksum": "0e1a08af9c29132257e7efebaa4042ed",
     "grade": false,
     "grade_id": "cell-30c57fd2a7befb94",
     "locked": false,
     "schema_version": 3,
     "solution": true,
     "task": false
    }
   },
   "outputs": [],
   "source": [
    "def attach(node, G, m):\n",
    "    # YOUR CODE HERE\n",
    "    raise NotImplementedError()"
   ]
  },
  {
   "cell_type": "code",
   "execution_count": null,
   "metadata": {
    "deletable": false,
    "editable": false,
    "id": "vomT_4Df0s1n",
    "nbgrader": {
     "cell_type": "code",
     "checksum": "0c267684496adab2487953a605c8cd95",
     "grade": true,
     "grade_id": "cell-772fa0157056b79b",
     "locked": true,
     "points": 1,
     "schema_version": 3,
     "solution": false,
     "task": false
    }
   },
   "outputs": [],
   "source": [
    "G = nx.star_graph(3)\n",
    "attach(4, G, 3)\n",
    "assert nx.number_of_edges(G) == 6\n",
    "\n",
    "cases = [[10, 3], \n",
    "         [1000, 3], \n",
    "         [1000, 20]]\n",
    "for n, m in cases:\n",
    "    G = barabasi_albert_graph(n, m)\n",
    "    degree_seq = [degree for (node, degree) in G.degree]\n",
    "    nxG = nx.barabasi_albert_graph(n, m)\n",
    "    nxdegree_seq = [degree for (node, degree) in nxG.degree]\n",
    "    assert ks_2samp(degree_seq, nxdegree_seq).pvalue > 0.05"
   ]
  },
  {
   "cell_type": "markdown",
   "metadata": {
    "id": "lXmWMENw0s1o"
   },
   "source": [
    "Let us see what the growth process looks like"
   ]
  },
  {
   "cell_type": "code",
   "execution_count": null,
   "metadata": {
    "scrolled": false
   },
   "outputs": [],
   "source": [
    "n, m = 1000, 6\n",
    "G = nx.star_graph(m)\n",
    "plt.figure(figsize=(12, 6 * 5))\n",
    "j = 1\n",
    "for i in range(1, n - m):\n",
    "    if i in [1, 2, 3, 30, n-m-1]:\n",
    "        plt.subplot(5, 2, j)\n",
    "        j += 1\n",
    "        sizes = np.array(list(nx.degree_centrality(G).values()))\n",
    "        sizes = sizes / max(sizes) * 200\n",
    "        if i <= 3:\n",
    "            pos = nx.layout.shell_layout(G)\n",
    "        else:\n",
    "            pos = nx.layout.spring_layout(G)\n",
    "        nx.draw(\n",
    "            G,\n",
    "            pos=pos,\n",
    "            with_labels=False, \n",
    "            node_size=sizes, \n",
    "            width=0.5,\n",
    "            linewidths=0.5,\n",
    "            edgecolors='black',\n",
    "            node_color='tab:orange')\n",
    "        plt.title('Step: {}'.format(i))\n",
    "        degree_seq = [degree for (node, degree) in G.degree]\n",
    "        bins, freq = np.unique(degree_seq, return_counts=True)\n",
    "        plt.subplot(5, 2, j)\n",
    "        j += 1\n",
    "        plt.bar(bins, freq)\n",
    "        plt.title('Degree distribution')\n",
    "    attach(m + i, G, m)"
   ]
  },
  {
   "cell_type": "markdown",
   "metadata": {
    "id": "XpFgGBd-0s1q"
   },
   "source": [
    "### Task 4. Degree distribution in Barabasi-Albert model (1.5 point) -- FOR HW"
   ]
  },
  {
   "cell_type": "markdown",
   "metadata": {
    "id": "LwsHQjsC0s1q"
   },
   "source": [
    "Barabasi-Albert graph has a degree distribution of the form\n",
    "\n",
    "$$P(k) = \\frac{2m^2}{k^3}$$\n",
    "\n",
    "That is Power law with $\\alpha = 3$ and $k_\\min = m$. \n",
    "\n",
    "Check this fact by an experiment — generate a set of Barabasi-Albert graphs and estimate parameters of Power law.\n",
    "\n",
    "Write a function `estimate_power_law` that generates Barabasi-Albert graphs with `n` nodes, from `m_min` to `m_max` connections and returns a tuple of np.arrays: $\\alpha$ and $k_{\\min}$ for each graph.\n",
    "\n",
    "*Hint: copy-paste the `mle_power_law_params` and `power_law_cdf` from the power law assignment*"
   ]
  },
  {
   "cell_type": "code",
   "execution_count": null,
   "metadata": {
    "deletable": false,
    "id": "P1MtRDeC0s1r",
    "nbgrader": {
     "cell_type": "code",
     "checksum": "f21154bbbafd100bae7294ccf3261bac",
     "grade": false,
     "grade_id": "cell-87b3dcfd366a9809",
     "locked": false,
     "schema_version": 3,
     "solution": true,
     "task": false
    }
   },
   "outputs": [],
   "source": [
    "def power_law_cdf(x, alpha=3.5, x_min=1):\n",
    "    # YOUR CODE HERE\n",
    "    raise NotImplementedError()"
   ]
  },
  {
   "cell_type": "code",
   "execution_count": null,
   "metadata": {
    "deletable": false,
    "editable": false,
    "id": "RyCmBo4m0s1r",
    "nbgrader": {
     "cell_type": "code",
     "checksum": "dfbcd04a601932a04cb77f57bd9af510",
     "grade": true,
     "grade_id": "cell-3677a6343b41d106",
     "locked": true,
     "points": 0,
     "schema_version": 3,
     "solution": false,
     "task": false
    }
   },
   "outputs": [],
   "source": [
    "assert power_law_cdf(2, 2, 1) == 0.5\n",
    "assert power_law_cdf(10, 2, 1) == 0.9"
   ]
  },
  {
   "cell_type": "code",
   "execution_count": null,
   "metadata": {
    "deletable": false,
    "id": "J_rZET3f0s1s",
    "nbgrader": {
     "cell_type": "code",
     "checksum": "33f0a9f79362e3d0b90786c141977d08",
     "grade": false,
     "grade_id": "cell-b802b02dc564fc38",
     "locked": false,
     "schema_version": 3,
     "solution": true,
     "task": false
    }
   },
   "outputs": [],
   "source": [
    "def mle_power_law_params(degree_sequence):\n",
    "    # YOUR CODE HERE\n",
    "    raise NotImplementedError()"
   ]
  },
  {
   "cell_type": "code",
   "execution_count": null,
   "metadata": {
    "deletable": false,
    "editable": false,
    "id": "Ttj8_2Rh0s1s",
    "nbgrader": {
     "cell_type": "code",
     "checksum": "aea87f4357b63ce586b0ac8c9e06294e",
     "grade": true,
     "grade_id": "cell-4d2750c8e4719fe9",
     "locked": true,
     "points": 0,
     "schema_version": 3,
     "solution": false,
     "task": false
    }
   },
   "outputs": [],
   "source": [
    "assert mle_power_law_params(np.array([1, 2, 3]))[0] > 0\n",
    "assert mle_power_law_params(np.array([1, 2, 3]))[1] > 0"
   ]
  },
  {
   "cell_type": "code",
   "execution_count": null,
   "metadata": {
    "deletable": false,
    "id": "eiPx_tgP0s1s",
    "nbgrader": {
     "cell_type": "code",
     "checksum": "092d88e523eb7a8d1e37055e55ccb3df",
     "grade": false,
     "grade_id": "cell-e78fc881caea1d19",
     "locked": false,
     "schema_version": 3,
     "solution": true,
     "task": false
    }
   },
   "outputs": [],
   "source": [
    "def estimate_power_law(n, m_min, m_max):\n",
    "    # YOUR CODE HERE\n",
    "    raise NotImplementedError()"
   ]
  },
  {
   "cell_type": "code",
   "execution_count": null,
   "metadata": {
    "deletable": false,
    "editable": false,
    "id": "ny9Wtq-f0s1t",
    "nbgrader": {
     "cell_type": "code",
     "checksum": "f8bd3a33bfd5deba55f036b239103399",
     "grade": true,
     "grade_id": "cell-632148ec9e9f9946",
     "locked": true,
     "points": 0.5,
     "schema_version": 3,
     "solution": false,
     "task": false
    }
   },
   "outputs": [],
   "source": [
    "'''Check the Power law parameters'''\n",
    "n, m_min, m_max = 500, 2, 20\n",
    "alpha, k_min, ks_dist = estimate_power_law(n, m_min, m_max)\n",
    "assert alpha.shape[0] == m_max - m_min + 1\n",
    "assert 2 < alpha.mean() < 4\n",
    "assert k_min[0] < k_min[-1]"
   ]
  },
  {
   "cell_type": "code",
   "execution_count": null,
   "metadata": {},
   "outputs": [],
   "source": [
    "n, m_min, m_max = 500, 2, 20\n",
    "m_space = np.arange(m_min, m_max + 1)\n",
    "for _ in range(5):\n",
    "    alpha, k_min, ks_dist = estimate_power_law(n, m_min, m_max)\n",
    "    plt.plot(m_space, alpha, alpha=0.7, c='tab:blue')\n",
    "plt.plot([2, 20], [3, 3], 'k--', label='theoretical alpha')\n",
    "plt.ylim((1, 5))\n",
    "plt.xlabel('m')\n",
    "plt.ylabel('alpha')\n",
    "plt.grid()\n",
    "plt.legend()\n",
    "plt.show()"
   ]
  },
  {
   "cell_type": "markdown",
   "metadata": {
    "id": "6qY4X9v90s1u"
   },
   "source": [
    "### Task 5. Clustering coefficient in Barabasi-Albert model (3 points)"
   ]
  },
  {
   "cell_type": "markdown",
   "metadata": {
    "id": "fUKHR-O50s1u"
   },
   "source": [
    "Measure the average clustering coefficient in function of N using Barabasi-Albert model.\n",
    "\n",
    "Write a function `generate_clustering_coef` that takes np.array with list of `n` values for each graph and parameter `m`. The function generate Barabasi-Albert graphs and returns np.array of average clustering coefficients."
   ]
  },
  {
   "cell_type": "code",
   "execution_count": null,
   "metadata": {
    "deletable": false,
    "id": "Y-7hgG3N0s1v",
    "nbgrader": {
     "cell_type": "code",
     "checksum": "b958b3dc2ffa1ae6e2feb2bb89ac633b",
     "grade": false,
     "grade_id": "cell-2a87e4ac4ac2a5ed",
     "locked": false,
     "schema_version": 3,
     "solution": true,
     "task": false
    }
   },
   "outputs": [],
   "source": [
    " def generate_clustering_coef(n_list, m):\n",
    "    # YOUR CODE HERE\n",
    "    raise NotImplementedError()"
   ]
  },
  {
   "cell_type": "code",
   "execution_count": null,
   "metadata": {
    "deletable": false,
    "editable": false,
    "id": "hH7vapjV0s1v",
    "nbgrader": {
     "cell_type": "code",
     "checksum": "bac320557fd977b184d0f9a87096ecd6",
     "grade": true,
     "grade_id": "cell-50c7a11daee79154",
     "locked": true,
     "points": 3,
     "schema_version": 3,
     "solution": false,
     "task": false
    }
   },
   "outputs": [],
   "source": [
    "n_list = np.arange(100, 3100, 100)\n",
    "m = 6\n",
    "coeffs = generate_clustering_coef(n_list, m)\n",
    "assert coeffs.shape == (30,)\n",
    "X = np.log(n_list)\n",
    "X = np.stack([np.ones_like(X), X], axis=1)\n",
    "Y = np.log(coeffs)[:, None]\n",
    "assert -0.78 < (np.linalg.inv(X.T @ X) @ X.T @ Y)[1][0] < -0.63"
   ]
  },
  {
   "cell_type": "code",
   "execution_count": null,
   "metadata": {},
   "outputs": [],
   "source": [
    "n_list = np.arange(100, 3100, 100)\n",
    "m = 6\n",
    "for _ in range(3):\n",
    "    coeffs = generate_clustering_coef(n_list, m)\n",
    "    plt.plot(coeffs, c='tab:blue', alpha=0.7)\n",
    "plt.xlabel('N')\n",
    "plt.ylabel('Average clustering coefficient')\n",
    "plt.show()"
   ]
  },
  {
   "cell_type": "markdown",
   "metadata": {
    "id": "0nVccYMj0s1w"
   },
   "source": [
    "### Task 6. Degree dynamics in Barabasi-Albert model (3 points + 1 bonus)"
   ]
  },
  {
   "cell_type": "markdown",
   "metadata": {
    "id": "2-ja9ipk0s1w"
   },
   "source": [
    "Measure the degree dynamics in Barabasi-Albert model of one of the initial nodes and of the nodes added to the network at intermediate time moments (steps of the algorithm).\n",
    "\n",
    "Write a function `generate_degree_dynamics` that takes np.array with considered nodes, generates Barabasi-Albert graph ($n=3000$, $m=6$) and returns a np.array of the shape `(29, len(nodes))` — degrees of these nodes at time moments 100, 200, 300, ..., 3000. If the node does not exist yet, pass `np.nan` value.\n",
    "\n",
    "*Hint: use the `barabasi_albert_graph` function as a template*"
   ]
  },
  {
   "cell_type": "code",
   "execution_count": null,
   "metadata": {
    "deletable": false,
    "id": "Cs4p_6Ft0s1w",
    "nbgrader": {
     "cell_type": "code",
     "checksum": "fd6ddcfa9c7fc9c80f144b54cd9b0169",
     "grade": false,
     "grade_id": "cell-7df96166805a39bf",
     "locked": false,
     "schema_version": 3,
     "solution": true,
     "task": false
    }
   },
   "outputs": [],
   "source": [
    "def generate_degree_dynamics(cons_nodes):\n",
    "    # YOUR CODE HERE\n",
    "    raise NotImplementedError()"
   ]
  },
  {
   "cell_type": "code",
   "execution_count": null,
   "metadata": {
    "deletable": false,
    "editable": false,
    "id": "aVmAJAdC0s1x",
    "nbgrader": {
     "cell_type": "code",
     "checksum": "72b92785554db8025458331ebf7c9c50",
     "grade": true,
     "grade_id": "cell-b320b2b78d49c466",
     "locked": true,
     "points": 4,
     "schema_version": 3,
     "solution": false,
     "task": false
    }
   },
   "outputs": [],
   "source": [
    "degree_dynamics = generate_degree_dynamics([0, 100, 700, 2000])\n",
    "assert degree_dynamics.shape == (29, 4)\n",
    "assert np.all(np.isnan(degree_dynamics[0]) == [False, False,  True,  True])\n",
    "assert np.all(np.isnan(degree_dynamics[9]) == [False, False,  False,  True])\n",
    "assert degree_dynamics[0, 0] < degree_dynamics[-1, 0]\n",
    "assert degree_dynamics[0, 1] < degree_dynamics[-1, 1]\n",
    "assert degree_dynamics[-1, 0] > degree_dynamics[-1, 3]"
   ]
  },
  {
   "cell_type": "code",
   "execution_count": null,
   "metadata": {},
   "outputs": [],
   "source": [
    "degree_dynamics = generate_degree_dynamics([0, 100, 700, 1000])\n",
    "plt.figure(figsize=(8, 5))\n",
    "time_space = np.tile(np.arange(100, 3000, 100), (4, 1)).T\n",
    "plt.plot(time_space, degree_dynamics)\n",
    "plt.legend(['node 0', 'node 100', 'node 700', 'node 1000'])\n",
    "plt.title('Degree dynamics')\n",
    "plt.xscale('log')\n",
    "plt.yscale('log')\n",
    "plt.show()"
   ]
  },
  {
   "cell_type": "code",
   "execution_count": null,
   "metadata": {},
   "outputs": [],
   "source": []
  }
 ],
 "metadata": {
  "colab": {
   "name": "assignment.ipynb",
   "provenance": []
  },
  "kernelspec": {
   "display_name": "Python 3 (ipykernel)",
   "language": "python",
   "name": "python3"
  },
  "language_info": {
   "codemirror_mode": {
    "name": "ipython",
    "version": 3
   },
   "file_extension": ".py",
   "mimetype": "text/x-python",
   "name": "python",
   "nbconvert_exporter": "python",
   "pygments_lexer": "ipython3",
   "version": "3.10.9"
  }
 },
 "nbformat": 4,
 "nbformat_minor": 1
}
