{
 "cells": [
  {
   "cell_type": "markdown",
   "metadata": {
    "id": "6MRwVo18E5vk"
   },
   "source": [
    "# Seminar 14 - Combinatorics, Graph, Boolean Logic\n",
    "\n",
    "## Introduction to Network Science\n",
    "\n",
    "## HW 9 - Combinatorics\n",
    "\n",
    "Please, fill in before you start:\n",
    "\n",
    "First Name:\n",
    "\n",
    "Last Name:\n",
    "\n",
    "Group:\n",
    "\n",
    "### After the assigment is done, please, push it to your [private GitHub repository](https://docs.github.com/en/github/administering-a-repository/managing-repository-settings/setting-repository-visibility) and invite [Majid-Sohrabi](https://github.com/Majid-Sohrabi)  and [Sifei-Meng](https://github.com/mengsifei) as [collaborator](https://docs.github.com/en/account-and-profile/setting-up-and-managing-your-github-user-account/managing-access-to-your-personal-repositories/inviting-collaborators-to-a-personal-repository).\n",
    "\n",
    "Complete all task and send the notebook as HW.\n",
    "\n",
    "\n",
    "- Please create a private GitHub repository and add Majid and Sifei as collaborator. Commit your solution (jupyter notebook) to your github repository.\n",
    "\n",
    "- Deadline: **May 17, 2024, 11:59 pm**.\n",
    "\n",
    "- Please keep the file name but replace **YOUR_NAME** part by your name: **[HW9_Combinatorics]-YOUR_NAME**"
   ]
  },
  {
   "cell_type": "code",
   "execution_count": null,
   "metadata": {},
   "outputs": [],
   "source": [
    "# !pip install networkx"
   ]
  },
  {
   "cell_type": "code",
   "execution_count": 1,
   "metadata": {
    "id": "zbdUuSMdE5vt"
   },
   "outputs": [],
   "source": [
    "import numpy as np\n",
    "import networkx as nx\n",
    "import matplotlib.pyplot as plt\n",
    "import requests\n",
    "from zlib import adler32"
   ]
  },
  {
   "cell_type": "code",
   "execution_count": 2,
   "metadata": {},
   "outputs": [
    {
     "data": {
      "text/plain": [
       "'3.3'"
      ]
     },
     "execution_count": 2,
     "metadata": {},
     "output_type": "execute_result"
    }
   ],
   "source": [
    "nx.__version__"
   ]
  },
  {
   "cell_type": "markdown",
   "metadata": {},
   "source": [
    "In case of an exception, install networkx 2.5 using `pip` as follows:\n",
    "```\n",
    "pip uninstall networkx --yes\n",
    "pip install networkx==2.5\n",
    "```"
   ]
  },
  {
   "cell_type": "code",
   "execution_count": 3,
   "metadata": {},
   "outputs": [],
   "source": [
    "# assert nx.__version__=='2.5'\n",
    "assert nx.__version__=='3.3'"
   ]
  },
  {
   "cell_type": "markdown",
   "metadata": {
    "id": "0UY_wKuwE5vv"
   },
   "source": [
    "### Task 1. Reading a graph from a file (0.5 point)"
   ]
  },
  {
   "cell_type": "code",
   "execution_count": 4,
   "metadata": {
    "id": "lMXQdF8uE5vv"
   },
   "outputs": [],
   "source": [
    "url = 'https://raw.githubusercontent.com/network-science-course/network-science-course/main/datasets/assignment_1_task_1_part_1_edges.txt'\n",
    "open('assignment_1_task_1_part_1_edges.txt', 'wb').write(requests.get(url).content)\n",
    "\n",
    "url = 'https://raw.githubusercontent.com/network-science-course/network-science-course/main/datasets/assignment_1_task_1_part_2_adjlist.txt'\n",
    "open('assignment_1_task_1_part_2_adjlist.txt', 'wb').write(requests.get(url).content);\n"
   ]
  },
  {
   "cell_type": "markdown",
   "metadata": {
    "id": "Zv3bwzBuE5vw"
   },
   "source": [
    "Usually graph is a sparse data structure. So in most cases data is stored in sparse table formats\n",
    "1. edgelist\n",
    "2. adjlist\n",
    "\n",
    "Edgelist could be depicted as table with at least two columns: source and target. Row with values `{source: i, target: j}` shows that graph has an edge between nodes `i` and `j`.\n",
    "\n",
    "Adjlist contains index of node and list of all adjacent nodes to it.\n",
    "\n",
    "Most of other specific formats are similar except of syntax and metadata description.\n",
    "\n",
    "For most cases we can use given functions in networkx:\n",
    "\n",
    "* `nx.read_adjlist`\n",
    "* `nx.read_edgelist`\n",
    "* `nx.read_weighted_edgelist`\n",
    "\n",
    "In the further task, read two files: `assignment_1_task_1_part_1_edges.txt`, `assignment_1_task_1_part_2_adjlist.txt` and merge it in a single graph."
   ]
  },
  {
   "cell_type": "code",
   "execution_count": null,
   "metadata": {
    "deletable": false,
    "id": "upAoSVeTE5vx",
    "nbgrader": {
     "cell_type": "code",
     "checksum": "69b6b533744cfdf80a0e30f19306a364",
     "grade": false,
     "grade_id": "cell-3d2796d8ac544282",
     "locked": false,
     "schema_version": 3,
     "solution": true,
     "task": false
    }
   },
   "outputs": [],
   "source": [
    "def read_and_merge_graphs(path1, path2):\n",
    "    # YOUR CODE HERE\n",
    "    raise NotImplementedError()"
   ]
  },
  {
   "cell_type": "code",
   "execution_count": 11,
   "metadata": {
    "deletable": false,
    "editable": false,
    "id": "5IN3E0wvE5vx",
    "nbgrader": {
     "cell_type": "code",
     "checksum": "3290b7a836331f35f6db3c050345ee41",
     "grade": true,
     "grade_id": "cell-980a87cb1b6f0dbc",
     "locked": true,
     "points": 0.5,
     "schema_version": 3,
     "solution": false,
     "task": false
    }
   },
   "outputs": [],
   "source": [
    "G = read_and_merge_graphs(\"assignment_1_task_1_part_1_edges.txt\", \n",
    "                          \"assignment_1_task_1_part_2_adjlist.txt\")\n",
    "\n",
    "assert nx.number_of_nodes(G) == 504\n",
    "assert nx.number_of_edges(G) == 369"
   ]
  },
  {
   "cell_type": "markdown",
   "metadata": {
    "id": "3dpCmJlXE5vx"
   },
   "source": [
    "### Task 2. Nodes labeling (1 point) --- FOR HW"
   ]
  },
  {
   "cell_type": "markdown",
   "metadata": {
    "id": "v_lqETkjE5vy"
   },
   "source": [
    "Networkx read node names in text format by default, so it could be useful to preprocess nodes. For example by converting string in consecutive integer. For example it will help to work with operations over adjacency matrices and vectors of labels in DGL or PyG frameworks."
   ]
  },
  {
   "cell_type": "code",
   "execution_count": null,
   "metadata": {
    "colab": {
     "base_uri": "https://localhost:8080/"
    },
    "id": "T6mp0I-0E5vy",
    "outputId": "ae7ab40a-e2d4-4c88-f609-e3fe5ca3511c"
   },
   "outputs": [],
   "source": [
    "list(G.nodes)[:5]"
   ]
  },
  {
   "cell_type": "code",
   "execution_count": null,
   "metadata": {
    "deletable": false,
    "id": "Juynew15E5vy",
    "nbgrader": {
     "cell_type": "code",
     "checksum": "1cc38a3cde9d3cfc3208b4d72c77f77d",
     "grade": false,
     "grade_id": "cell-00a45e63001782dc",
     "locked": false,
     "schema_version": 3,
     "solution": true,
     "task": false
    }
   },
   "outputs": [],
   "source": [
    "def convert_node_names_to_int(G):\n",
    "    # YOUR CODE HERE\n",
    "    raise NotImplementedError()"
   ]
  },
  {
   "cell_type": "code",
   "execution_count": null,
   "metadata": {
    "deletable": false,
    "editable": false,
    "id": "uN0pbI9fE5vz",
    "nbgrader": {
     "cell_type": "code",
     "checksum": "ceaf0d5dbb444cebf067b08cd1f11ce3",
     "grade": true,
     "grade_id": "cell-8e24f330185f725a",
     "locked": true,
     "points": 1,
     "schema_version": 3,
     "solution": false,
     "task": false
    }
   },
   "outputs": [],
   "source": [
    "nodes = list(convert_node_names_to_int(G).nodes())\n",
    "\n",
    "assert sorted(nodes) == list(range(len(nodes)))"
   ]
  },
  {
   "cell_type": "markdown",
   "metadata": {
    "id": "0k0BF2SjE5vz"
   },
   "source": [
    "### Task 3. Directed graph (0.5 point)"
   ]
  },
  {
   "cell_type": "markdown",
   "metadata": {
    "id": "WyTd52DBE5vz"
   },
   "source": [
    "The direction in graphs could be crucial feature for many tasks, e.g., link analysis, link prediction.\n",
    "\n",
    "We can handle directed graphs with `nx.DiGraph` class. We can use conversion method `nx.to_directed` on the given graph or read it directly passing `nx.DiGraph` constructor to the `nx.read_*` methods."
   ]
  },
  {
   "cell_type": "code",
   "execution_count": null,
   "metadata": {
    "deletable": false,
    "id": "X7otnwPBE5v0",
    "nbgrader": {
     "cell_type": "code",
     "checksum": "29e7aba1c377ab4e0574f223f8abedde",
     "grade": false,
     "grade_id": "cell-4ff100c55840771c",
     "locked": false,
     "schema_version": 3,
     "solution": true,
     "task": false
    }
   },
   "outputs": [],
   "source": [
    "def convert_to_directed_graph(G):\n",
    "    # YOUR CODE HERE\n",
    "    raise NotImplementedError()"
   ]
  },
  {
   "cell_type": "code",
   "execution_count": null,
   "metadata": {
    "deletable": false,
    "id": "P0xXqVm9E5v0",
    "nbgrader": {
     "cell_type": "code",
     "checksum": "a759d14696a4aab31cab6ae1420ba15e",
     "grade": false,
     "grade_id": "cell-678028b3a41d774a",
     "locked": false,
     "schema_version": 3,
     "solution": true,
     "task": false
    }
   },
   "outputs": [],
   "source": [
    "def read_directed_graph(path1):\n",
    "    # YOUR CODE HERE\n",
    "    raise NotImplementedError()"
   ]
  },
  {
   "cell_type": "code",
   "execution_count": null,
   "metadata": {
    "deletable": false,
    "editable": false,
    "id": "BcSTpJ0cE5v0",
    "nbgrader": {
     "cell_type": "code",
     "checksum": "c464aa906dea7d0f7dd727388e18b637",
     "grade": true,
     "grade_id": "cell-67792dd08b2f0149",
     "locked": true,
     "points": 0.5,
     "schema_version": 3,
     "solution": false,
     "task": false
    }
   },
   "outputs": [],
   "source": [
    "assert convert_to_directed_graph(G).is_directed()\n",
    "assert read_directed_graph(\"assignment_1_task_1_part_1_edges.txt\").is_directed()"
   ]
  },
  {
   "cell_type": "markdown",
   "metadata": {
    "id": "BL_8SDLZE5v1"
   },
   "source": [
    "### Task 4. Multiple directed graph (1 point) - FOR HW"
   ]
  },
  {
   "cell_type": "markdown",
   "metadata": {
    "id": "2KuXoLNrE5v1"
   },
   "source": [
    "One more interesting graph case is the Heterogeneous Graph. It could have several edges between two nodes. For example, the airline network has as many edges, as the number of itineraries between two cities. All of these edges will have their own properties like departure and arrival time, prices and etc.\n",
    "\n",
    "For such case there is a class `nx.MultiDiGraph`\n",
    "\n",
    "In this task we will create a `nx.MultiDiGraph` with two nodes `0` and `1` and three edges between them: one from `0` to `1` and two from `1` to `0`."
   ]
  },
  {
   "cell_type": "code",
   "execution_count": null,
   "metadata": {
    "colab": {
     "base_uri": "https://localhost:8080/"
    },
    "deletable": false,
    "id": "cbRmrVamE5v1",
    "nbgrader": {
     "cell_type": "code",
     "checksum": "df47ed18b98dec985455f54ea1ab9753",
     "grade": false,
     "grade_id": "cell-66bbf015fd2e17b2",
     "locked": false,
     "schema_version": 3,
     "solution": true,
     "task": false
    },
    "outputId": "7e34abc4-4b4a-4078-9118-73d5ac1c8d47"
   },
   "outputs": [],
   "source": [
    "def create_graph_multi_digraph():\n",
    "    # YOUR CODE HERE\n",
    "    raise NotImplementedError()"
   ]
  },
  {
   "cell_type": "code",
   "execution_count": null,
   "metadata": {
    "deletable": false,
    "editable": false,
    "id": "dWOj9xPPE5v2",
    "nbgrader": {
     "cell_type": "code",
     "checksum": "8d7fb8bf76f983cebca2f66a8c7a7e18",
     "grade": true,
     "grade_id": "cell-d33184ec5e350cf2",
     "locked": true,
     "points": 1,
     "schema_version": 3,
     "solution": false,
     "task": false
    }
   },
   "outputs": [],
   "source": [
    "Gm = create_graph_multi_digraph()\n",
    "assert list(Gm.edges()) == [(0, 1), (1, 0), (1, 0)]"
   ]
  },
  {
   "cell_type": "markdown",
   "metadata": {
    "id": "AA9BfeeWE5v2"
   },
   "source": [
    "### Task 5. Basic statistics (0.7 point)"
   ]
  },
  {
   "cell_type": "markdown",
   "metadata": {
    "id": "lVuvd-eBE5v3"
   },
   "source": [
    "Networkx provides a simple interface for getting basic graph statistics:\n",
    "* `nx.radius`\n",
    "* `nx.diameter`\n",
    "* `nx.average_shortest_path_length`\n",
    "* `nx.average_clustering`\n",
    "\n",
    "For example, here are statistics of a path graph with 3 nodes:"
   ]
  },
  {
   "cell_type": "code",
   "execution_count": null,
   "metadata": {
    "colab": {
     "base_uri": "https://localhost:8080/",
     "height": 315
    },
    "id": "LGfDVyh7E5v3",
    "outputId": "5bd4555e-ce89-430e-cf28-3089ab11fd2f"
   },
   "outputs": [],
   "source": [
    "# Path graph - no cycle - each node connected to the next one\n",
    "\n",
    "G = nx.path_graph(3)\n",
    "print('Radius: ', nx.radius(G))     # from center to other nodes\n",
    "print('Diameter: ', nx.diameter(G)) # from leaves to other leaves\n",
    "print('Average shortest path length: ', nx.average_shortest_path_length(G)) # 0-->1=1, 0-->2=2, 1-->2=1 (4/3=1.33)\n",
    "print('Average clustering coefficient: ', nx.average_clustering(G))  # leaf by defult 0, for node one, 0 and 2 are not connected then it's 0\n",
    "nx.draw_networkx(G)"
   ]
  },
  {
   "cell_type": "markdown",
   "metadata": {
    "id": "52_SIlSzE5v3"
   },
   "source": [
    "Your task is to create graphs by given statistics.\n",
    "\n",
    "Write a function `graph1` that returns a graph with a radius 3 and diameter 3."
   ]
  },
  {
   "cell_type": "code",
   "execution_count": null,
   "metadata": {
    "deletable": false,
    "id": "dh1JxyreE5v3",
    "nbgrader": {
     "cell_type": "code",
     "checksum": "c84fe0f878bf1198b5cb5ac8e59208be",
     "grade": false,
     "grade_id": "cell-1b71ec27d5c70dc5",
     "locked": false,
     "schema_version": 3,
     "solution": true,
     "task": false
    }
   },
   "outputs": [],
   "source": [
    "def graph1():\n",
    "    # YOUR CODE HERE\n",
    "    raise NotImplementedError()"
   ]
  },
  {
   "cell_type": "code",
   "execution_count": null,
   "metadata": {
    "deletable": false,
    "editable": false,
    "id": "DnwYl42fE5v4",
    "nbgrader": {
     "cell_type": "code",
     "checksum": "8c4b26410d623b41f8ecb8fd66e69f4e",
     "grade": true,
     "grade_id": "cell-02d925c056e1f040",
     "locked": true,
     "points": 0.2,
     "schema_version": 3,
     "solution": false,
     "task": false
    }
   },
   "outputs": [],
   "source": [
    "G = graph1()\n",
    "assert nx.radius(G) == nx.diameter(G) == 3"
   ]
  },
  {
   "cell_type": "code",
   "execution_count": null,
   "metadata": {},
   "outputs": [],
   "source": [
    "nx.draw_networkx(G)"
   ]
  },
  {
   "cell_type": "markdown",
   "metadata": {
    "id": "qAyZlDjKE5v4"
   },
   "source": [
    "Write a function `graph2` that returns a graph with a diameter of at least 5 time greated than the average shortest path lengths."
   ]
  },
  {
   "cell_type": "code",
   "execution_count": null,
   "metadata": {
    "deletable": false,
    "id": "8DDJLV1ZE5v4",
    "nbgrader": {
     "cell_type": "code",
     "checksum": "799f8a31e39135ad10909330531c9bd1",
     "grade": false,
     "grade_id": "cell-e6b06880520f2cf7",
     "locked": false,
     "schema_version": 3,
     "solution": true,
     "task": false
    }
   },
   "outputs": [],
   "source": [
    "def graph2():\n",
    "    # YOUR CODE HERE\n",
    "    raise NotImplementedError()"
   ]
  },
  {
   "cell_type": "code",
   "execution_count": null,
   "metadata": {
    "deletable": false,
    "editable": false,
    "id": "7wUwY9bFE5v5",
    "nbgrader": {
     "cell_type": "code",
     "checksum": "b4ea60139010b7e5344c5aa336968868",
     "grade": true,
     "grade_id": "cell-a6c86b83e11199d8",
     "locked": true,
     "points": 0.2,
     "schema_version": 3,
     "solution": false,
     "task": false
    }
   },
   "outputs": [],
   "source": [
    "G = graph2()\n",
    "assert nx.diameter(G) >= 5 * nx.average_shortest_path_length(G)"
   ]
  },
  {
   "cell_type": "code",
   "execution_count": null,
   "metadata": {},
   "outputs": [],
   "source": [
    "nx.draw_networkx(G)"
   ]
  },
  {
   "cell_type": "markdown",
   "metadata": {
    "id": "JPRFoVPoE5v5"
   },
   "source": [
    "Write a function `graph3` that returns a graph with an average clustering coefficient between 0.1 and 0.11."
   ]
  },
  {
   "cell_type": "code",
   "execution_count": null,
   "metadata": {
    "deletable": false,
    "id": "yd-v7hPOE5v5",
    "nbgrader": {
     "cell_type": "code",
     "checksum": "6cb68bce05eee60aee8b3beb96ecbb80",
     "grade": false,
     "grade_id": "cell-eda0d295af4fc263",
     "locked": false,
     "schema_version": 3,
     "solution": true,
     "task": false
    }
   },
   "outputs": [],
   "source": [
    "def graph3():\n",
    "    # YOUR CODE HERE\n",
    "    raise NotImplementedError()"
   ]
  },
  {
   "cell_type": "code",
   "execution_count": null,
   "metadata": {
    "colab": {
     "base_uri": "https://localhost:8080/"
    },
    "deletable": false,
    "editable": false,
    "id": "8WwqaAjpE5v6",
    "nbgrader": {
     "cell_type": "code",
     "checksum": "85299dff92f1a8b9e40c20b9aebc24ee",
     "grade": true,
     "grade_id": "cell-d4aeb27141847c83",
     "locked": true,
     "points": 0.3,
     "schema_version": 3,
     "solution": false,
     "task": false
    },
    "outputId": "48ce1477-acf7-4275-c384-c4afc19865ba"
   },
   "outputs": [],
   "source": [
    "G = graph3()\n",
    "print(nx.average_clustering(G))\n",
    "assert 0.1 <= nx.average_clustering(G) <= 0.11"
   ]
  },
  {
   "cell_type": "code",
   "execution_count": null,
   "metadata": {},
   "outputs": [],
   "source": [
    "nx.draw_networkx(G)"
   ]
  },
  {
   "cell_type": "markdown",
   "metadata": {
    "id": "y-0mnXswE5v6"
   },
   "source": [
    "### Task 6. Graph layout (0.7 points) - FOR HW"
   ]
  },
  {
   "cell_type": "markdown",
   "metadata": {
    "id": "g1FKeqQ4E5v7"
   },
   "source": [
    "A graph layout is a dictionary with a location of every node: keys are nodes and values are x, y positions. By default in `nx.draw_networkx`, it is the spring layout — a force-directed representation of the network treating edges as springs holding nodes close, while treating nodes as repelling objects."
   ]
  },
  {
   "cell_type": "code",
   "execution_count": null,
   "metadata": {
    "colab": {
     "base_uri": "https://localhost:8080/"
    },
    "id": "9gciTBInE5v7",
    "outputId": "24b10af4-1477-42ec-90d4-41e451fdd4c8"
   },
   "outputs": [],
   "source": [
    "G = nx.barabasi_albert_graph(10, 2)\n",
    "layout = nx.spring_layout(G)\n",
    "layout"
   ]
  },
  {
   "cell_type": "code",
   "execution_count": null,
   "metadata": {
    "colab": {
     "base_uri": "https://localhost:8080/",
     "height": 248
    },
    "id": "R7B23zbWE5v8",
    "outputId": "435667e3-9c6a-4453-a783-cc03d50d80e7"
   },
   "outputs": [],
   "source": [
    "nx.draw_networkx(G, pos=layout)"
   ]
  },
  {
   "cell_type": "markdown",
   "metadata": {
    "id": "5zCLXnbsE5v9"
   },
   "source": [
    "The Kamada Kawai layout is based on path-length cost-function. Sometimes, it is quite similar to the spring layout, however a significant difference is that the spring layout is random and the Kamada Kawai is deterministic."
   ]
  },
  {
   "cell_type": "code",
   "execution_count": null,
   "metadata": {
    "colab": {
     "base_uri": "https://localhost:8080/",
     "height": 248
    },
    "id": "7oMSFqWSE5v-",
    "outputId": "b0602472-0b13-403d-d55d-c0661f20a704"
   },
   "outputs": [],
   "source": [
    "layout = nx.kamada_kawai_layout(G)\n",
    "nx.draw_networkx(G, pos=layout)"
   ]
  },
  {
   "cell_type": "markdown",
   "metadata": {
    "id": "mjVdzTXdE5v-"
   },
   "source": [
    "Circular layout allows to draw a graph where nodes are in a circle."
   ]
  },
  {
   "cell_type": "code",
   "execution_count": null,
   "metadata": {
    "colab": {
     "base_uri": "https://localhost:8080/",
     "height": 303
    },
    "id": "FyHMc0wKE5v-",
    "outputId": "ec7f52f4-8f35-4f76-d759-5c2c6179e334"
   },
   "outputs": [],
   "source": [
    "layout = nx.circular_layout(G)\n",
    "plt.figure(figsize=(5, 5))\n",
    "nx.draw_networkx(G, pos=layout)"
   ]
  },
  {
   "cell_type": "markdown",
   "metadata": {
    "id": "VXlqqMlPE5v_"
   },
   "source": [
    "Bipartite layout allows to draw bipartite graph."
   ]
  },
  {
   "cell_type": "code",
   "execution_count": null,
   "metadata": {
    "colab": {
     "base_uri": "https://localhost:8080/",
     "height": 248
    },
    "id": "Q4oIY7MZE5v_",
    "outputId": "0eba7a85-4015-4032-cbd3-8361efa2bb6e"
   },
   "outputs": [],
   "source": [
    "B = nx.Graph()\n",
    "B.add_nodes_from([1, 2, 3, 4], bipartite=0)\n",
    "B.add_nodes_from([\"a\", \"b\", \"c\"], bipartite=1)\n",
    "B.add_edges_from([(1, \"a\"), (1, \"b\"), (2, \"b\"), (2, \"c\"), (3, \"c\"), (4, \"a\")])\n",
    "layout = nx.bipartite_layout(B, [1, 2, 3, 4])\n",
    "nx.draw_networkx(B, pos=layout)"
   ]
  },
  {
   "cell_type": "markdown",
   "metadata": {
    "id": "y-YpgTN_E5wA"
   },
   "source": [
    "There are other layouts in networkx, also there are some useful parameters that you can find in documentation. Next, let us visualize a coappearance network of characters in The Matrix — a 1999 American science fiction action film written and directed by the Wachowskis. The dataset is taken from https://moviegalaxies.com/."
   ]
  },
  {
   "cell_type": "code",
   "execution_count": null,
   "metadata": {
    "id": "B9RpWmXwE5wA"
   },
   "outputs": [],
   "source": [
    "url = 'https://raw.githubusercontent.com/network-science-course/network-science-course/main/datasets/the_matrix_graph.gexf'\n",
    "open('the_matrix_graph.gexf', 'wb').write(requests.get(url).content);"
   ]
  },
  {
   "cell_type": "code",
   "execution_count": null,
   "metadata": {
    "colab": {
     "base_uri": "https://localhost:8080/",
     "height": 411
    },
    "id": "dWzrJtlyE5wA",
    "outputId": "c3be79ca-a391-437e-9d69-b2d8ea65cf95"
   },
   "outputs": [],
   "source": [
    "def get_matrix_graph():\n",
    "    G = nx.read_gexf('the_matrix_graph.gexf')\n",
    "    mapping = {}\n",
    "    for node in G.nodes:\n",
    "        mapping[node] = G.nodes[node]['label']\n",
    "    G = nx.relabel_nodes(G, mapping)\n",
    "    return G\n",
    "matrixG = get_matrix_graph()\n",
    "plt.figure(figsize=(13, 7))\n",
    "layout = nx.kamada_kawai_layout(matrixG)\n",
    "nx.draw_networkx(matrixG, pos=layout)"
   ]
  },
  {
   "cell_type": "markdown",
   "metadata": {
    "id": "8r-wQPzpE5wB"
   },
   "source": [
    "Your task is to draw the matrix graph using the kamada kawai layout with nonlinear modification to obtain a denser layout away from the NEO node. Let us define a proximity coefficient using Gaussian kernel\n",
    "\n",
    "$$\\text{coef}(i) = \\exp\\left(-\\frac{\\text{distance}^2}{2\\sigma^2}\\right)$$\n",
    "\n",
    "where a _distance_ is the Euclidean distance from the node $i$ to the NEO node, $\\sigma$ is the constant. Then the nodes should be moved towards the NEO node such that\n",
    "\n",
    "$$\\text{distance} = \\text{coef}(i) \\times \\text{distance}$$\n",
    "\n",
    "The simplest way to do it is to center the layout so that the NEO node is in x=0 y=0 and then to multiply all node positions by the proximity coefficient.\n",
    "\n",
    "Write a function `dense_neo_layout` that takes a layout, sigma and returns a new (dense) layout.\n",
    "\n",
    "_Hint: use `np.linalg.norm` to calculate Euclidean norm._"
   ]
  },
  {
   "cell_type": "code",
   "execution_count": null,
   "metadata": {
    "deletable": false,
    "id": "bG2WC9C1E5wB",
    "nbgrader": {
     "cell_type": "code",
     "checksum": "64eeeda97382494873dc80b9ad016c87",
     "grade": false,
     "grade_id": "cell-6dc95d64261dffa6",
     "locked": false,
     "schema_version": 3,
     "solution": true,
     "task": false
    }
   },
   "outputs": [],
   "source": [
    "def dense_neo_layout(layout, sigma):\n",
    "    # YOUR CODE HERE\n",
    "    raise NotImplementedError()"
   ]
  },
  {
   "cell_type": "code",
   "execution_count": null,
   "metadata": {
    "deletable": false,
    "editable": false,
    "id": "GeLNUt_VE5wC",
    "nbgrader": {
     "cell_type": "code",
     "checksum": "9f9727aa430e5fe28de63995d0bef2b1",
     "grade": true,
     "grade_id": "cell-fea67b2cc10bdbd6",
     "locked": true,
     "points": 0.7,
     "schema_version": 3,
     "solution": false,
     "task": false
    }
   },
   "outputs": [],
   "source": [
    "layout = nx.kamada_kawai_layout(matrixG)\n",
    "layout = dense_neo_layout(layout, sigma=1.5)\n",
    "assert type(layout) == dict\n",
    "assert np.all(layout['NEO'] == [0, 0])\n",
    "assert np.all(layout['REX'].round(2) == [-0.67,  0.58])\n",
    "assert adler32(str(layout['AGENT BROWN'].round(2)[0]).encode()) == 32309448"
   ]
  },
  {
   "cell_type": "code",
   "execution_count": null,
   "metadata": {},
   "outputs": [],
   "source": [
    "plt.figure(figsize=(13, 7))\n",
    "nx.draw_networkx(matrixG, layout)"
   ]
  },
  {
   "cell_type": "markdown",
   "metadata": {
    "id": "23rDt_L5E5wD"
   },
   "source": [
    "### Task 7. Nodes visualization (1 point)  - FOR HW"
   ]
  },
  {
   "cell_type": "markdown",
   "metadata": {
    "id": "Kicfq_JtE5wD"
   },
   "source": [
    "We can set a node size using `draw_networkx` with a parameter `node_size`. It should be a list of values ordered by `G.nodes`. For example, consider a simple path graph."
   ]
  },
  {
   "cell_type": "code",
   "execution_count": null,
   "metadata": {
    "colab": {
     "base_uri": "https://localhost:8080/"
    },
    "id": "ma93gkruE5wD",
    "outputId": "6c30705f-8ca4-4f5d-d1ee-73f9edd9e3ad"
   },
   "outputs": [],
   "source": [
    "G = nx.path_graph(3)\n",
    "G.nodes"
   ]
  },
  {
   "cell_type": "markdown",
   "metadata": {
    "id": "wCe_dUWlE5wE"
   },
   "source": [
    "Let us set a size 200 for the node 0, 300 for 1, 400 for 2."
   ]
  },
  {
   "cell_type": "code",
   "execution_count": null,
   "metadata": {
    "colab": {
     "base_uri": "https://localhost:8080/",
     "height": 248
    },
    "id": "n5Wd5ItvE5wE",
    "outputId": "142a4705-55c2-495d-d7ca-6b2b57123584"
   },
   "outputs": [],
   "source": [
    "layout = nx.kamada_kawai_layout(G)\n",
    "nx.draw_networkx(G, pos=layout, node_size=[200, 300, 400])"
   ]
  },
  {
   "cell_type": "markdown",
   "metadata": {
    "id": "5Sm9hVKwE5wF"
   },
   "source": [
    "To color nodes, we can use `node_color`. It should be a list of colors:\n",
    "* a tuple of float RGB 0-1 values: (red, green, blue)\n",
    "* a tuple of float RGBA 0-1 values: (red, green, blue, alpha)\n",
    "* a string — color name"
   ]
  },
  {
   "cell_type": "code",
   "execution_count": null,
   "metadata": {
    "colab": {
     "base_uri": "https://localhost:8080/",
     "height": 248
    },
    "id": "zO9RIp7uE5wF",
    "outputId": "dbfd8adf-ecc1-4683-a81e-b5ab1c6a9728"
   },
   "outputs": [],
   "source": [
    "nx.draw_networkx(\n",
    "    G,\n",
    "    pos=layout,\n",
    "    node_color=[(0.4, 0.8, 0, 0.6), (0.7, 0.4, 1, 0.6), (1, 0, 0.5, 0.6)])"
   ]
  },
  {
   "cell_type": "code",
   "execution_count": null,
   "metadata": {
    "colab": {
     "base_uri": "https://localhost:8080/",
     "height": 248
    },
    "id": "AJHKbC-ME5wG",
    "outputId": "05119fb2-2b77-4d4f-adec-d8654fcb30e0"
   },
   "outputs": [],
   "source": [
    "nx.draw_networkx(\n",
    "    G,\n",
    "    pos=layout,\n",
    "    node_color=['green', 'cyan', 'pink'])"
   ]
  },
  {
   "cell_type": "markdown",
   "metadata": {
    "id": "cbqOR194E5wG"
   },
   "source": [
    "Also we can use a colors from matplotlib colormaps. Discrete:"
   ]
  },
  {
   "cell_type": "code",
   "execution_count": null,
   "metadata": {
    "colab": {
     "base_uri": "https://localhost:8080/",
     "height": 248
    },
    "id": "qQ2VfTzmE5wG",
    "outputId": "7cb9e867-9d34-465d-d1af-ed3b8f86c66c"
   },
   "outputs": [],
   "source": [
    "colors = plt.cm.Set1.colors\n",
    "nx.draw_networkx(\n",
    "    G,\n",
    "    pos=layout,\n",
    "    node_color=[colors[0], colors[1], colors[2]])"
   ]
  },
  {
   "cell_type": "markdown",
   "metadata": {
    "id": "YQGONEaXE5wH"
   },
   "source": [
    "Or continuous:"
   ]
  },
  {
   "cell_type": "code",
   "execution_count": null,
   "metadata": {
    "colab": {
     "base_uri": "https://localhost:8080/",
     "height": 248
    },
    "id": "CcjXjVvXE5wH",
    "outputId": "1150dbbd-a67d-405a-f476-3f032fc72e81"
   },
   "outputs": [],
   "source": [
    "rainbow = plt.cm.rainbow\n",
    "nx.draw_networkx(\n",
    "    G,\n",
    "    pos=layout,\n",
    "    node_color=[rainbow(0.2), rainbow(0.8), rainbow(0.9)])"
   ]
  },
  {
   "cell_type": "markdown",
   "metadata": {
    "id": "N0nCvRxtE5wH"
   },
   "source": [
    "Another option of coloring nodes is to pass a list of single values by the `node_color` and colormap by the `cmap` parameter. In this case, the lowest value will assigned to the first color in colormap and vise versa."
   ]
  },
  {
   "cell_type": "code",
   "execution_count": null,
   "metadata": {
    "colab": {
     "base_uri": "https://localhost:8080/",
     "height": 248
    },
    "id": "0jwLWHYjE5wH",
    "outputId": "120e60db-4332-4825-8c55-cba306aee370"
   },
   "outputs": [],
   "source": [
    "nx.draw_networkx(\n",
    "    G,\n",
    "    pos=layout,\n",
    "    cmap = plt.cm.hot,\n",
    "    node_color=[1, 2, 3])"
   ]
  },
  {
   "cell_type": "markdown",
   "metadata": {
    "id": "QJ_DrnjOE5wH"
   },
   "source": [
    "We can forcibly set a color range using `vmin` and `vmax`."
   ]
  },
  {
   "cell_type": "code",
   "execution_count": null,
   "metadata": {
    "colab": {
     "base_uri": "https://localhost:8080/",
     "height": 248
    },
    "id": "0BHEjdksE5wI",
    "outputId": "1e858fc5-7a81-4f95-d184-01d9f07ce2db"
   },
   "outputs": [],
   "source": [
    "nx.draw_networkx(\n",
    "    G,\n",
    "    pos=layout,\n",
    "    cmap = plt.cm.hot,\n",
    "    node_color=[1, 2, 3],\n",
    "    vmin=0, vmax=4)"
   ]
  },
  {
   "cell_type": "markdown",
   "metadata": {
    "id": "7GsG1oTPE5wI"
   },
   "source": [
    "We can border nodes using `edgecolors` and `linewidths` parameters."
   ]
  },
  {
   "cell_type": "code",
   "execution_count": null,
   "metadata": {
    "colab": {
     "base_uri": "https://localhost:8080/",
     "height": 248
    },
    "id": "c06Xmhx_E5wI",
    "outputId": "37b82073-cfd7-4208-9316-08fa45205077"
   },
   "outputs": [],
   "source": [
    "nx.draw_networkx(\n",
    "    G=G, \n",
    "    pos=layout,\n",
    "    cmap = plt.cm.hot, \n",
    "    node_color=[1, 2, 3],\n",
    "    vmin=0, vmax=4, \n",
    "    edgecolors='black', \n",
    "    linewidths=1)"
   ]
  },
  {
   "cell_type": "markdown",
   "metadata": {
    "id": "FWKu5B5jE5wI"
   },
   "source": [
    "Your task is to adjust a size and color of nodes in the matrix graph, size and color are taken from a node degree and node attribute `G.nodes[node]`."
   ]
  },
  {
   "cell_type": "code",
   "execution_count": null,
   "metadata": {
    "colab": {
     "base_uri": "https://localhost:8080/"
    },
    "id": "L53cSRxCE5wI",
    "outputId": "e8331b74-2a30-4f33-f0c9-21bb758a3c0e"
   },
   "outputs": [],
   "source": [
    "matrixG.nodes['NEO']"
   ]
  },
  {
   "cell_type": "markdown",
   "metadata": {
    "id": "p-a0WeTmE5wJ"
   },
   "source": [
    "Write a function `drawing_nodes_params` that takes a graph and returns a dictionary with parameters for `nx.draw_networkx` of the form `{'G': graph, 'node_color': color, ...}`. Parameters should contain a graph, kamada kawai layout, node colors from `viz.color` attribute. The colors should be converted from RGB range 0-255 to RGB range 0-1. The node size is a node degree `G.degree[node]` multiplied by 100."
   ]
  },
  {
   "cell_type": "code",
   "execution_count": null,
   "metadata": {
    "deletable": false,
    "id": "3sRepXtBE5wJ",
    "nbgrader": {
     "cell_type": "code",
     "checksum": "d3bfe7db02b468e269d4baa55f8ddee0",
     "grade": false,
     "grade_id": "cell-23d41af4fdb48d3c",
     "locked": false,
     "schema_version": 3,
     "solution": true,
     "task": false
    }
   },
   "outputs": [],
   "source": [
    "def drawing_nodes_params(graph):\n",
    "    # YOUR CODE HERE\n",
    "    raise NotImplementedError()"
   ]
  },
  {
   "cell_type": "code",
   "execution_count": null,
   "metadata": {
    "deletable": false,
    "editable": false,
    "id": "_CcnvPRIE5wJ",
    "nbgrader": {
     "cell_type": "code",
     "checksum": "677f170e6be7993ee55c9db200bd8b0a",
     "grade": true,
     "grade_id": "cell-ce378d189964cb4f",
     "locked": true,
     "points": 0.5,
     "schema_version": 3,
     "solution": false,
     "task": false
    }
   },
   "outputs": [],
   "source": [
    "matrixG = get_matrix_graph()\n",
    "params = drawing_nodes_params(matrixG)\n",
    "assert type(params) == dict\n",
    "keys = ['G', 'pos', 'node_color', 'node_size']\n",
    "assert len(set(params.keys()).intersection(keys)) == 4\n",
    "assert np.all(params['node_color'][10].round(2) == [0.37, 0.79, 0.75])\n",
    "assert adler32(str(params['node_color'][0][1].round(2)).encode()) == 19071123\n",
    "assert params['node_size'][0] == 200\n",
    "assert params['node_size'][1] == 600\n",
    "assert nx.to_numpy_array(params['G']).sum() == 326.0"
   ]
  },
  {
   "cell_type": "code",
   "execution_count": null,
   "metadata": {},
   "outputs": [],
   "source": [
    "plt.figure(figsize=(13, 7))\n",
    "nx.draw_networkx(**params )"
   ]
  },
  {
   "cell_type": "markdown",
   "metadata": {
    "id": "aXr20cwEE5wJ"
   },
   "source": [
    "Sometimes, it will be useful to draw nodes in nonlinear scale. If we want to make node sizes more comparable, we can use polynomial or exponential scale. On the other hand, we can use logarithmic scale to make sizes more similar.\n",
    "\n",
    "Write a function `drawing_nodes_polyparams` that returns the same dictionary as the `drawing_nodes_params` function, but the node size is a sum of node degree in a power 3 and 10.\n",
    "\n",
    "$$\\text{size} = \\text{degree}^3 + 10$$"
   ]
  },
  {
   "cell_type": "code",
   "execution_count": null,
   "metadata": {
    "deletable": false,
    "id": "MzsV3o4QE5wK",
    "nbgrader": {
     "cell_type": "code",
     "checksum": "f89778806a9cf3b9b1d8901f98c189e8",
     "grade": false,
     "grade_id": "cell-7056cc638b9de958",
     "locked": false,
     "schema_version": 3,
     "solution": true,
     "task": false
    }
   },
   "outputs": [],
   "source": [
    "def drawing_nodes_polyparams(graph):\n",
    "    # YOUR CODE HERE\n",
    "    raise NotImplementedError()"
   ]
  },
  {
   "cell_type": "code",
   "execution_count": null,
   "metadata": {
    "deletable": false,
    "editable": false,
    "id": "wUHMmKrdE5wK",
    "nbgrader": {
     "cell_type": "code",
     "checksum": "a08834863e936e303acab781ca7b3cd1",
     "grade": true,
     "grade_id": "cell-6b4ea9133d917597",
     "locked": true,
     "points": 0.5,
     "schema_version": 3,
     "solution": false,
     "task": false
    }
   },
   "outputs": [],
   "source": [
    "matrixG = get_matrix_graph()\n",
    "params = drawing_nodes_polyparams(matrixG)\n",
    "assert type(params) == dict\n",
    "keys = ['G', 'pos', 'node_color', 'node_size']\n",
    "assert len(set(params.keys()).intersection(keys)) == 4\n",
    "assert np.all(params['node_color'][10].round(2) == [0.37, 0.79, 0.75])\n",
    "assert adler32(str(params['node_color'][0][1].round(2)).encode()) == 19071123\n",
    "assert params['node_size'][0] == 18\n",
    "assert params['node_size'][1] == 226\n",
    "assert nx.to_numpy_array(params['G']).sum() == 326.0"
   ]
  },
  {
   "cell_type": "code",
   "execution_count": null,
   "metadata": {},
   "outputs": [],
   "source": [
    "plt.figure(figsize=(13, 7))\n",
    "nx.draw_networkx(**params )"
   ]
  },
  {
   "cell_type": "markdown",
   "metadata": {
    "id": "GIFXx4xnE5wK"
   },
   "source": [
    "### Task 8. Edges visualization, weighted graphs (2 points)  - FOR HW"
   ]
  },
  {
   "cell_type": "markdown",
   "metadata": {
    "id": "hHVLDwbME5wK"
   },
   "source": [
    "We can set an edge width using `draw_networkx` with a parameter `width`. It should be a list of values sorted by G.edges. For example, consider a simple path graph."
   ]
  },
  {
   "cell_type": "code",
   "execution_count": null,
   "metadata": {
    "colab": {
     "base_uri": "https://localhost:8080/"
    },
    "id": "OG9AfAwDE5wL",
    "outputId": "0947f563-3b22-4a5d-fe7d-fa66701a4414"
   },
   "outputs": [],
   "source": [
    "G = nx.path_graph(4)\n",
    "G.edges"
   ]
  },
  {
   "cell_type": "markdown",
   "metadata": {
    "id": "vl-sFM1pE5wL"
   },
   "source": [
    "Let us set a width 1 for the edge 0-1, 5 for 1-2, 10 for 2-3."
   ]
  },
  {
   "cell_type": "code",
   "execution_count": null,
   "metadata": {
    "colab": {
     "base_uri": "https://localhost:8080/",
     "height": 248
    },
    "id": "vX55gPfyE5wL",
    "outputId": "771dc442-fec0-4767-86d2-58cd1b50cd96"
   },
   "outputs": [],
   "source": [
    "layout = nx.kamada_kawai_layout(G)\n",
    "nx.draw_networkx(G, pos=layout, width=[1, 5, 10])"
   ]
  },
  {
   "cell_type": "markdown",
   "metadata": {
    "id": "BteEkM7uE5wL"
   },
   "source": [
    "If we create a graph by a weighted ajacency matrix, weights will be stored in an edge attribute `weight`."
   ]
  },
  {
   "cell_type": "code",
   "execution_count": null,
   "metadata": {
    "id": "C_tgNaCLE5wL"
   },
   "outputs": [],
   "source": [
    "W = np.array([[0, 1, 0, 0], \n",
    "              [1, 0, 5, 0], \n",
    "              [0, 5, 0, 10], \n",
    "              [0, 0, 10, 0]])\n",
    "G = nx.from_numpy_array(W)"
   ]
  },
  {
   "cell_type": "markdown",
   "metadata": {
    "id": "I5HRgwmtE5wM"
   },
   "source": [
    "In this case, we can get a value using `G.edges[edge]` view"
   ]
  },
  {
   "cell_type": "code",
   "execution_count": null,
   "metadata": {
    "colab": {
     "base_uri": "https://localhost:8080/"
    },
    "id": "33edqz_wE5wM",
    "outputId": "20355040-9297-4fcf-c55f-c0477e61fd12"
   },
   "outputs": [],
   "source": [
    "G.edges[(0, 1)]"
   ]
  },
  {
   "cell_type": "markdown",
   "metadata": {
    "id": "-_Y8cg7iE5wM"
   },
   "source": [
    "Or we can get all values using `nx.get_edge_attributes`"
   ]
  },
  {
   "cell_type": "code",
   "execution_count": null,
   "metadata": {
    "colab": {
     "base_uri": "https://localhost:8080/"
    },
    "id": "Z-DnIeygE5wM",
    "outputId": "50cb62d2-cc37-40cc-a4c2-0b297e67e80e"
   },
   "outputs": [],
   "source": [
    "nx.get_edge_attributes(G, 'weight')"
   ]
  },
  {
   "cell_type": "code",
   "execution_count": null,
   "metadata": {
    "colab": {
     "base_uri": "https://localhost:8080/",
     "height": 248
    },
    "id": "9_XcIYxFE5wM",
    "outputId": "934dccf1-e68d-4e32-cf85-f6981eca6bf6"
   },
   "outputs": [],
   "source": [
    "weights = list(nx.get_edge_attributes(G, 'weight').values())\n",
    "nx.draw_networkx(G, pos=layout, width=weights)"
   ]
  },
  {
   "cell_type": "markdown",
   "metadata": {
    "id": "qssof4QwE5wN"
   },
   "source": [
    "If we want to apply specific color or style to some edges, it is possible by `edge_color` and `style` parameters. For example, we can draw an edge with a weight 10 as a red dotted line."
   ]
  },
  {
   "cell_type": "code",
   "execution_count": null,
   "metadata": {
    "colab": {
     "base_uri": "https://localhost:8080/",
     "height": 248
    },
    "id": "NU9PlNKUE5wN",
    "outputId": "62660364-6328-498c-efb0-ad0e7145bc65"
   },
   "outputs": [],
   "source": [
    "nx.draw_networkx(\n",
    "    G, pos=layout, \n",
    "    width=[1, 5, 10], \n",
    "    edge_color=['black', 'black', 'red'], \n",
    "    style=['solid', 'solid', 'dotted'])"
   ]
  },
  {
   "cell_type": "markdown",
   "metadata": {
    "id": "uAQt4L4WE5wN"
   },
   "source": [
    "Your task is to draw the matrix graph where an edge width is 0 if a weight is 1, otherwise it is a weight value itself. An edge color is `red` if weight is at least 5 and `black` otherwise."
   ]
  },
  {
   "cell_type": "code",
   "execution_count": null,
   "metadata": {
    "deletable": false,
    "id": "gkJFugCVE5wN",
    "nbgrader": {
     "cell_type": "code",
     "checksum": "c688adf77bad3a3ac7f1ff78019959c2",
     "grade": false,
     "grade_id": "cell-2497d776bb6eb00c",
     "locked": false,
     "schema_version": 3,
     "solution": true,
     "task": false
    }
   },
   "outputs": [],
   "source": [
    "def drawing_edges_params(graph):\n",
    "    # YOUR CODE HERE\n",
    "    raise NotImplementedError()"
   ]
  },
  {
   "cell_type": "code",
   "execution_count": null,
   "metadata": {
    "deletable": false,
    "editable": false,
    "id": "mYqs3smZE5wN",
    "nbgrader": {
     "cell_type": "code",
     "checksum": "acb0b1c24acb91289b72d036aefa3163",
     "grade": true,
     "grade_id": "cell-b220499d1d3b12af",
     "locked": true,
     "points": 2,
     "schema_version": 3,
     "solution": false,
     "task": false
    }
   },
   "outputs": [],
   "source": [
    "matrixG = get_matrix_graph()\n",
    "params = drawing_edges_params(matrixG)\n",
    "assert type(params) == dict\n",
    "keys = ['G', 'pos', 'edge_color', 'width']\n",
    "assert len(set(params.keys()).intersection(keys)) == 4\n",
    "assert nx.to_numpy_array(params['G']).sum() == 326.0\n",
    "params['width'][0] == 2.0\n",
    "assert np.array(params['width']) @ params['width'] == 508\n",
    "assert adler32(str(params['edge_color']).encode()) == 646700613"
   ]
  },
  {
   "cell_type": "code",
   "execution_count": null,
   "metadata": {},
   "outputs": [],
   "source": [
    "plt.figure(figsize=(13, 7))\n",
    "nx.draw_networkx(**params)"
   ]
  },
  {
   "cell_type": "markdown",
   "metadata": {
    "id": "myvx8jA3E5wO"
   },
   "source": [
    "### Task 9. Labels visualization (0.6 point)  - FOR HW"
   ]
  },
  {
   "cell_type": "markdown",
   "metadata": {
    "id": "-ixNomDfE5wO"
   },
   "source": [
    "In this task, we will modify some label parameters: font size, position, visibility. In networkx, we cannot pass a list of font sizes to `draw_networkx`, so we will use drawing by layers using other methods:\n",
    "* `draw_networkx_nodes` — draw the nodes only\n",
    "* `draw_networkx_edges` — draw the edges only\n",
    "* `draw_networkx_labels` — draw the node labels only\n",
    "* `nx.draw_networkx_edge_labels` — draw the edge labels only\n",
    "\n",
    "Also we can separately adjust an `alpha` value for nodes, edges, labels. Here is a simple example, let us draw a path graph with 4 nodes where the node 0 is labeled as \"a\", 3 is \"b\", the edge 1-2 is labeled as \"edge\", and edges are transparent with `alpha=0.2`."
   ]
  },
  {
   "cell_type": "code",
   "execution_count": null,
   "metadata": {
    "colab": {
     "base_uri": "https://localhost:8080/",
     "height": 248
    },
    "id": "gocSo-GKE5wO",
    "outputId": "8e4040d8-16ce-40e4-de23-c5716653caeb"
   },
   "outputs": [],
   "source": [
    "G = nx.path_graph(4)\n",
    "layout = nx.kamada_kawai_layout(G)\n",
    "nx.draw_networkx_nodes(G, pos=layout)\n",
    "nx.draw_networkx_edges(G, pos=layout, alpha=0.2)\n",
    "nx.draw_networkx_labels(G, pos=layout, labels={0: 'a', 3: 'b'})\n",
    "nx.draw_networkx_edge_labels(G, pos=layout, edge_labels={(1, 2): 'edge'})\n",
    "plt.show()"
   ]
  },
  {
   "cell_type": "markdown",
   "metadata": {
    "id": "JAX7lzdAE5wO"
   },
   "source": [
    "If we want to adjust a font size, it is possible by repeated drawing labels with different `font_size` values. For example:"
   ]
  },
  {
   "cell_type": "code",
   "execution_count": null,
   "metadata": {
    "colab": {
     "base_uri": "https://localhost:8080/",
     "height": 248
    },
    "id": "26TLjFbyE5wP",
    "outputId": "b49628aa-bba7-4ce4-9015-3c3cb7c920af"
   },
   "outputs": [],
   "source": [
    "G = nx.path_graph(4)\n",
    "layout = nx.kamada_kawai_layout(G)\n",
    "nx.draw_networkx_nodes(G, pos=layout)\n",
    "nx.draw_networkx_edges(G, pos=layout, alpha=0.2)\n",
    "nx.draw_networkx_labels(G, pos=layout, labels={3: 'b'}, font_size=10)\n",
    "nx.draw_networkx_labels(G, pos=layout, labels={0: 'a'}, font_size=20)\n",
    "nx.draw_networkx_edge_labels(G, pos=layout, edge_labels={(1, 2): 'edge'})\n",
    "plt.show()"
   ]
  },
  {
   "cell_type": "markdown",
   "metadata": {
    "id": "aBZZ_NwgE5wP"
   },
   "source": [
    "Your task is to draw the matrix graph with settings: \n",
    "* labels are invisible if a node degree less than 6\n",
    "* a font size is a node degree\n",
    "* all labels are slided down so that $y = y - 0.025 \\sqrt{\\text{degree}}$\n",
    "\n",
    "Write a function `labels_list_parameters` that takes a graph, layout and returns a list of parameters for repited drawing labels using `nx.draw_networkx_labels`. Each element of the list is a dictionary that can be passed to `nx.draw_networkx_labels`. The first dictionary is for the node degree 6, the second is for 7 and so on."
   ]
  },
  {
   "cell_type": "code",
   "execution_count": null,
   "metadata": {
    "id": "KL7J-C0uPWQr"
   },
   "outputs": [],
   "source": [
    "def labels_list_parameters(graph, layout):\n",
    "    # YOUR CODE HERE\n",
    "    raise NotImplementedError()"
   ]
  },
  {
   "cell_type": "code",
   "execution_count": null,
   "metadata": {
    "deletable": false,
    "editable": false,
    "id": "IyiPyLMZE5wP",
    "nbgrader": {
     "cell_type": "code",
     "checksum": "f805ed8aef95dae2a838d1a892f83bfe",
     "grade": true,
     "grade_id": "cell-93a09c03f82c3cfb",
     "locked": true,
     "points": 0.6,
     "schema_version": 3,
     "solution": false,
     "task": false
    }
   },
   "outputs": [],
   "source": [
    "matrixG = get_matrix_graph()\n",
    "layout = nx.kamada_kawai_layout(matrixG)\n",
    "list_params = labels_list_parameters(matrixG, layout)\n",
    "assert type(list_params) == list\n",
    "assert type(list_params[0]) == dict\n",
    "assert len(list_params) == 8\n",
    "assert nx.to_numpy_array(list_params[0]['G']).sum() == 326\n",
    "assert list_params[0]['font_size'] == 6\n",
    "assert adler32(str(np.array(list_params[7]['font_size'])).encode()) == 10027110\n",
    "assert np.all(list_params[0]['pos']['MAN'].round(2) == [-0.16, 0.05])\n",
    "assert adler32(\n",
    "    str(list_params[0]['pos']['AGENT JONES'].round(2)[1]).encode()) == 46465263\n",
    "assert adler32(\n",
    "    str(list_params[7]['pos']['NEO'].round(2)[1]).encode()) == 46792946\n",
    "assert list_params[1]['labels']['AGENT SMITH'] == 'AGENT SMITH'\n",
    "assert list_params[1]['labels'].get('AGENT JONES') is None \\\n",
    "    or list_params[1]['labels']['AGENT JONES'] == ''\n",
    "assert len([val for val in  list_params[2]['labels'].values() if val != '']) == 3"
   ]
  },
  {
   "cell_type": "code",
   "execution_count": null,
   "metadata": {},
   "outputs": [],
   "source": [
    "plt.figure(figsize=(13, 7))\n",
    "layout = nx.kamada_kawai_layout(matrixG)\n",
    "nx.draw_networkx_nodes(matrixG, pos=layout)\n",
    "nx.draw_networkx_edges(matrixG, pos=layout, alpha=0.2)\n",
    "for params in labels_list_parameters(matrixG, layout):\n",
    "    nx.draw_networkx_labels(**params)\n",
    "plt.show()"
   ]
  },
  {
   "cell_type": "markdown",
   "metadata": {
    "id": "CeYXGW2WE5wQ"
   },
   "source": [
    "### Task 10. Visible area (2 points)  - FOR HW"
   ]
  },
  {
   "cell_type": "markdown",
   "metadata": {
    "id": "ZOYfSoIaE5wQ"
   },
   "source": [
    "Drawing a large graph, it may be useful to zoom in an area near some nodes by `plt.xlim(x_min, x_max)` and `plt.ylim(y_min, y_max)` where `x_min` is a right border, `y_max` is a top border. "
   ]
  },
  {
   "cell_type": "code",
   "execution_count": null,
   "metadata": {
    "colab": {
     "base_uri": "https://localhost:8080/",
     "height": 248
    },
    "id": "oxb2QrI3E5wQ",
    "outputId": "2df19aed-a8db-48bd-9bcd-13172f2cea63"
   },
   "outputs": [],
   "source": [
    "G = nx.path_graph(4)\n",
    "layout = nx.kamada_kawai_layout(G)\n",
    "nx.draw_networkx(G, pos=layout)\n",
    "plt.xlim(-0.5, 0.5)\n",
    "plt.ylim(-0.5, 0.5)\n",
    "plt.show()"
   ]
  },
  {
   "cell_type": "markdown",
   "metadata": {
    "id": "ZjDAd46sE5wQ"
   },
   "source": [
    "Let us adjust a visible area and combine previous drawing techniques to get a more meaningful figure:\n",
    "* take a node color from the `viz.color` node attribute converting 0-255 range to 0-1 range\n",
    "* set a node size as $5\\times\\text{degree}^2$\n",
    "* take an edge width from the `weight` edge attribute\n",
    "* set an edge alpha is 0.2\n",
    "* labels are invisible if a node degree less than 6\n",
    "* set a font size as $3 \\times \\text{degree}^{2/3}$\n",
    "* set a visible area such that a lower border is NEO, higher is AGENT SMITH, left is MORHEUS, right is TANK.\n",
    "\n",
    "Write a function `get_all_params` that takes a graph and layout and returns a dictionary with keys:\n",
    "* `nodes_params` — dict, parameters for `nx.draw_networkx_nodes`\n",
    "* `edges_params` — dict, parameters for `nx.draw_networkx_edges`\n",
    "* `labels_param_list` — list of dict, parameters for `nx.draw_networkx_edges`, for degrees 6, 7 and so on\n",
    "* `area` — list of float vlues: a left, right, lower, higher borders of the visible area"
   ]
  },
  {
   "cell_type": "code",
   "execution_count": null,
   "metadata": {
    "deletable": false,
    "id": "IqSGWp20E5wQ",
    "nbgrader": {
     "cell_type": "code",
     "checksum": "44dda913e3a7cccfe3f939514195f959",
     "grade": false,
     "grade_id": "cell-563f657325a0fe0e",
     "locked": false,
     "schema_version": 3,
     "solution": true,
     "task": false
    }
   },
   "outputs": [],
   "source": [
    "def get_all_params(graph, layout):\n",
    "    # YOUR CODE HERE\n",
    "    raise NotImplementedError()"
   ]
  },
  {
   "cell_type": "code",
   "execution_count": null,
   "metadata": {
    "deletable": false,
    "editable": false,
    "id": "6QbQBq4nE5wR",
    "nbgrader": {
     "cell_type": "code",
     "checksum": "683e2e146aae7ffe3415679f0574df18",
     "grade": true,
     "grade_id": "cell-3e36285c3c4a583a",
     "locked": true,
     "points": 2,
     "schema_version": 3,
     "solution": false,
     "task": false
    }
   },
   "outputs": [],
   "source": [
    "matrixG = get_matrix_graph()\n",
    "layout = nx.kamada_kawai_layout(matrixG)\n",
    "all_params = get_all_params(matrixG, layout)\n",
    "assert type(all_params) == dict\n",
    "keys = ['nodes_params', 'edges_params', 'labels_param_list', 'area']\n",
    "assert len(set(all_params.keys()).intersection(keys)) == 4\n",
    "assert nx.to_numpy_array(all_params['nodes_params']['G']).sum() == 326\n",
    "assert np.all(all_params['nodes_params']['pos']['NEO'].round(2) == [0., -0.3])\n",
    "assert np.all(all_params['nodes_params']['node_color'][4].round(2) == [1., 0.86, 0.4])\n",
    "assert all_params['nodes_params']['node_size'][10] == 20\n",
    "assert nx.to_numpy_array(all_params['edges_params']['G']).sum() == 326\n",
    "assert np.all(all_params['edges_params']['pos']['NEO'].round(2) == [0. , -0.3])\n",
    "assert all_params['edges_params']['alpha'] == 0.2\n",
    "assert all_params['edges_params']['width'][20] == 2\n",
    "assert type(all_params['labels_param_list']) == list\n",
    "assert nx.to_numpy_array(all_params['labels_param_list'][0]['G']).sum() == 326\n",
    "assert np.all(all_params['labels_param_list'][5]['pos']['NEO'].round(2) == [0. , -0.3])\n",
    "assert all_params['labels_param_list'][5]['labels'].get('WOMAN') is None \\\n",
    "    or all_params['labels_param_list'][5]['labels']['WOMAN'] == ''\n",
    "assert round(all_params['labels_param_list'][2]['font_size'], 4) == 12\n",
    "assert all_params['area'][0] < all_params['area'][1]\n",
    "assert all_params['area'][2] < all_params['area'][3]"
   ]
  },
  {
   "cell_type": "code",
   "execution_count": null,
   "metadata": {},
   "outputs": [],
   "source": [
    "plt.figure(figsize=(10, 7))\n",
    "nx.draw_networkx_nodes(**all_params['nodes_params'])\n",
    "nx.draw_networkx_edges(**all_params['edges_params'])\n",
    "for params in all_params['labels_param_list']:\n",
    "    nx.draw_networkx_labels(**params)\n",
    "plt.xlim(all_params['area'][0] - 0.15, all_params['area'][1] + 0.1)\n",
    "plt.ylim(all_params['area'][2] - 0.10, all_params['area'][3] + 0.1)\n",
    "plt.show()"
   ]
  },
  {
   "cell_type": "code",
   "execution_count": null,
   "metadata": {},
   "outputs": [],
   "source": []
  }
 ],
 "metadata": {
  "colab": {
   "collapsed_sections": [
    "0UY_wKuwE5vv",
    "3dpCmJlXE5vx",
    "0k0BF2SjE5vz",
    "BL_8SDLZE5v1",
    "AA9BfeeWE5v2",
    "23rDt_L5E5wD",
    "GIFXx4xnE5wK",
    "myvx8jA3E5wO",
    "CeYXGW2WE5wQ"
   ],
   "name": "assignment.ipynb",
   "provenance": []
  },
  "kernelspec": {
   "display_name": "Python 3 (ipykernel)",
   "language": "python",
   "name": "python3"
  },
  "language_info": {
   "codemirror_mode": {
    "name": "ipython",
    "version": 3
   },
   "file_extension": ".py",
   "mimetype": "text/x-python",
   "name": "python",
   "nbconvert_exporter": "python",
   "pygments_lexer": "ipython3",
   "version": "3.10.9"
  }
 },
 "nbformat": 4,
 "nbformat_minor": 1
}
